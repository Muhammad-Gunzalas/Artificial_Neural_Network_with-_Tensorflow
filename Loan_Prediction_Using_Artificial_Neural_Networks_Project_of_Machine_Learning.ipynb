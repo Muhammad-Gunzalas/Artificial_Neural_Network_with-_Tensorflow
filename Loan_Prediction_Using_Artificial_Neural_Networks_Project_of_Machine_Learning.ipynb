{
  "cells": [
    {
      "cell_type": "markdown",
      "metadata": {
        "id": "view-in-github",
        "colab_type": "text"
      },
      "source": [
        "<a href=\"https://colab.research.google.com/github/Muhammad-Gunzalas/Artificial_Neural_Network_with-_Tensorflow/blob/main/Loan_Prediction_Using_Artificial_Neural_Networks_Project_of_Machine_Learning.ipynb\" target=\"_parent\"><img src=\"https://colab.research.google.com/assets/colab-badge.svg\" alt=\"Open In Colab\"/></a>"
      ]
    },
    {
      "cell_type": "code",
      "execution_count": 1548,
      "id": "2dffda52",
      "metadata": {
        "id": "2dffda52"
      },
      "outputs": [],
      "source": [
        "import pandas as pd"
      ]
    },
    {
      "cell_type": "code",
      "execution_count": 1549,
      "id": "4972b3c4",
      "metadata": {
        "id": "4972b3c4"
      },
      "outputs": [],
      "source": [
        "data=pd.read_csv(\"/content/loan_data.csv\")"
      ]
    },
    {
      "cell_type": "code",
      "execution_count": 1550,
      "id": "bef8aadc",
      "metadata": {
        "colab": {
          "base_uri": "https://localhost:8080/",
          "height": 423
        },
        "id": "bef8aadc",
        "outputId": "2263cce6-e4c9-4064-9a62-05761fd4940c"
      },
      "outputs": [
        {
          "output_type": "execute_result",
          "data": {
            "text/plain": [
              "      Loan_ID  Gender Married Dependents     Education Self_Employed  \\\n",
              "0    LP001002    Male      No          0      Graduate            No   \n",
              "1    LP001003    Male     Yes          1      Graduate            No   \n",
              "2    LP001005    Male     Yes          0      Graduate           Yes   \n",
              "3    LP001006    Male     Yes          0  Not Graduate            No   \n",
              "4    LP001008    Male      No          0      Graduate            No   \n",
              "..        ...     ...     ...        ...           ...           ...   \n",
              "609  LP002978  Female      No          0      Graduate            No   \n",
              "610  LP002979    Male     Yes         3+      Graduate            No   \n",
              "611  LP002983    Male     Yes          1      Graduate            No   \n",
              "612  LP002984    Male     Yes          2      Graduate            No   \n",
              "613  LP002990  Female      No          0      Graduate           Yes   \n",
              "\n",
              "     ApplicantIncome  CoapplicantIncome  LoanAmount  Loan_Amount_Term  \\\n",
              "0               5849                0.0         NaN             360.0   \n",
              "1               4583             1508.0       128.0             360.0   \n",
              "2               3000                0.0        66.0             360.0   \n",
              "3               2583             2358.0       120.0             360.0   \n",
              "4               6000                0.0       141.0             360.0   \n",
              "..               ...                ...         ...               ...   \n",
              "609             2900                0.0        71.0             360.0   \n",
              "610             4106                0.0        40.0             180.0   \n",
              "611             8072              240.0       253.0             360.0   \n",
              "612             7583                0.0       187.0             360.0   \n",
              "613             4583                0.0       133.0             360.0   \n",
              "\n",
              "     Credit_History Property_Area Loan_Status  \n",
              "0               1.0         Urban           Y  \n",
              "1               1.0         Rural           N  \n",
              "2               1.0         Urban           Y  \n",
              "3               1.0         Urban           Y  \n",
              "4               1.0         Urban           Y  \n",
              "..              ...           ...         ...  \n",
              "609             1.0         Rural           Y  \n",
              "610             1.0         Rural           Y  \n",
              "611             1.0         Urban           Y  \n",
              "612             1.0         Urban           Y  \n",
              "613             0.0     Semiurban           N  \n",
              "\n",
              "[614 rows x 13 columns]"
            ],
            "text/html": [
              "\n",
              "  <div id=\"df-46325dc8-3495-41bb-a326-75acc3477c95\">\n",
              "    <div class=\"colab-df-container\">\n",
              "      <div>\n",
              "<style scoped>\n",
              "    .dataframe tbody tr th:only-of-type {\n",
              "        vertical-align: middle;\n",
              "    }\n",
              "\n",
              "    .dataframe tbody tr th {\n",
              "        vertical-align: top;\n",
              "    }\n",
              "\n",
              "    .dataframe thead th {\n",
              "        text-align: right;\n",
              "    }\n",
              "</style>\n",
              "<table border=\"1\" class=\"dataframe\">\n",
              "  <thead>\n",
              "    <tr style=\"text-align: right;\">\n",
              "      <th></th>\n",
              "      <th>Loan_ID</th>\n",
              "      <th>Gender</th>\n",
              "      <th>Married</th>\n",
              "      <th>Dependents</th>\n",
              "      <th>Education</th>\n",
              "      <th>Self_Employed</th>\n",
              "      <th>ApplicantIncome</th>\n",
              "      <th>CoapplicantIncome</th>\n",
              "      <th>LoanAmount</th>\n",
              "      <th>Loan_Amount_Term</th>\n",
              "      <th>Credit_History</th>\n",
              "      <th>Property_Area</th>\n",
              "      <th>Loan_Status</th>\n",
              "    </tr>\n",
              "  </thead>\n",
              "  <tbody>\n",
              "    <tr>\n",
              "      <th>0</th>\n",
              "      <td>LP001002</td>\n",
              "      <td>Male</td>\n",
              "      <td>No</td>\n",
              "      <td>0</td>\n",
              "      <td>Graduate</td>\n",
              "      <td>No</td>\n",
              "      <td>5849</td>\n",
              "      <td>0.0</td>\n",
              "      <td>NaN</td>\n",
              "      <td>360.0</td>\n",
              "      <td>1.0</td>\n",
              "      <td>Urban</td>\n",
              "      <td>Y</td>\n",
              "    </tr>\n",
              "    <tr>\n",
              "      <th>1</th>\n",
              "      <td>LP001003</td>\n",
              "      <td>Male</td>\n",
              "      <td>Yes</td>\n",
              "      <td>1</td>\n",
              "      <td>Graduate</td>\n",
              "      <td>No</td>\n",
              "      <td>4583</td>\n",
              "      <td>1508.0</td>\n",
              "      <td>128.0</td>\n",
              "      <td>360.0</td>\n",
              "      <td>1.0</td>\n",
              "      <td>Rural</td>\n",
              "      <td>N</td>\n",
              "    </tr>\n",
              "    <tr>\n",
              "      <th>2</th>\n",
              "      <td>LP001005</td>\n",
              "      <td>Male</td>\n",
              "      <td>Yes</td>\n",
              "      <td>0</td>\n",
              "      <td>Graduate</td>\n",
              "      <td>Yes</td>\n",
              "      <td>3000</td>\n",
              "      <td>0.0</td>\n",
              "      <td>66.0</td>\n",
              "      <td>360.0</td>\n",
              "      <td>1.0</td>\n",
              "      <td>Urban</td>\n",
              "      <td>Y</td>\n",
              "    </tr>\n",
              "    <tr>\n",
              "      <th>3</th>\n",
              "      <td>LP001006</td>\n",
              "      <td>Male</td>\n",
              "      <td>Yes</td>\n",
              "      <td>0</td>\n",
              "      <td>Not Graduate</td>\n",
              "      <td>No</td>\n",
              "      <td>2583</td>\n",
              "      <td>2358.0</td>\n",
              "      <td>120.0</td>\n",
              "      <td>360.0</td>\n",
              "      <td>1.0</td>\n",
              "      <td>Urban</td>\n",
              "      <td>Y</td>\n",
              "    </tr>\n",
              "    <tr>\n",
              "      <th>4</th>\n",
              "      <td>LP001008</td>\n",
              "      <td>Male</td>\n",
              "      <td>No</td>\n",
              "      <td>0</td>\n",
              "      <td>Graduate</td>\n",
              "      <td>No</td>\n",
              "      <td>6000</td>\n",
              "      <td>0.0</td>\n",
              "      <td>141.0</td>\n",
              "      <td>360.0</td>\n",
              "      <td>1.0</td>\n",
              "      <td>Urban</td>\n",
              "      <td>Y</td>\n",
              "    </tr>\n",
              "    <tr>\n",
              "      <th>...</th>\n",
              "      <td>...</td>\n",
              "      <td>...</td>\n",
              "      <td>...</td>\n",
              "      <td>...</td>\n",
              "      <td>...</td>\n",
              "      <td>...</td>\n",
              "      <td>...</td>\n",
              "      <td>...</td>\n",
              "      <td>...</td>\n",
              "      <td>...</td>\n",
              "      <td>...</td>\n",
              "      <td>...</td>\n",
              "      <td>...</td>\n",
              "    </tr>\n",
              "    <tr>\n",
              "      <th>609</th>\n",
              "      <td>LP002978</td>\n",
              "      <td>Female</td>\n",
              "      <td>No</td>\n",
              "      <td>0</td>\n",
              "      <td>Graduate</td>\n",
              "      <td>No</td>\n",
              "      <td>2900</td>\n",
              "      <td>0.0</td>\n",
              "      <td>71.0</td>\n",
              "      <td>360.0</td>\n",
              "      <td>1.0</td>\n",
              "      <td>Rural</td>\n",
              "      <td>Y</td>\n",
              "    </tr>\n",
              "    <tr>\n",
              "      <th>610</th>\n",
              "      <td>LP002979</td>\n",
              "      <td>Male</td>\n",
              "      <td>Yes</td>\n",
              "      <td>3+</td>\n",
              "      <td>Graduate</td>\n",
              "      <td>No</td>\n",
              "      <td>4106</td>\n",
              "      <td>0.0</td>\n",
              "      <td>40.0</td>\n",
              "      <td>180.0</td>\n",
              "      <td>1.0</td>\n",
              "      <td>Rural</td>\n",
              "      <td>Y</td>\n",
              "    </tr>\n",
              "    <tr>\n",
              "      <th>611</th>\n",
              "      <td>LP002983</td>\n",
              "      <td>Male</td>\n",
              "      <td>Yes</td>\n",
              "      <td>1</td>\n",
              "      <td>Graduate</td>\n",
              "      <td>No</td>\n",
              "      <td>8072</td>\n",
              "      <td>240.0</td>\n",
              "      <td>253.0</td>\n",
              "      <td>360.0</td>\n",
              "      <td>1.0</td>\n",
              "      <td>Urban</td>\n",
              "      <td>Y</td>\n",
              "    </tr>\n",
              "    <tr>\n",
              "      <th>612</th>\n",
              "      <td>LP002984</td>\n",
              "      <td>Male</td>\n",
              "      <td>Yes</td>\n",
              "      <td>2</td>\n",
              "      <td>Graduate</td>\n",
              "      <td>No</td>\n",
              "      <td>7583</td>\n",
              "      <td>0.0</td>\n",
              "      <td>187.0</td>\n",
              "      <td>360.0</td>\n",
              "      <td>1.0</td>\n",
              "      <td>Urban</td>\n",
              "      <td>Y</td>\n",
              "    </tr>\n",
              "    <tr>\n",
              "      <th>613</th>\n",
              "      <td>LP002990</td>\n",
              "      <td>Female</td>\n",
              "      <td>No</td>\n",
              "      <td>0</td>\n",
              "      <td>Graduate</td>\n",
              "      <td>Yes</td>\n",
              "      <td>4583</td>\n",
              "      <td>0.0</td>\n",
              "      <td>133.0</td>\n",
              "      <td>360.0</td>\n",
              "      <td>0.0</td>\n",
              "      <td>Semiurban</td>\n",
              "      <td>N</td>\n",
              "    </tr>\n",
              "  </tbody>\n",
              "</table>\n",
              "<p>614 rows × 13 columns</p>\n",
              "</div>\n",
              "      <button class=\"colab-df-convert\" onclick=\"convertToInteractive('df-46325dc8-3495-41bb-a326-75acc3477c95')\"\n",
              "              title=\"Convert this dataframe to an interactive table.\"\n",
              "              style=\"display:none;\">\n",
              "        \n",
              "  <svg xmlns=\"http://www.w3.org/2000/svg\" height=\"24px\"viewBox=\"0 0 24 24\"\n",
              "       width=\"24px\">\n",
              "    <path d=\"M0 0h24v24H0V0z\" fill=\"none\"/>\n",
              "    <path d=\"M18.56 5.44l.94 2.06.94-2.06 2.06-.94-2.06-.94-.94-2.06-.94 2.06-2.06.94zm-11 1L8.5 8.5l.94-2.06 2.06-.94-2.06-.94L8.5 2.5l-.94 2.06-2.06.94zm10 10l.94 2.06.94-2.06 2.06-.94-2.06-.94-.94-2.06-.94 2.06-2.06.94z\"/><path d=\"M17.41 7.96l-1.37-1.37c-.4-.4-.92-.59-1.43-.59-.52 0-1.04.2-1.43.59L10.3 9.45l-7.72 7.72c-.78.78-.78 2.05 0 2.83L4 21.41c.39.39.9.59 1.41.59.51 0 1.02-.2 1.41-.59l7.78-7.78 2.81-2.81c.8-.78.8-2.07 0-2.86zM5.41 20L4 18.59l7.72-7.72 1.47 1.35L5.41 20z\"/>\n",
              "  </svg>\n",
              "      </button>\n",
              "      \n",
              "  <style>\n",
              "    .colab-df-container {\n",
              "      display:flex;\n",
              "      flex-wrap:wrap;\n",
              "      gap: 12px;\n",
              "    }\n",
              "\n",
              "    .colab-df-convert {\n",
              "      background-color: #E8F0FE;\n",
              "      border: none;\n",
              "      border-radius: 50%;\n",
              "      cursor: pointer;\n",
              "      display: none;\n",
              "      fill: #1967D2;\n",
              "      height: 32px;\n",
              "      padding: 0 0 0 0;\n",
              "      width: 32px;\n",
              "    }\n",
              "\n",
              "    .colab-df-convert:hover {\n",
              "      background-color: #E2EBFA;\n",
              "      box-shadow: 0px 1px 2px rgba(60, 64, 67, 0.3), 0px 1px 3px 1px rgba(60, 64, 67, 0.15);\n",
              "      fill: #174EA6;\n",
              "    }\n",
              "\n",
              "    [theme=dark] .colab-df-convert {\n",
              "      background-color: #3B4455;\n",
              "      fill: #D2E3FC;\n",
              "    }\n",
              "\n",
              "    [theme=dark] .colab-df-convert:hover {\n",
              "      background-color: #434B5C;\n",
              "      box-shadow: 0px 1px 3px 1px rgba(0, 0, 0, 0.15);\n",
              "      filter: drop-shadow(0px 1px 2px rgba(0, 0, 0, 0.3));\n",
              "      fill: #FFFFFF;\n",
              "    }\n",
              "  </style>\n",
              "\n",
              "      <script>\n",
              "        const buttonEl =\n",
              "          document.querySelector('#df-46325dc8-3495-41bb-a326-75acc3477c95 button.colab-df-convert');\n",
              "        buttonEl.style.display =\n",
              "          google.colab.kernel.accessAllowed ? 'block' : 'none';\n",
              "\n",
              "        async function convertToInteractive(key) {\n",
              "          const element = document.querySelector('#df-46325dc8-3495-41bb-a326-75acc3477c95');\n",
              "          const dataTable =\n",
              "            await google.colab.kernel.invokeFunction('convertToInteractive',\n",
              "                                                     [key], {});\n",
              "          if (!dataTable) return;\n",
              "\n",
              "          const docLinkHtml = 'Like what you see? Visit the ' +\n",
              "            '<a target=\"_blank\" href=https://colab.research.google.com/notebooks/data_table.ipynb>data table notebook</a>'\n",
              "            + ' to learn more about interactive tables.';\n",
              "          element.innerHTML = '';\n",
              "          dataTable['output_type'] = 'display_data';\n",
              "          await google.colab.output.renderOutput(dataTable, element);\n",
              "          const docLink = document.createElement('div');\n",
              "          docLink.innerHTML = docLinkHtml;\n",
              "          element.appendChild(docLink);\n",
              "        }\n",
              "      </script>\n",
              "    </div>\n",
              "  </div>\n",
              "  "
            ]
          },
          "metadata": {},
          "execution_count": 1550
        }
      ],
      "source": [
        "data"
      ]
    },
    {
      "cell_type": "code",
      "execution_count": 1551,
      "id": "fd6dd70b",
      "metadata": {
        "colab": {
          "base_uri": "https://localhost:8080/"
        },
        "id": "fd6dd70b",
        "outputId": "20e72f3a-95f5-4bc4-c901-c11f6d9542de"
      },
      "outputs": [
        {
          "output_type": "execute_result",
          "data": {
            "text/plain": [
              "Loan_ID               0\n",
              "Gender               13\n",
              "Married               3\n",
              "Dependents           15\n",
              "Education             0\n",
              "Self_Employed        32\n",
              "ApplicantIncome       0\n",
              "CoapplicantIncome     0\n",
              "LoanAmount           22\n",
              "Loan_Amount_Term     14\n",
              "Credit_History       50\n",
              "Property_Area         0\n",
              "Loan_Status           0\n",
              "dtype: int64"
            ]
          },
          "metadata": {},
          "execution_count": 1551
        }
      ],
      "source": [
        "data.isnull().sum()"
      ]
    },
    {
      "cell_type": "code",
      "execution_count": 1552,
      "id": "a03740d9",
      "metadata": {
        "id": "a03740d9"
      },
      "outputs": [],
      "source": [
        "data['Gender'].fillna(data['Gender'].mode()[0],inplace=True)\n",
        "data['Married'].fillna(data['Married'].mode()[0],inplace=True)\n",
        "data['Dependents'].fillna(data['Dependents'].mode()[0],inplace=True)\n",
        "data['Self_Employed'].fillna(data['Self_Employed'].mode()[0],inplace=True)\n",
        "data['LoanAmount'].fillna(data['LoanAmount'].mean(),inplace=True)\n",
        "data['Loan_Amount_Term'].fillna(data['Loan_Amount_Term'].mean(),inplace=True)\n",
        "data['Credit_History'].fillna(data['Credit_History'].mode()[0],inplace=True)"
      ]
    },
    {
      "cell_type": "code",
      "execution_count": 1553,
      "id": "4b704006",
      "metadata": {
        "colab": {
          "base_uri": "https://localhost:8080/"
        },
        "id": "4b704006",
        "outputId": "c897a714-74f2-468b-9ef8-3d785c3a92e4"
      },
      "outputs": [
        {
          "output_type": "execute_result",
          "data": {
            "text/plain": [
              "Loan_ID              0\n",
              "Gender               0\n",
              "Married              0\n",
              "Dependents           0\n",
              "Education            0\n",
              "Self_Employed        0\n",
              "ApplicantIncome      0\n",
              "CoapplicantIncome    0\n",
              "LoanAmount           0\n",
              "Loan_Amount_Term     0\n",
              "Credit_History       0\n",
              "Property_Area        0\n",
              "Loan_Status          0\n",
              "dtype: int64"
            ]
          },
          "metadata": {},
          "execution_count": 1553
        }
      ],
      "source": [
        "data.isnull().sum()"
      ]
    },
    {
      "cell_type": "code",
      "execution_count": 1554,
      "id": "0bcb8e32",
      "metadata": {
        "colab": {
          "base_uri": "https://localhost:8080/"
        },
        "id": "0bcb8e32",
        "outputId": "9284bee5-edd2-4ad1-b553-47c05d694076"
      },
      "outputs": [
        {
          "output_type": "execute_result",
          "data": {
            "text/plain": [
              "Index(['Loan_ID', 'Gender', 'Married', 'Dependents', 'Education',\n",
              "       'Self_Employed', 'ApplicantIncome', 'CoapplicantIncome', 'LoanAmount',\n",
              "       'Loan_Amount_Term', 'Credit_History', 'Property_Area', 'Loan_Status'],\n",
              "      dtype='object')"
            ]
          },
          "metadata": {},
          "execution_count": 1554
        }
      ],
      "source": [
        "data.columns"
      ]
    },
    {
      "cell_type": "code",
      "execution_count": 1555,
      "id": "16c1aea1",
      "metadata": {
        "colab": {
          "base_uri": "https://localhost:8080/"
        },
        "id": "16c1aea1",
        "outputId": "a012d7c7-d8d0-452e-b8c7-d9a1d388adc6"
      },
      "outputs": [
        {
          "output_type": "execute_result",
          "data": {
            "text/plain": [
              "Male      502\n",
              "Female    112\n",
              "Name: Gender, dtype: int64"
            ]
          },
          "metadata": {},
          "execution_count": 1555
        }
      ],
      "source": [
        "data['Gender'].value_counts()"
      ]
    },
    {
      "cell_type": "code",
      "execution_count": 1556,
      "id": "0b57d85b",
      "metadata": {
        "id": "0b57d85b"
      },
      "outputs": [],
      "source": [
        "data['Gender']=data['Gender'].map({'Male':0,'Female':1})"
      ]
    },
    {
      "cell_type": "code",
      "execution_count": 1557,
      "id": "f7137a73",
      "metadata": {
        "colab": {
          "base_uri": "https://localhost:8080/"
        },
        "id": "f7137a73",
        "outputId": "6843554f-db85-451f-f987-69aa81c3e777"
      },
      "outputs": [
        {
          "output_type": "execute_result",
          "data": {
            "text/plain": [
              "0    502\n",
              "1    112\n",
              "Name: Gender, dtype: int64"
            ]
          },
          "metadata": {},
          "execution_count": 1557
        }
      ],
      "source": [
        "data['Gender'].value_counts()"
      ]
    },
    {
      "cell_type": "code",
      "execution_count": 1558,
      "id": "6d1841f5",
      "metadata": {
        "colab": {
          "base_uri": "https://localhost:8080/",
          "height": 206
        },
        "id": "6d1841f5",
        "outputId": "e43a0dbe-f4e7-42bb-cfda-08002fabb4b5"
      },
      "outputs": [
        {
          "output_type": "execute_result",
          "data": {
            "text/plain": [
              "    Loan_ID  Gender Married Dependents     Education Self_Employed  \\\n",
              "0  LP001002       0      No          0      Graduate            No   \n",
              "1  LP001003       0     Yes          1      Graduate            No   \n",
              "2  LP001005       0     Yes          0      Graduate           Yes   \n",
              "3  LP001006       0     Yes          0  Not Graduate            No   \n",
              "4  LP001008       0      No          0      Graduate            No   \n",
              "\n",
              "   ApplicantIncome  CoapplicantIncome  LoanAmount  Loan_Amount_Term  \\\n",
              "0             5849                0.0  146.412162             360.0   \n",
              "1             4583             1508.0  128.000000             360.0   \n",
              "2             3000                0.0   66.000000             360.0   \n",
              "3             2583             2358.0  120.000000             360.0   \n",
              "4             6000                0.0  141.000000             360.0   \n",
              "\n",
              "   Credit_History Property_Area Loan_Status  \n",
              "0             1.0         Urban           Y  \n",
              "1             1.0         Rural           N  \n",
              "2             1.0         Urban           Y  \n",
              "3             1.0         Urban           Y  \n",
              "4             1.0         Urban           Y  "
            ],
            "text/html": [
              "\n",
              "  <div id=\"df-b7bb9569-6425-4897-9bb3-60d97145e07d\">\n",
              "    <div class=\"colab-df-container\">\n",
              "      <div>\n",
              "<style scoped>\n",
              "    .dataframe tbody tr th:only-of-type {\n",
              "        vertical-align: middle;\n",
              "    }\n",
              "\n",
              "    .dataframe tbody tr th {\n",
              "        vertical-align: top;\n",
              "    }\n",
              "\n",
              "    .dataframe thead th {\n",
              "        text-align: right;\n",
              "    }\n",
              "</style>\n",
              "<table border=\"1\" class=\"dataframe\">\n",
              "  <thead>\n",
              "    <tr style=\"text-align: right;\">\n",
              "      <th></th>\n",
              "      <th>Loan_ID</th>\n",
              "      <th>Gender</th>\n",
              "      <th>Married</th>\n",
              "      <th>Dependents</th>\n",
              "      <th>Education</th>\n",
              "      <th>Self_Employed</th>\n",
              "      <th>ApplicantIncome</th>\n",
              "      <th>CoapplicantIncome</th>\n",
              "      <th>LoanAmount</th>\n",
              "      <th>Loan_Amount_Term</th>\n",
              "      <th>Credit_History</th>\n",
              "      <th>Property_Area</th>\n",
              "      <th>Loan_Status</th>\n",
              "    </tr>\n",
              "  </thead>\n",
              "  <tbody>\n",
              "    <tr>\n",
              "      <th>0</th>\n",
              "      <td>LP001002</td>\n",
              "      <td>0</td>\n",
              "      <td>No</td>\n",
              "      <td>0</td>\n",
              "      <td>Graduate</td>\n",
              "      <td>No</td>\n",
              "      <td>5849</td>\n",
              "      <td>0.0</td>\n",
              "      <td>146.412162</td>\n",
              "      <td>360.0</td>\n",
              "      <td>1.0</td>\n",
              "      <td>Urban</td>\n",
              "      <td>Y</td>\n",
              "    </tr>\n",
              "    <tr>\n",
              "      <th>1</th>\n",
              "      <td>LP001003</td>\n",
              "      <td>0</td>\n",
              "      <td>Yes</td>\n",
              "      <td>1</td>\n",
              "      <td>Graduate</td>\n",
              "      <td>No</td>\n",
              "      <td>4583</td>\n",
              "      <td>1508.0</td>\n",
              "      <td>128.000000</td>\n",
              "      <td>360.0</td>\n",
              "      <td>1.0</td>\n",
              "      <td>Rural</td>\n",
              "      <td>N</td>\n",
              "    </tr>\n",
              "    <tr>\n",
              "      <th>2</th>\n",
              "      <td>LP001005</td>\n",
              "      <td>0</td>\n",
              "      <td>Yes</td>\n",
              "      <td>0</td>\n",
              "      <td>Graduate</td>\n",
              "      <td>Yes</td>\n",
              "      <td>3000</td>\n",
              "      <td>0.0</td>\n",
              "      <td>66.000000</td>\n",
              "      <td>360.0</td>\n",
              "      <td>1.0</td>\n",
              "      <td>Urban</td>\n",
              "      <td>Y</td>\n",
              "    </tr>\n",
              "    <tr>\n",
              "      <th>3</th>\n",
              "      <td>LP001006</td>\n",
              "      <td>0</td>\n",
              "      <td>Yes</td>\n",
              "      <td>0</td>\n",
              "      <td>Not Graduate</td>\n",
              "      <td>No</td>\n",
              "      <td>2583</td>\n",
              "      <td>2358.0</td>\n",
              "      <td>120.000000</td>\n",
              "      <td>360.0</td>\n",
              "      <td>1.0</td>\n",
              "      <td>Urban</td>\n",
              "      <td>Y</td>\n",
              "    </tr>\n",
              "    <tr>\n",
              "      <th>4</th>\n",
              "      <td>LP001008</td>\n",
              "      <td>0</td>\n",
              "      <td>No</td>\n",
              "      <td>0</td>\n",
              "      <td>Graduate</td>\n",
              "      <td>No</td>\n",
              "      <td>6000</td>\n",
              "      <td>0.0</td>\n",
              "      <td>141.000000</td>\n",
              "      <td>360.0</td>\n",
              "      <td>1.0</td>\n",
              "      <td>Urban</td>\n",
              "      <td>Y</td>\n",
              "    </tr>\n",
              "  </tbody>\n",
              "</table>\n",
              "</div>\n",
              "      <button class=\"colab-df-convert\" onclick=\"convertToInteractive('df-b7bb9569-6425-4897-9bb3-60d97145e07d')\"\n",
              "              title=\"Convert this dataframe to an interactive table.\"\n",
              "              style=\"display:none;\">\n",
              "        \n",
              "  <svg xmlns=\"http://www.w3.org/2000/svg\" height=\"24px\"viewBox=\"0 0 24 24\"\n",
              "       width=\"24px\">\n",
              "    <path d=\"M0 0h24v24H0V0z\" fill=\"none\"/>\n",
              "    <path d=\"M18.56 5.44l.94 2.06.94-2.06 2.06-.94-2.06-.94-.94-2.06-.94 2.06-2.06.94zm-11 1L8.5 8.5l.94-2.06 2.06-.94-2.06-.94L8.5 2.5l-.94 2.06-2.06.94zm10 10l.94 2.06.94-2.06 2.06-.94-2.06-.94-.94-2.06-.94 2.06-2.06.94z\"/><path d=\"M17.41 7.96l-1.37-1.37c-.4-.4-.92-.59-1.43-.59-.52 0-1.04.2-1.43.59L10.3 9.45l-7.72 7.72c-.78.78-.78 2.05 0 2.83L4 21.41c.39.39.9.59 1.41.59.51 0 1.02-.2 1.41-.59l7.78-7.78 2.81-2.81c.8-.78.8-2.07 0-2.86zM5.41 20L4 18.59l7.72-7.72 1.47 1.35L5.41 20z\"/>\n",
              "  </svg>\n",
              "      </button>\n",
              "      \n",
              "  <style>\n",
              "    .colab-df-container {\n",
              "      display:flex;\n",
              "      flex-wrap:wrap;\n",
              "      gap: 12px;\n",
              "    }\n",
              "\n",
              "    .colab-df-convert {\n",
              "      background-color: #E8F0FE;\n",
              "      border: none;\n",
              "      border-radius: 50%;\n",
              "      cursor: pointer;\n",
              "      display: none;\n",
              "      fill: #1967D2;\n",
              "      height: 32px;\n",
              "      padding: 0 0 0 0;\n",
              "      width: 32px;\n",
              "    }\n",
              "\n",
              "    .colab-df-convert:hover {\n",
              "      background-color: #E2EBFA;\n",
              "      box-shadow: 0px 1px 2px rgba(60, 64, 67, 0.3), 0px 1px 3px 1px rgba(60, 64, 67, 0.15);\n",
              "      fill: #174EA6;\n",
              "    }\n",
              "\n",
              "    [theme=dark] .colab-df-convert {\n",
              "      background-color: #3B4455;\n",
              "      fill: #D2E3FC;\n",
              "    }\n",
              "\n",
              "    [theme=dark] .colab-df-convert:hover {\n",
              "      background-color: #434B5C;\n",
              "      box-shadow: 0px 1px 3px 1px rgba(0, 0, 0, 0.15);\n",
              "      filter: drop-shadow(0px 1px 2px rgba(0, 0, 0, 0.3));\n",
              "      fill: #FFFFFF;\n",
              "    }\n",
              "  </style>\n",
              "\n",
              "      <script>\n",
              "        const buttonEl =\n",
              "          document.querySelector('#df-b7bb9569-6425-4897-9bb3-60d97145e07d button.colab-df-convert');\n",
              "        buttonEl.style.display =\n",
              "          google.colab.kernel.accessAllowed ? 'block' : 'none';\n",
              "\n",
              "        async function convertToInteractive(key) {\n",
              "          const element = document.querySelector('#df-b7bb9569-6425-4897-9bb3-60d97145e07d');\n",
              "          const dataTable =\n",
              "            await google.colab.kernel.invokeFunction('convertToInteractive',\n",
              "                                                     [key], {});\n",
              "          if (!dataTable) return;\n",
              "\n",
              "          const docLinkHtml = 'Like what you see? Visit the ' +\n",
              "            '<a target=\"_blank\" href=https://colab.research.google.com/notebooks/data_table.ipynb>data table notebook</a>'\n",
              "            + ' to learn more about interactive tables.';\n",
              "          element.innerHTML = '';\n",
              "          dataTable['output_type'] = 'display_data';\n",
              "          await google.colab.output.renderOutput(dataTable, element);\n",
              "          const docLink = document.createElement('div');\n",
              "          docLink.innerHTML = docLinkHtml;\n",
              "          element.appendChild(docLink);\n",
              "        }\n",
              "      </script>\n",
              "    </div>\n",
              "  </div>\n",
              "  "
            ]
          },
          "metadata": {},
          "execution_count": 1558
        }
      ],
      "source": [
        "data.head(5)"
      ]
    },
    {
      "cell_type": "code",
      "execution_count": 1559,
      "id": "b244669c",
      "metadata": {
        "id": "b244669c"
      },
      "outputs": [],
      "source": [
        "data['Married']=data['Married'].map({'No':0,'Yes':1})"
      ]
    },
    {
      "cell_type": "code",
      "execution_count": 1560,
      "id": "0ff93247",
      "metadata": {
        "colab": {
          "base_uri": "https://localhost:8080/"
        },
        "id": "0ff93247",
        "outputId": "a31030db-af8e-436e-cadd-cdee965bb7de"
      },
      "outputs": [
        {
          "output_type": "execute_result",
          "data": {
            "text/plain": [
              "1    401\n",
              "0    213\n",
              "Name: Married, dtype: int64"
            ]
          },
          "metadata": {},
          "execution_count": 1560
        }
      ],
      "source": [
        "data['Married'].value_counts()"
      ]
    },
    {
      "cell_type": "code",
      "execution_count": 1561,
      "id": "f68a37b8",
      "metadata": {
        "colab": {
          "base_uri": "https://localhost:8080/"
        },
        "id": "f68a37b8",
        "outputId": "38d07e6b-dbd8-4e92-b99e-4866c59fe2a0"
      },
      "outputs": [
        {
          "output_type": "execute_result",
          "data": {
            "text/plain": [
              "0     360\n",
              "1     102\n",
              "2     101\n",
              "3+     51\n",
              "Name: Dependents, dtype: int64"
            ]
          },
          "metadata": {},
          "execution_count": 1561
        }
      ],
      "source": [
        "data['Dependents'].value_counts()"
      ]
    },
    {
      "cell_type": "code",
      "execution_count": 1562,
      "id": "ad1a55d9",
      "metadata": {
        "id": "ad1a55d9"
      },
      "outputs": [],
      "source": [
        "data['Dependents']=data['Dependents'].map({'0':0,'1':1,'2':2,'3+':3})"
      ]
    },
    {
      "cell_type": "code",
      "execution_count": 1563,
      "id": "c7703b5b",
      "metadata": {
        "colab": {
          "base_uri": "https://localhost:8080/"
        },
        "id": "c7703b5b",
        "outputId": "8d423a2f-2766-4bfc-f5ce-457f6849ddf6"
      },
      "outputs": [
        {
          "output_type": "execute_result",
          "data": {
            "text/plain": [
              "0    360\n",
              "1    102\n",
              "2    101\n",
              "3     51\n",
              "Name: Dependents, dtype: int64"
            ]
          },
          "metadata": {},
          "execution_count": 1563
        }
      ],
      "source": [
        "data['Dependents'].value_counts()"
      ]
    },
    {
      "cell_type": "code",
      "execution_count": 1564,
      "id": "145cb930",
      "metadata": {
        "id": "145cb930"
      },
      "outputs": [],
      "source": [
        "data['Education']=data['Education'].map({'Graduate':0,'Not Graduate':1})"
      ]
    },
    {
      "cell_type": "code",
      "execution_count": 1565,
      "id": "f6010d72",
      "metadata": {
        "colab": {
          "base_uri": "https://localhost:8080/"
        },
        "id": "f6010d72",
        "outputId": "36a1687d-4008-41f8-9347-953b91d0dbc7"
      },
      "outputs": [
        {
          "output_type": "execute_result",
          "data": {
            "text/plain": [
              "0    480\n",
              "1    134\n",
              "Name: Education, dtype: int64"
            ]
          },
          "metadata": {},
          "execution_count": 1565
        }
      ],
      "source": [
        "data['Education'].value_counts()"
      ]
    },
    {
      "cell_type": "code",
      "execution_count": 1566,
      "id": "2ffa3f8f",
      "metadata": {
        "colab": {
          "base_uri": "https://localhost:8080/",
          "height": 206
        },
        "id": "2ffa3f8f",
        "outputId": "bddcaa3d-3b1c-48af-da99-548e5baa4bdf"
      },
      "outputs": [
        {
          "output_type": "execute_result",
          "data": {
            "text/plain": [
              "    Loan_ID  Gender  Married  Dependents  Education Self_Employed  \\\n",
              "0  LP001002       0        0           0          0            No   \n",
              "1  LP001003       0        1           1          0            No   \n",
              "2  LP001005       0        1           0          0           Yes   \n",
              "3  LP001006       0        1           0          1            No   \n",
              "4  LP001008       0        0           0          0            No   \n",
              "\n",
              "   ApplicantIncome  CoapplicantIncome  LoanAmount  Loan_Amount_Term  \\\n",
              "0             5849                0.0  146.412162             360.0   \n",
              "1             4583             1508.0  128.000000             360.0   \n",
              "2             3000                0.0   66.000000             360.0   \n",
              "3             2583             2358.0  120.000000             360.0   \n",
              "4             6000                0.0  141.000000             360.0   \n",
              "\n",
              "   Credit_History Property_Area Loan_Status  \n",
              "0             1.0         Urban           Y  \n",
              "1             1.0         Rural           N  \n",
              "2             1.0         Urban           Y  \n",
              "3             1.0         Urban           Y  \n",
              "4             1.0         Urban           Y  "
            ],
            "text/html": [
              "\n",
              "  <div id=\"df-faaa97cc-f94e-4eff-bff5-33b855df4d82\">\n",
              "    <div class=\"colab-df-container\">\n",
              "      <div>\n",
              "<style scoped>\n",
              "    .dataframe tbody tr th:only-of-type {\n",
              "        vertical-align: middle;\n",
              "    }\n",
              "\n",
              "    .dataframe tbody tr th {\n",
              "        vertical-align: top;\n",
              "    }\n",
              "\n",
              "    .dataframe thead th {\n",
              "        text-align: right;\n",
              "    }\n",
              "</style>\n",
              "<table border=\"1\" class=\"dataframe\">\n",
              "  <thead>\n",
              "    <tr style=\"text-align: right;\">\n",
              "      <th></th>\n",
              "      <th>Loan_ID</th>\n",
              "      <th>Gender</th>\n",
              "      <th>Married</th>\n",
              "      <th>Dependents</th>\n",
              "      <th>Education</th>\n",
              "      <th>Self_Employed</th>\n",
              "      <th>ApplicantIncome</th>\n",
              "      <th>CoapplicantIncome</th>\n",
              "      <th>LoanAmount</th>\n",
              "      <th>Loan_Amount_Term</th>\n",
              "      <th>Credit_History</th>\n",
              "      <th>Property_Area</th>\n",
              "      <th>Loan_Status</th>\n",
              "    </tr>\n",
              "  </thead>\n",
              "  <tbody>\n",
              "    <tr>\n",
              "      <th>0</th>\n",
              "      <td>LP001002</td>\n",
              "      <td>0</td>\n",
              "      <td>0</td>\n",
              "      <td>0</td>\n",
              "      <td>0</td>\n",
              "      <td>No</td>\n",
              "      <td>5849</td>\n",
              "      <td>0.0</td>\n",
              "      <td>146.412162</td>\n",
              "      <td>360.0</td>\n",
              "      <td>1.0</td>\n",
              "      <td>Urban</td>\n",
              "      <td>Y</td>\n",
              "    </tr>\n",
              "    <tr>\n",
              "      <th>1</th>\n",
              "      <td>LP001003</td>\n",
              "      <td>0</td>\n",
              "      <td>1</td>\n",
              "      <td>1</td>\n",
              "      <td>0</td>\n",
              "      <td>No</td>\n",
              "      <td>4583</td>\n",
              "      <td>1508.0</td>\n",
              "      <td>128.000000</td>\n",
              "      <td>360.0</td>\n",
              "      <td>1.0</td>\n",
              "      <td>Rural</td>\n",
              "      <td>N</td>\n",
              "    </tr>\n",
              "    <tr>\n",
              "      <th>2</th>\n",
              "      <td>LP001005</td>\n",
              "      <td>0</td>\n",
              "      <td>1</td>\n",
              "      <td>0</td>\n",
              "      <td>0</td>\n",
              "      <td>Yes</td>\n",
              "      <td>3000</td>\n",
              "      <td>0.0</td>\n",
              "      <td>66.000000</td>\n",
              "      <td>360.0</td>\n",
              "      <td>1.0</td>\n",
              "      <td>Urban</td>\n",
              "      <td>Y</td>\n",
              "    </tr>\n",
              "    <tr>\n",
              "      <th>3</th>\n",
              "      <td>LP001006</td>\n",
              "      <td>0</td>\n",
              "      <td>1</td>\n",
              "      <td>0</td>\n",
              "      <td>1</td>\n",
              "      <td>No</td>\n",
              "      <td>2583</td>\n",
              "      <td>2358.0</td>\n",
              "      <td>120.000000</td>\n",
              "      <td>360.0</td>\n",
              "      <td>1.0</td>\n",
              "      <td>Urban</td>\n",
              "      <td>Y</td>\n",
              "    </tr>\n",
              "    <tr>\n",
              "      <th>4</th>\n",
              "      <td>LP001008</td>\n",
              "      <td>0</td>\n",
              "      <td>0</td>\n",
              "      <td>0</td>\n",
              "      <td>0</td>\n",
              "      <td>No</td>\n",
              "      <td>6000</td>\n",
              "      <td>0.0</td>\n",
              "      <td>141.000000</td>\n",
              "      <td>360.0</td>\n",
              "      <td>1.0</td>\n",
              "      <td>Urban</td>\n",
              "      <td>Y</td>\n",
              "    </tr>\n",
              "  </tbody>\n",
              "</table>\n",
              "</div>\n",
              "      <button class=\"colab-df-convert\" onclick=\"convertToInteractive('df-faaa97cc-f94e-4eff-bff5-33b855df4d82')\"\n",
              "              title=\"Convert this dataframe to an interactive table.\"\n",
              "              style=\"display:none;\">\n",
              "        \n",
              "  <svg xmlns=\"http://www.w3.org/2000/svg\" height=\"24px\"viewBox=\"0 0 24 24\"\n",
              "       width=\"24px\">\n",
              "    <path d=\"M0 0h24v24H0V0z\" fill=\"none\"/>\n",
              "    <path d=\"M18.56 5.44l.94 2.06.94-2.06 2.06-.94-2.06-.94-.94-2.06-.94 2.06-2.06.94zm-11 1L8.5 8.5l.94-2.06 2.06-.94-2.06-.94L8.5 2.5l-.94 2.06-2.06.94zm10 10l.94 2.06.94-2.06 2.06-.94-2.06-.94-.94-2.06-.94 2.06-2.06.94z\"/><path d=\"M17.41 7.96l-1.37-1.37c-.4-.4-.92-.59-1.43-.59-.52 0-1.04.2-1.43.59L10.3 9.45l-7.72 7.72c-.78.78-.78 2.05 0 2.83L4 21.41c.39.39.9.59 1.41.59.51 0 1.02-.2 1.41-.59l7.78-7.78 2.81-2.81c.8-.78.8-2.07 0-2.86zM5.41 20L4 18.59l7.72-7.72 1.47 1.35L5.41 20z\"/>\n",
              "  </svg>\n",
              "      </button>\n",
              "      \n",
              "  <style>\n",
              "    .colab-df-container {\n",
              "      display:flex;\n",
              "      flex-wrap:wrap;\n",
              "      gap: 12px;\n",
              "    }\n",
              "\n",
              "    .colab-df-convert {\n",
              "      background-color: #E8F0FE;\n",
              "      border: none;\n",
              "      border-radius: 50%;\n",
              "      cursor: pointer;\n",
              "      display: none;\n",
              "      fill: #1967D2;\n",
              "      height: 32px;\n",
              "      padding: 0 0 0 0;\n",
              "      width: 32px;\n",
              "    }\n",
              "\n",
              "    .colab-df-convert:hover {\n",
              "      background-color: #E2EBFA;\n",
              "      box-shadow: 0px 1px 2px rgba(60, 64, 67, 0.3), 0px 1px 3px 1px rgba(60, 64, 67, 0.15);\n",
              "      fill: #174EA6;\n",
              "    }\n",
              "\n",
              "    [theme=dark] .colab-df-convert {\n",
              "      background-color: #3B4455;\n",
              "      fill: #D2E3FC;\n",
              "    }\n",
              "\n",
              "    [theme=dark] .colab-df-convert:hover {\n",
              "      background-color: #434B5C;\n",
              "      box-shadow: 0px 1px 3px 1px rgba(0, 0, 0, 0.15);\n",
              "      filter: drop-shadow(0px 1px 2px rgba(0, 0, 0, 0.3));\n",
              "      fill: #FFFFFF;\n",
              "    }\n",
              "  </style>\n",
              "\n",
              "      <script>\n",
              "        const buttonEl =\n",
              "          document.querySelector('#df-faaa97cc-f94e-4eff-bff5-33b855df4d82 button.colab-df-convert');\n",
              "        buttonEl.style.display =\n",
              "          google.colab.kernel.accessAllowed ? 'block' : 'none';\n",
              "\n",
              "        async function convertToInteractive(key) {\n",
              "          const element = document.querySelector('#df-faaa97cc-f94e-4eff-bff5-33b855df4d82');\n",
              "          const dataTable =\n",
              "            await google.colab.kernel.invokeFunction('convertToInteractive',\n",
              "                                                     [key], {});\n",
              "          if (!dataTable) return;\n",
              "\n",
              "          const docLinkHtml = 'Like what you see? Visit the ' +\n",
              "            '<a target=\"_blank\" href=https://colab.research.google.com/notebooks/data_table.ipynb>data table notebook</a>'\n",
              "            + ' to learn more about interactive tables.';\n",
              "          element.innerHTML = '';\n",
              "          dataTable['output_type'] = 'display_data';\n",
              "          await google.colab.output.renderOutput(dataTable, element);\n",
              "          const docLink = document.createElement('div');\n",
              "          docLink.innerHTML = docLinkHtml;\n",
              "          element.appendChild(docLink);\n",
              "        }\n",
              "      </script>\n",
              "    </div>\n",
              "  </div>\n",
              "  "
            ]
          },
          "metadata": {},
          "execution_count": 1566
        }
      ],
      "source": [
        "data.head()"
      ]
    },
    {
      "cell_type": "code",
      "execution_count": 1567,
      "id": "386a98a1",
      "metadata": {
        "id": "386a98a1"
      },
      "outputs": [],
      "source": [
        "data['Self_Employed']=data['Self_Employed'].map({'No':0,'Yes':1})"
      ]
    },
    {
      "cell_type": "code",
      "execution_count": 1568,
      "id": "e55376ef",
      "metadata": {
        "colab": {
          "base_uri": "https://localhost:8080/"
        },
        "id": "e55376ef",
        "outputId": "5977666a-b993-4c76-9fb9-5ae143993a57"
      },
      "outputs": [
        {
          "output_type": "execute_result",
          "data": {
            "text/plain": [
              "0    532\n",
              "1     82\n",
              "Name: Self_Employed, dtype: int64"
            ]
          },
          "metadata": {},
          "execution_count": 1568
        }
      ],
      "source": [
        "data['Self_Employed'].value_counts()"
      ]
    },
    {
      "cell_type": "code",
      "execution_count": 1569,
      "id": "2f82bc58",
      "metadata": {
        "colab": {
          "base_uri": "https://localhost:8080/"
        },
        "id": "2f82bc58",
        "outputId": "e455c98d-a6cd-4b11-da1a-3a6baf2fc646"
      },
      "outputs": [
        {
          "output_type": "execute_result",
          "data": {
            "text/plain": [
              "Semiurban    233\n",
              "Urban        202\n",
              "Rural        179\n",
              "Name: Property_Area, dtype: int64"
            ]
          },
          "metadata": {},
          "execution_count": 1569
        }
      ],
      "source": [
        "data['Property_Area'].value_counts()"
      ]
    },
    {
      "cell_type": "code",
      "execution_count": 1570,
      "id": "7e7c4717",
      "metadata": {
        "id": "7e7c4717"
      },
      "outputs": [],
      "source": [
        "data[\"Property_Area\"]=data['Property_Area'].map({'Semiurban':0,'Urban':1,'Rural':2})"
      ]
    },
    {
      "cell_type": "code",
      "execution_count": 1571,
      "id": "53f812fb",
      "metadata": {
        "colab": {
          "base_uri": "https://localhost:8080/"
        },
        "id": "53f812fb",
        "outputId": "124a013e-89bc-46db-bdc1-bbf0d2a707c5"
      },
      "outputs": [
        {
          "output_type": "execute_result",
          "data": {
            "text/plain": [
              "0    233\n",
              "1    202\n",
              "2    179\n",
              "Name: Property_Area, dtype: int64"
            ]
          },
          "metadata": {},
          "execution_count": 1571
        }
      ],
      "source": [
        "data['Property_Area'].value_counts()"
      ]
    },
    {
      "cell_type": "code",
      "execution_count": 1572,
      "id": "da89bafa",
      "metadata": {
        "id": "da89bafa"
      },
      "outputs": [],
      "source": [
        "data['Loan_Status']=data['Loan_Status'].map({'N':0,'Y':1})"
      ]
    },
    {
      "cell_type": "code",
      "execution_count": 1573,
      "id": "85737033",
      "metadata": {
        "colab": {
          "base_uri": "https://localhost:8080/",
          "height": 206
        },
        "id": "85737033",
        "outputId": "76079461-4f75-4a00-daed-9db116bd65ee"
      },
      "outputs": [
        {
          "output_type": "execute_result",
          "data": {
            "text/plain": [
              "    Loan_ID  Gender  Married  Dependents  Education  Self_Employed  \\\n",
              "0  LP001002       0        0           0          0              0   \n",
              "1  LP001003       0        1           1          0              0   \n",
              "2  LP001005       0        1           0          0              1   \n",
              "3  LP001006       0        1           0          1              0   \n",
              "4  LP001008       0        0           0          0              0   \n",
              "\n",
              "   ApplicantIncome  CoapplicantIncome  LoanAmount  Loan_Amount_Term  \\\n",
              "0             5849                0.0  146.412162             360.0   \n",
              "1             4583             1508.0  128.000000             360.0   \n",
              "2             3000                0.0   66.000000             360.0   \n",
              "3             2583             2358.0  120.000000             360.0   \n",
              "4             6000                0.0  141.000000             360.0   \n",
              "\n",
              "   Credit_History  Property_Area  Loan_Status  \n",
              "0             1.0              1            1  \n",
              "1             1.0              2            0  \n",
              "2             1.0              1            1  \n",
              "3             1.0              1            1  \n",
              "4             1.0              1            1  "
            ],
            "text/html": [
              "\n",
              "  <div id=\"df-7dfe603b-c446-4aca-a13d-839beaec1bd6\">\n",
              "    <div class=\"colab-df-container\">\n",
              "      <div>\n",
              "<style scoped>\n",
              "    .dataframe tbody tr th:only-of-type {\n",
              "        vertical-align: middle;\n",
              "    }\n",
              "\n",
              "    .dataframe tbody tr th {\n",
              "        vertical-align: top;\n",
              "    }\n",
              "\n",
              "    .dataframe thead th {\n",
              "        text-align: right;\n",
              "    }\n",
              "</style>\n",
              "<table border=\"1\" class=\"dataframe\">\n",
              "  <thead>\n",
              "    <tr style=\"text-align: right;\">\n",
              "      <th></th>\n",
              "      <th>Loan_ID</th>\n",
              "      <th>Gender</th>\n",
              "      <th>Married</th>\n",
              "      <th>Dependents</th>\n",
              "      <th>Education</th>\n",
              "      <th>Self_Employed</th>\n",
              "      <th>ApplicantIncome</th>\n",
              "      <th>CoapplicantIncome</th>\n",
              "      <th>LoanAmount</th>\n",
              "      <th>Loan_Amount_Term</th>\n",
              "      <th>Credit_History</th>\n",
              "      <th>Property_Area</th>\n",
              "      <th>Loan_Status</th>\n",
              "    </tr>\n",
              "  </thead>\n",
              "  <tbody>\n",
              "    <tr>\n",
              "      <th>0</th>\n",
              "      <td>LP001002</td>\n",
              "      <td>0</td>\n",
              "      <td>0</td>\n",
              "      <td>0</td>\n",
              "      <td>0</td>\n",
              "      <td>0</td>\n",
              "      <td>5849</td>\n",
              "      <td>0.0</td>\n",
              "      <td>146.412162</td>\n",
              "      <td>360.0</td>\n",
              "      <td>1.0</td>\n",
              "      <td>1</td>\n",
              "      <td>1</td>\n",
              "    </tr>\n",
              "    <tr>\n",
              "      <th>1</th>\n",
              "      <td>LP001003</td>\n",
              "      <td>0</td>\n",
              "      <td>1</td>\n",
              "      <td>1</td>\n",
              "      <td>0</td>\n",
              "      <td>0</td>\n",
              "      <td>4583</td>\n",
              "      <td>1508.0</td>\n",
              "      <td>128.000000</td>\n",
              "      <td>360.0</td>\n",
              "      <td>1.0</td>\n",
              "      <td>2</td>\n",
              "      <td>0</td>\n",
              "    </tr>\n",
              "    <tr>\n",
              "      <th>2</th>\n",
              "      <td>LP001005</td>\n",
              "      <td>0</td>\n",
              "      <td>1</td>\n",
              "      <td>0</td>\n",
              "      <td>0</td>\n",
              "      <td>1</td>\n",
              "      <td>3000</td>\n",
              "      <td>0.0</td>\n",
              "      <td>66.000000</td>\n",
              "      <td>360.0</td>\n",
              "      <td>1.0</td>\n",
              "      <td>1</td>\n",
              "      <td>1</td>\n",
              "    </tr>\n",
              "    <tr>\n",
              "      <th>3</th>\n",
              "      <td>LP001006</td>\n",
              "      <td>0</td>\n",
              "      <td>1</td>\n",
              "      <td>0</td>\n",
              "      <td>1</td>\n",
              "      <td>0</td>\n",
              "      <td>2583</td>\n",
              "      <td>2358.0</td>\n",
              "      <td>120.000000</td>\n",
              "      <td>360.0</td>\n",
              "      <td>1.0</td>\n",
              "      <td>1</td>\n",
              "      <td>1</td>\n",
              "    </tr>\n",
              "    <tr>\n",
              "      <th>4</th>\n",
              "      <td>LP001008</td>\n",
              "      <td>0</td>\n",
              "      <td>0</td>\n",
              "      <td>0</td>\n",
              "      <td>0</td>\n",
              "      <td>0</td>\n",
              "      <td>6000</td>\n",
              "      <td>0.0</td>\n",
              "      <td>141.000000</td>\n",
              "      <td>360.0</td>\n",
              "      <td>1.0</td>\n",
              "      <td>1</td>\n",
              "      <td>1</td>\n",
              "    </tr>\n",
              "  </tbody>\n",
              "</table>\n",
              "</div>\n",
              "      <button class=\"colab-df-convert\" onclick=\"convertToInteractive('df-7dfe603b-c446-4aca-a13d-839beaec1bd6')\"\n",
              "              title=\"Convert this dataframe to an interactive table.\"\n",
              "              style=\"display:none;\">\n",
              "        \n",
              "  <svg xmlns=\"http://www.w3.org/2000/svg\" height=\"24px\"viewBox=\"0 0 24 24\"\n",
              "       width=\"24px\">\n",
              "    <path d=\"M0 0h24v24H0V0z\" fill=\"none\"/>\n",
              "    <path d=\"M18.56 5.44l.94 2.06.94-2.06 2.06-.94-2.06-.94-.94-2.06-.94 2.06-2.06.94zm-11 1L8.5 8.5l.94-2.06 2.06-.94-2.06-.94L8.5 2.5l-.94 2.06-2.06.94zm10 10l.94 2.06.94-2.06 2.06-.94-2.06-.94-.94-2.06-.94 2.06-2.06.94z\"/><path d=\"M17.41 7.96l-1.37-1.37c-.4-.4-.92-.59-1.43-.59-.52 0-1.04.2-1.43.59L10.3 9.45l-7.72 7.72c-.78.78-.78 2.05 0 2.83L4 21.41c.39.39.9.59 1.41.59.51 0 1.02-.2 1.41-.59l7.78-7.78 2.81-2.81c.8-.78.8-2.07 0-2.86zM5.41 20L4 18.59l7.72-7.72 1.47 1.35L5.41 20z\"/>\n",
              "  </svg>\n",
              "      </button>\n",
              "      \n",
              "  <style>\n",
              "    .colab-df-container {\n",
              "      display:flex;\n",
              "      flex-wrap:wrap;\n",
              "      gap: 12px;\n",
              "    }\n",
              "\n",
              "    .colab-df-convert {\n",
              "      background-color: #E8F0FE;\n",
              "      border: none;\n",
              "      border-radius: 50%;\n",
              "      cursor: pointer;\n",
              "      display: none;\n",
              "      fill: #1967D2;\n",
              "      height: 32px;\n",
              "      padding: 0 0 0 0;\n",
              "      width: 32px;\n",
              "    }\n",
              "\n",
              "    .colab-df-convert:hover {\n",
              "      background-color: #E2EBFA;\n",
              "      box-shadow: 0px 1px 2px rgba(60, 64, 67, 0.3), 0px 1px 3px 1px rgba(60, 64, 67, 0.15);\n",
              "      fill: #174EA6;\n",
              "    }\n",
              "\n",
              "    [theme=dark] .colab-df-convert {\n",
              "      background-color: #3B4455;\n",
              "      fill: #D2E3FC;\n",
              "    }\n",
              "\n",
              "    [theme=dark] .colab-df-convert:hover {\n",
              "      background-color: #434B5C;\n",
              "      box-shadow: 0px 1px 3px 1px rgba(0, 0, 0, 0.15);\n",
              "      filter: drop-shadow(0px 1px 2px rgba(0, 0, 0, 0.3));\n",
              "      fill: #FFFFFF;\n",
              "    }\n",
              "  </style>\n",
              "\n",
              "      <script>\n",
              "        const buttonEl =\n",
              "          document.querySelector('#df-7dfe603b-c446-4aca-a13d-839beaec1bd6 button.colab-df-convert');\n",
              "        buttonEl.style.display =\n",
              "          google.colab.kernel.accessAllowed ? 'block' : 'none';\n",
              "\n",
              "        async function convertToInteractive(key) {\n",
              "          const element = document.querySelector('#df-7dfe603b-c446-4aca-a13d-839beaec1bd6');\n",
              "          const dataTable =\n",
              "            await google.colab.kernel.invokeFunction('convertToInteractive',\n",
              "                                                     [key], {});\n",
              "          if (!dataTable) return;\n",
              "\n",
              "          const docLinkHtml = 'Like what you see? Visit the ' +\n",
              "            '<a target=\"_blank\" href=https://colab.research.google.com/notebooks/data_table.ipynb>data table notebook</a>'\n",
              "            + ' to learn more about interactive tables.';\n",
              "          element.innerHTML = '';\n",
              "          dataTable['output_type'] = 'display_data';\n",
              "          await google.colab.output.renderOutput(dataTable, element);\n",
              "          const docLink = document.createElement('div');\n",
              "          docLink.innerHTML = docLinkHtml;\n",
              "          element.appendChild(docLink);\n",
              "        }\n",
              "      </script>\n",
              "    </div>\n",
              "  </div>\n",
              "  "
            ]
          },
          "metadata": {},
          "execution_count": 1573
        }
      ],
      "source": [
        "data.head()"
      ]
    },
    {
      "cell_type": "markdown",
      "id": "db9ff87d",
      "metadata": {
        "id": "db9ff87d"
      },
      "source": [
        "# Min MAx Normalization"
      ]
    },
    {
      "cell_type": "code",
      "execution_count": 1574,
      "id": "5b09c436",
      "metadata": {
        "id": "5b09c436"
      },
      "outputs": [],
      "source": [
        "data['Gender']=(data['Gender']-data['Gender'].min())/(data['Gender'].max()-data['Gender'].min())"
      ]
    },
    {
      "cell_type": "code",
      "execution_count": 1575,
      "id": "c0b48650",
      "metadata": {
        "colab": {
          "base_uri": "https://localhost:8080/"
        },
        "id": "c0b48650",
        "outputId": "7533799d-d373-4422-d898-a76c1aec1e89"
      },
      "outputs": [
        {
          "output_type": "execute_result",
          "data": {
            "text/plain": [
              "0.0    502\n",
              "1.0    112\n",
              "Name: Gender, dtype: int64"
            ]
          },
          "metadata": {},
          "execution_count": 1575
        }
      ],
      "source": [
        "data['Gender'].value_counts()"
      ]
    },
    {
      "cell_type": "code",
      "execution_count": 1576,
      "id": "2307264b",
      "metadata": {
        "colab": {
          "base_uri": "https://localhost:8080/"
        },
        "id": "2307264b",
        "outputId": "402cbcab-fb6a-48ba-9617-cfc6f230cbd6"
      },
      "outputs": [
        {
          "output_type": "execute_result",
          "data": {
            "text/plain": [
              "0      0.0\n",
              "1      0.0\n",
              "2      0.0\n",
              "3      0.0\n",
              "4      0.0\n",
              "      ... \n",
              "609    1.0\n",
              "610    0.0\n",
              "611    0.0\n",
              "612    0.0\n",
              "613    1.0\n",
              "Name: Gender, Length: 614, dtype: float64"
            ]
          },
          "metadata": {},
          "execution_count": 1576
        }
      ],
      "source": [
        "data['Gender']"
      ]
    },
    {
      "cell_type": "code",
      "execution_count": 1577,
      "id": "c3ff44a6",
      "metadata": {
        "id": "c3ff44a6"
      },
      "outputs": [],
      "source": [
        "data=data.drop(['Loan_ID'],axis=1)"
      ]
    },
    {
      "cell_type": "code",
      "execution_count": 1578,
      "id": "282285bf",
      "metadata": {
        "id": "282285bf"
      },
      "outputs": [],
      "source": [
        "for i in data.columns:\n",
        "    data[i]=(data[i]-data[i].min())/(data[i].max()-data[i].min())"
      ]
    },
    {
      "cell_type": "code",
      "execution_count": 1579,
      "id": "81ce21ed",
      "metadata": {
        "colab": {
          "base_uri": "https://localhost:8080/",
          "height": 206
        },
        "id": "81ce21ed",
        "outputId": "8bf4c570-c9e4-4051-ff69-5fc48e78201b"
      },
      "outputs": [
        {
          "output_type": "execute_result",
          "data": {
            "text/plain": [
              "   Gender  Married  Dependents  Education  Self_Employed  ApplicantIncome  \\\n",
              "0     0.0      0.0    0.000000        0.0            0.0         0.070489   \n",
              "1     0.0      1.0    0.333333        0.0            0.0         0.054830   \n",
              "2     0.0      1.0    0.000000        0.0            1.0         0.035250   \n",
              "3     0.0      1.0    0.000000        1.0            0.0         0.030093   \n",
              "4     0.0      0.0    0.000000        0.0            0.0         0.072356   \n",
              "\n",
              "   CoapplicantIncome  LoanAmount  Loan_Amount_Term  Credit_History  \\\n",
              "0           0.000000    0.198860           0.74359             1.0   \n",
              "1           0.036192    0.172214           0.74359             1.0   \n",
              "2           0.000000    0.082489           0.74359             1.0   \n",
              "3           0.056592    0.160637           0.74359             1.0   \n",
              "4           0.000000    0.191027           0.74359             1.0   \n",
              "\n",
              "   Property_Area  Loan_Status  \n",
              "0            0.5          1.0  \n",
              "1            1.0          0.0  \n",
              "2            0.5          1.0  \n",
              "3            0.5          1.0  \n",
              "4            0.5          1.0  "
            ],
            "text/html": [
              "\n",
              "  <div id=\"df-113b94d8-05b0-4271-aabf-48d39585f8ea\">\n",
              "    <div class=\"colab-df-container\">\n",
              "      <div>\n",
              "<style scoped>\n",
              "    .dataframe tbody tr th:only-of-type {\n",
              "        vertical-align: middle;\n",
              "    }\n",
              "\n",
              "    .dataframe tbody tr th {\n",
              "        vertical-align: top;\n",
              "    }\n",
              "\n",
              "    .dataframe thead th {\n",
              "        text-align: right;\n",
              "    }\n",
              "</style>\n",
              "<table border=\"1\" class=\"dataframe\">\n",
              "  <thead>\n",
              "    <tr style=\"text-align: right;\">\n",
              "      <th></th>\n",
              "      <th>Gender</th>\n",
              "      <th>Married</th>\n",
              "      <th>Dependents</th>\n",
              "      <th>Education</th>\n",
              "      <th>Self_Employed</th>\n",
              "      <th>ApplicantIncome</th>\n",
              "      <th>CoapplicantIncome</th>\n",
              "      <th>LoanAmount</th>\n",
              "      <th>Loan_Amount_Term</th>\n",
              "      <th>Credit_History</th>\n",
              "      <th>Property_Area</th>\n",
              "      <th>Loan_Status</th>\n",
              "    </tr>\n",
              "  </thead>\n",
              "  <tbody>\n",
              "    <tr>\n",
              "      <th>0</th>\n",
              "      <td>0.0</td>\n",
              "      <td>0.0</td>\n",
              "      <td>0.000000</td>\n",
              "      <td>0.0</td>\n",
              "      <td>0.0</td>\n",
              "      <td>0.070489</td>\n",
              "      <td>0.000000</td>\n",
              "      <td>0.198860</td>\n",
              "      <td>0.74359</td>\n",
              "      <td>1.0</td>\n",
              "      <td>0.5</td>\n",
              "      <td>1.0</td>\n",
              "    </tr>\n",
              "    <tr>\n",
              "      <th>1</th>\n",
              "      <td>0.0</td>\n",
              "      <td>1.0</td>\n",
              "      <td>0.333333</td>\n",
              "      <td>0.0</td>\n",
              "      <td>0.0</td>\n",
              "      <td>0.054830</td>\n",
              "      <td>0.036192</td>\n",
              "      <td>0.172214</td>\n",
              "      <td>0.74359</td>\n",
              "      <td>1.0</td>\n",
              "      <td>1.0</td>\n",
              "      <td>0.0</td>\n",
              "    </tr>\n",
              "    <tr>\n",
              "      <th>2</th>\n",
              "      <td>0.0</td>\n",
              "      <td>1.0</td>\n",
              "      <td>0.000000</td>\n",
              "      <td>0.0</td>\n",
              "      <td>1.0</td>\n",
              "      <td>0.035250</td>\n",
              "      <td>0.000000</td>\n",
              "      <td>0.082489</td>\n",
              "      <td>0.74359</td>\n",
              "      <td>1.0</td>\n",
              "      <td>0.5</td>\n",
              "      <td>1.0</td>\n",
              "    </tr>\n",
              "    <tr>\n",
              "      <th>3</th>\n",
              "      <td>0.0</td>\n",
              "      <td>1.0</td>\n",
              "      <td>0.000000</td>\n",
              "      <td>1.0</td>\n",
              "      <td>0.0</td>\n",
              "      <td>0.030093</td>\n",
              "      <td>0.056592</td>\n",
              "      <td>0.160637</td>\n",
              "      <td>0.74359</td>\n",
              "      <td>1.0</td>\n",
              "      <td>0.5</td>\n",
              "      <td>1.0</td>\n",
              "    </tr>\n",
              "    <tr>\n",
              "      <th>4</th>\n",
              "      <td>0.0</td>\n",
              "      <td>0.0</td>\n",
              "      <td>0.000000</td>\n",
              "      <td>0.0</td>\n",
              "      <td>0.0</td>\n",
              "      <td>0.072356</td>\n",
              "      <td>0.000000</td>\n",
              "      <td>0.191027</td>\n",
              "      <td>0.74359</td>\n",
              "      <td>1.0</td>\n",
              "      <td>0.5</td>\n",
              "      <td>1.0</td>\n",
              "    </tr>\n",
              "  </tbody>\n",
              "</table>\n",
              "</div>\n",
              "      <button class=\"colab-df-convert\" onclick=\"convertToInteractive('df-113b94d8-05b0-4271-aabf-48d39585f8ea')\"\n",
              "              title=\"Convert this dataframe to an interactive table.\"\n",
              "              style=\"display:none;\">\n",
              "        \n",
              "  <svg xmlns=\"http://www.w3.org/2000/svg\" height=\"24px\"viewBox=\"0 0 24 24\"\n",
              "       width=\"24px\">\n",
              "    <path d=\"M0 0h24v24H0V0z\" fill=\"none\"/>\n",
              "    <path d=\"M18.56 5.44l.94 2.06.94-2.06 2.06-.94-2.06-.94-.94-2.06-.94 2.06-2.06.94zm-11 1L8.5 8.5l.94-2.06 2.06-.94-2.06-.94L8.5 2.5l-.94 2.06-2.06.94zm10 10l.94 2.06.94-2.06 2.06-.94-2.06-.94-.94-2.06-.94 2.06-2.06.94z\"/><path d=\"M17.41 7.96l-1.37-1.37c-.4-.4-.92-.59-1.43-.59-.52 0-1.04.2-1.43.59L10.3 9.45l-7.72 7.72c-.78.78-.78 2.05 0 2.83L4 21.41c.39.39.9.59 1.41.59.51 0 1.02-.2 1.41-.59l7.78-7.78 2.81-2.81c.8-.78.8-2.07 0-2.86zM5.41 20L4 18.59l7.72-7.72 1.47 1.35L5.41 20z\"/>\n",
              "  </svg>\n",
              "      </button>\n",
              "      \n",
              "  <style>\n",
              "    .colab-df-container {\n",
              "      display:flex;\n",
              "      flex-wrap:wrap;\n",
              "      gap: 12px;\n",
              "    }\n",
              "\n",
              "    .colab-df-convert {\n",
              "      background-color: #E8F0FE;\n",
              "      border: none;\n",
              "      border-radius: 50%;\n",
              "      cursor: pointer;\n",
              "      display: none;\n",
              "      fill: #1967D2;\n",
              "      height: 32px;\n",
              "      padding: 0 0 0 0;\n",
              "      width: 32px;\n",
              "    }\n",
              "\n",
              "    .colab-df-convert:hover {\n",
              "      background-color: #E2EBFA;\n",
              "      box-shadow: 0px 1px 2px rgba(60, 64, 67, 0.3), 0px 1px 3px 1px rgba(60, 64, 67, 0.15);\n",
              "      fill: #174EA6;\n",
              "    }\n",
              "\n",
              "    [theme=dark] .colab-df-convert {\n",
              "      background-color: #3B4455;\n",
              "      fill: #D2E3FC;\n",
              "    }\n",
              "\n",
              "    [theme=dark] .colab-df-convert:hover {\n",
              "      background-color: #434B5C;\n",
              "      box-shadow: 0px 1px 3px 1px rgba(0, 0, 0, 0.15);\n",
              "      filter: drop-shadow(0px 1px 2px rgba(0, 0, 0, 0.3));\n",
              "      fill: #FFFFFF;\n",
              "    }\n",
              "  </style>\n",
              "\n",
              "      <script>\n",
              "        const buttonEl =\n",
              "          document.querySelector('#df-113b94d8-05b0-4271-aabf-48d39585f8ea button.colab-df-convert');\n",
              "        buttonEl.style.display =\n",
              "          google.colab.kernel.accessAllowed ? 'block' : 'none';\n",
              "\n",
              "        async function convertToInteractive(key) {\n",
              "          const element = document.querySelector('#df-113b94d8-05b0-4271-aabf-48d39585f8ea');\n",
              "          const dataTable =\n",
              "            await google.colab.kernel.invokeFunction('convertToInteractive',\n",
              "                                                     [key], {});\n",
              "          if (!dataTable) return;\n",
              "\n",
              "          const docLinkHtml = 'Like what you see? Visit the ' +\n",
              "            '<a target=\"_blank\" href=https://colab.research.google.com/notebooks/data_table.ipynb>data table notebook</a>'\n",
              "            + ' to learn more about interactive tables.';\n",
              "          element.innerHTML = '';\n",
              "          dataTable['output_type'] = 'display_data';\n",
              "          await google.colab.output.renderOutput(dataTable, element);\n",
              "          const docLink = document.createElement('div');\n",
              "          docLink.innerHTML = docLinkHtml;\n",
              "          element.appendChild(docLink);\n",
              "        }\n",
              "      </script>\n",
              "    </div>\n",
              "  </div>\n",
              "  "
            ]
          },
          "metadata": {},
          "execution_count": 1579
        }
      ],
      "source": [
        "data.head()"
      ]
    },
    {
      "cell_type": "code",
      "execution_count": 1580,
      "id": "9b60091d",
      "metadata": {
        "colab": {
          "base_uri": "https://localhost:8080/",
          "height": 423
        },
        "id": "9b60091d",
        "outputId": "312e8eab-8b35-45aa-ea63-c884756b5ed0"
      },
      "outputs": [
        {
          "output_type": "execute_result",
          "data": {
            "text/plain": [
              "     Gender  Married  Dependents  Education  Self_Employed  ApplicantIncome  \\\n",
              "0       0.0      0.0    0.000000        0.0            0.0         0.070489   \n",
              "1       0.0      1.0    0.333333        0.0            0.0         0.054830   \n",
              "2       0.0      1.0    0.000000        0.0            1.0         0.035250   \n",
              "3       0.0      1.0    0.000000        1.0            0.0         0.030093   \n",
              "4       0.0      0.0    0.000000        0.0            0.0         0.072356   \n",
              "..      ...      ...         ...        ...            ...              ...   \n",
              "609     1.0      0.0    0.000000        0.0            0.0         0.034014   \n",
              "610     0.0      1.0    1.000000        0.0            0.0         0.048930   \n",
              "611     0.0      1.0    0.333333        0.0            0.0         0.097984   \n",
              "612     0.0      1.0    0.666667        0.0            0.0         0.091936   \n",
              "613     1.0      0.0    0.000000        0.0            1.0         0.054830   \n",
              "\n",
              "     CoapplicantIncome  LoanAmount  Loan_Amount_Term  Credit_History  \\\n",
              "0             0.000000    0.198860          0.743590             1.0   \n",
              "1             0.036192    0.172214          0.743590             1.0   \n",
              "2             0.000000    0.082489          0.743590             1.0   \n",
              "3             0.056592    0.160637          0.743590             1.0   \n",
              "4             0.000000    0.191027          0.743590             1.0   \n",
              "..                 ...         ...               ...             ...   \n",
              "609           0.000000    0.089725          0.743590             1.0   \n",
              "610           0.000000    0.044863          0.358974             1.0   \n",
              "611           0.005760    0.353111          0.743590             1.0   \n",
              "612           0.000000    0.257598          0.743590             1.0   \n",
              "613           0.000000    0.179450          0.743590             0.0   \n",
              "\n",
              "     Property_Area  Loan_Status  \n",
              "0              0.5          1.0  \n",
              "1              1.0          0.0  \n",
              "2              0.5          1.0  \n",
              "3              0.5          1.0  \n",
              "4              0.5          1.0  \n",
              "..             ...          ...  \n",
              "609            1.0          1.0  \n",
              "610            1.0          1.0  \n",
              "611            0.5          1.0  \n",
              "612            0.5          1.0  \n",
              "613            0.0          0.0  \n",
              "\n",
              "[614 rows x 12 columns]"
            ],
            "text/html": [
              "\n",
              "  <div id=\"df-ff4587ec-bc82-4f07-9b84-1937b3d94ac3\">\n",
              "    <div class=\"colab-df-container\">\n",
              "      <div>\n",
              "<style scoped>\n",
              "    .dataframe tbody tr th:only-of-type {\n",
              "        vertical-align: middle;\n",
              "    }\n",
              "\n",
              "    .dataframe tbody tr th {\n",
              "        vertical-align: top;\n",
              "    }\n",
              "\n",
              "    .dataframe thead th {\n",
              "        text-align: right;\n",
              "    }\n",
              "</style>\n",
              "<table border=\"1\" class=\"dataframe\">\n",
              "  <thead>\n",
              "    <tr style=\"text-align: right;\">\n",
              "      <th></th>\n",
              "      <th>Gender</th>\n",
              "      <th>Married</th>\n",
              "      <th>Dependents</th>\n",
              "      <th>Education</th>\n",
              "      <th>Self_Employed</th>\n",
              "      <th>ApplicantIncome</th>\n",
              "      <th>CoapplicantIncome</th>\n",
              "      <th>LoanAmount</th>\n",
              "      <th>Loan_Amount_Term</th>\n",
              "      <th>Credit_History</th>\n",
              "      <th>Property_Area</th>\n",
              "      <th>Loan_Status</th>\n",
              "    </tr>\n",
              "  </thead>\n",
              "  <tbody>\n",
              "    <tr>\n",
              "      <th>0</th>\n",
              "      <td>0.0</td>\n",
              "      <td>0.0</td>\n",
              "      <td>0.000000</td>\n",
              "      <td>0.0</td>\n",
              "      <td>0.0</td>\n",
              "      <td>0.070489</td>\n",
              "      <td>0.000000</td>\n",
              "      <td>0.198860</td>\n",
              "      <td>0.743590</td>\n",
              "      <td>1.0</td>\n",
              "      <td>0.5</td>\n",
              "      <td>1.0</td>\n",
              "    </tr>\n",
              "    <tr>\n",
              "      <th>1</th>\n",
              "      <td>0.0</td>\n",
              "      <td>1.0</td>\n",
              "      <td>0.333333</td>\n",
              "      <td>0.0</td>\n",
              "      <td>0.0</td>\n",
              "      <td>0.054830</td>\n",
              "      <td>0.036192</td>\n",
              "      <td>0.172214</td>\n",
              "      <td>0.743590</td>\n",
              "      <td>1.0</td>\n",
              "      <td>1.0</td>\n",
              "      <td>0.0</td>\n",
              "    </tr>\n",
              "    <tr>\n",
              "      <th>2</th>\n",
              "      <td>0.0</td>\n",
              "      <td>1.0</td>\n",
              "      <td>0.000000</td>\n",
              "      <td>0.0</td>\n",
              "      <td>1.0</td>\n",
              "      <td>0.035250</td>\n",
              "      <td>0.000000</td>\n",
              "      <td>0.082489</td>\n",
              "      <td>0.743590</td>\n",
              "      <td>1.0</td>\n",
              "      <td>0.5</td>\n",
              "      <td>1.0</td>\n",
              "    </tr>\n",
              "    <tr>\n",
              "      <th>3</th>\n",
              "      <td>0.0</td>\n",
              "      <td>1.0</td>\n",
              "      <td>0.000000</td>\n",
              "      <td>1.0</td>\n",
              "      <td>0.0</td>\n",
              "      <td>0.030093</td>\n",
              "      <td>0.056592</td>\n",
              "      <td>0.160637</td>\n",
              "      <td>0.743590</td>\n",
              "      <td>1.0</td>\n",
              "      <td>0.5</td>\n",
              "      <td>1.0</td>\n",
              "    </tr>\n",
              "    <tr>\n",
              "      <th>4</th>\n",
              "      <td>0.0</td>\n",
              "      <td>0.0</td>\n",
              "      <td>0.000000</td>\n",
              "      <td>0.0</td>\n",
              "      <td>0.0</td>\n",
              "      <td>0.072356</td>\n",
              "      <td>0.000000</td>\n",
              "      <td>0.191027</td>\n",
              "      <td>0.743590</td>\n",
              "      <td>1.0</td>\n",
              "      <td>0.5</td>\n",
              "      <td>1.0</td>\n",
              "    </tr>\n",
              "    <tr>\n",
              "      <th>...</th>\n",
              "      <td>...</td>\n",
              "      <td>...</td>\n",
              "      <td>...</td>\n",
              "      <td>...</td>\n",
              "      <td>...</td>\n",
              "      <td>...</td>\n",
              "      <td>...</td>\n",
              "      <td>...</td>\n",
              "      <td>...</td>\n",
              "      <td>...</td>\n",
              "      <td>...</td>\n",
              "      <td>...</td>\n",
              "    </tr>\n",
              "    <tr>\n",
              "      <th>609</th>\n",
              "      <td>1.0</td>\n",
              "      <td>0.0</td>\n",
              "      <td>0.000000</td>\n",
              "      <td>0.0</td>\n",
              "      <td>0.0</td>\n",
              "      <td>0.034014</td>\n",
              "      <td>0.000000</td>\n",
              "      <td>0.089725</td>\n",
              "      <td>0.743590</td>\n",
              "      <td>1.0</td>\n",
              "      <td>1.0</td>\n",
              "      <td>1.0</td>\n",
              "    </tr>\n",
              "    <tr>\n",
              "      <th>610</th>\n",
              "      <td>0.0</td>\n",
              "      <td>1.0</td>\n",
              "      <td>1.000000</td>\n",
              "      <td>0.0</td>\n",
              "      <td>0.0</td>\n",
              "      <td>0.048930</td>\n",
              "      <td>0.000000</td>\n",
              "      <td>0.044863</td>\n",
              "      <td>0.358974</td>\n",
              "      <td>1.0</td>\n",
              "      <td>1.0</td>\n",
              "      <td>1.0</td>\n",
              "    </tr>\n",
              "    <tr>\n",
              "      <th>611</th>\n",
              "      <td>0.0</td>\n",
              "      <td>1.0</td>\n",
              "      <td>0.333333</td>\n",
              "      <td>0.0</td>\n",
              "      <td>0.0</td>\n",
              "      <td>0.097984</td>\n",
              "      <td>0.005760</td>\n",
              "      <td>0.353111</td>\n",
              "      <td>0.743590</td>\n",
              "      <td>1.0</td>\n",
              "      <td>0.5</td>\n",
              "      <td>1.0</td>\n",
              "    </tr>\n",
              "    <tr>\n",
              "      <th>612</th>\n",
              "      <td>0.0</td>\n",
              "      <td>1.0</td>\n",
              "      <td>0.666667</td>\n",
              "      <td>0.0</td>\n",
              "      <td>0.0</td>\n",
              "      <td>0.091936</td>\n",
              "      <td>0.000000</td>\n",
              "      <td>0.257598</td>\n",
              "      <td>0.743590</td>\n",
              "      <td>1.0</td>\n",
              "      <td>0.5</td>\n",
              "      <td>1.0</td>\n",
              "    </tr>\n",
              "    <tr>\n",
              "      <th>613</th>\n",
              "      <td>1.0</td>\n",
              "      <td>0.0</td>\n",
              "      <td>0.000000</td>\n",
              "      <td>0.0</td>\n",
              "      <td>1.0</td>\n",
              "      <td>0.054830</td>\n",
              "      <td>0.000000</td>\n",
              "      <td>0.179450</td>\n",
              "      <td>0.743590</td>\n",
              "      <td>0.0</td>\n",
              "      <td>0.0</td>\n",
              "      <td>0.0</td>\n",
              "    </tr>\n",
              "  </tbody>\n",
              "</table>\n",
              "<p>614 rows × 12 columns</p>\n",
              "</div>\n",
              "      <button class=\"colab-df-convert\" onclick=\"convertToInteractive('df-ff4587ec-bc82-4f07-9b84-1937b3d94ac3')\"\n",
              "              title=\"Convert this dataframe to an interactive table.\"\n",
              "              style=\"display:none;\">\n",
              "        \n",
              "  <svg xmlns=\"http://www.w3.org/2000/svg\" height=\"24px\"viewBox=\"0 0 24 24\"\n",
              "       width=\"24px\">\n",
              "    <path d=\"M0 0h24v24H0V0z\" fill=\"none\"/>\n",
              "    <path d=\"M18.56 5.44l.94 2.06.94-2.06 2.06-.94-2.06-.94-.94-2.06-.94 2.06-2.06.94zm-11 1L8.5 8.5l.94-2.06 2.06-.94-2.06-.94L8.5 2.5l-.94 2.06-2.06.94zm10 10l.94 2.06.94-2.06 2.06-.94-2.06-.94-.94-2.06-.94 2.06-2.06.94z\"/><path d=\"M17.41 7.96l-1.37-1.37c-.4-.4-.92-.59-1.43-.59-.52 0-1.04.2-1.43.59L10.3 9.45l-7.72 7.72c-.78.78-.78 2.05 0 2.83L4 21.41c.39.39.9.59 1.41.59.51 0 1.02-.2 1.41-.59l7.78-7.78 2.81-2.81c.8-.78.8-2.07 0-2.86zM5.41 20L4 18.59l7.72-7.72 1.47 1.35L5.41 20z\"/>\n",
              "  </svg>\n",
              "      </button>\n",
              "      \n",
              "  <style>\n",
              "    .colab-df-container {\n",
              "      display:flex;\n",
              "      flex-wrap:wrap;\n",
              "      gap: 12px;\n",
              "    }\n",
              "\n",
              "    .colab-df-convert {\n",
              "      background-color: #E8F0FE;\n",
              "      border: none;\n",
              "      border-radius: 50%;\n",
              "      cursor: pointer;\n",
              "      display: none;\n",
              "      fill: #1967D2;\n",
              "      height: 32px;\n",
              "      padding: 0 0 0 0;\n",
              "      width: 32px;\n",
              "    }\n",
              "\n",
              "    .colab-df-convert:hover {\n",
              "      background-color: #E2EBFA;\n",
              "      box-shadow: 0px 1px 2px rgba(60, 64, 67, 0.3), 0px 1px 3px 1px rgba(60, 64, 67, 0.15);\n",
              "      fill: #174EA6;\n",
              "    }\n",
              "\n",
              "    [theme=dark] .colab-df-convert {\n",
              "      background-color: #3B4455;\n",
              "      fill: #D2E3FC;\n",
              "    }\n",
              "\n",
              "    [theme=dark] .colab-df-convert:hover {\n",
              "      background-color: #434B5C;\n",
              "      box-shadow: 0px 1px 3px 1px rgba(0, 0, 0, 0.15);\n",
              "      filter: drop-shadow(0px 1px 2px rgba(0, 0, 0, 0.3));\n",
              "      fill: #FFFFFF;\n",
              "    }\n",
              "  </style>\n",
              "\n",
              "      <script>\n",
              "        const buttonEl =\n",
              "          document.querySelector('#df-ff4587ec-bc82-4f07-9b84-1937b3d94ac3 button.colab-df-convert');\n",
              "        buttonEl.style.display =\n",
              "          google.colab.kernel.accessAllowed ? 'block' : 'none';\n",
              "\n",
              "        async function convertToInteractive(key) {\n",
              "          const element = document.querySelector('#df-ff4587ec-bc82-4f07-9b84-1937b3d94ac3');\n",
              "          const dataTable =\n",
              "            await google.colab.kernel.invokeFunction('convertToInteractive',\n",
              "                                                     [key], {});\n",
              "          if (!dataTable) return;\n",
              "\n",
              "          const docLinkHtml = 'Like what you see? Visit the ' +\n",
              "            '<a target=\"_blank\" href=https://colab.research.google.com/notebooks/data_table.ipynb>data table notebook</a>'\n",
              "            + ' to learn more about interactive tables.';\n",
              "          element.innerHTML = '';\n",
              "          dataTable['output_type'] = 'display_data';\n",
              "          await google.colab.output.renderOutput(dataTable, element);\n",
              "          const docLink = document.createElement('div');\n",
              "          docLink.innerHTML = docLinkHtml;\n",
              "          element.appendChild(docLink);\n",
              "        }\n",
              "      </script>\n",
              "    </div>\n",
              "  </div>\n",
              "  "
            ]
          },
          "metadata": {},
          "execution_count": 1580
        }
      ],
      "source": [
        "data"
      ]
    },
    {
      "cell_type": "code",
      "source": [
        "data.dtypes"
      ],
      "metadata": {
        "colab": {
          "base_uri": "https://localhost:8080/"
        },
        "id": "8_HHfyGfSSQP",
        "outputId": "8edee4a0-9860-4cf7-b6b4-090f7e4f254f"
      },
      "id": "8_HHfyGfSSQP",
      "execution_count": 1581,
      "outputs": [
        {
          "output_type": "execute_result",
          "data": {
            "text/plain": [
              "Gender               float64\n",
              "Married              float64\n",
              "Dependents           float64\n",
              "Education            float64\n",
              "Self_Employed        float64\n",
              "ApplicantIncome      float64\n",
              "CoapplicantIncome    float64\n",
              "LoanAmount           float64\n",
              "Loan_Amount_Term     float64\n",
              "Credit_History       float64\n",
              "Property_Area        float64\n",
              "Loan_Status          float64\n",
              "dtype: object"
            ]
          },
          "metadata": {},
          "execution_count": 1581
        }
      ]
    },
    {
      "cell_type": "code",
      "execution_count": 1582,
      "id": "66ca7434",
      "metadata": {
        "id": "66ca7434"
      },
      "outputs": [],
      "source": [
        "x=data.drop('Loan_Status',axis=1)\n",
        "y=data['Loan_Status']"
      ]
    },
    {
      "cell_type": "code",
      "execution_count": 1583,
      "id": "62245175",
      "metadata": {
        "colab": {
          "base_uri": "https://localhost:8080/"
        },
        "id": "62245175",
        "outputId": "f387d63f-f0f4-46a3-ca15-255040b840d8"
      },
      "outputs": [
        {
          "output_type": "execute_result",
          "data": {
            "text/plain": [
              "((614, 11), (614,))"
            ]
          },
          "metadata": {},
          "execution_count": 1583
        }
      ],
      "source": [
        "x.shape , y.shape"
      ]
    },
    {
      "cell_type": "code",
      "execution_count": 1584,
      "id": "b4686520",
      "metadata": {
        "id": "b4686520"
      },
      "outputs": [],
      "source": [
        "from sklearn.model_selection import train_test_split"
      ]
    },
    {
      "cell_type": "code",
      "execution_count": 1585,
      "id": "86037b97",
      "metadata": {
        "id": "86037b97"
      },
      "outputs": [],
      "source": [
        "x_train , x_test , y_train , y_test = train_test_split(x,y,random_state=42,stratify=y,test_size=0.3)"
      ]
    },
    {
      "cell_type": "code",
      "execution_count": 1586,
      "id": "48556b96",
      "metadata": {
        "colab": {
          "base_uri": "https://localhost:8080/"
        },
        "id": "48556b96",
        "outputId": "2596208f-d3be-43ab-8126-8745f9b08ead"
      },
      "outputs": [
        {
          "output_type": "execute_result",
          "data": {
            "text/plain": [
              "((429, 11), (185, 11), (429,), (185,))"
            ]
          },
          "metadata": {},
          "execution_count": 1586
        }
      ],
      "source": [
        "x_train.shape , x_test.shape , y_train.shape , y_test.shape "
      ]
    },
    {
      "cell_type": "code",
      "execution_count": 1587,
      "id": "1e125eaf",
      "metadata": {
        "id": "1e125eaf"
      },
      "outputs": [],
      "source": [
        "import keras"
      ]
    },
    {
      "cell_type": "code",
      "source": [
        "import tensorflow as tf"
      ],
      "metadata": {
        "id": "Ix8qvpzeiZ3Y"
      },
      "id": "Ix8qvpzeiZ3Y",
      "execution_count": 1588,
      "outputs": []
    },
    {
      "cell_type": "code",
      "execution_count": 1589,
      "id": "10db2b03",
      "metadata": {
        "id": "10db2b03"
      },
      "outputs": [],
      "source": [
        "from keras.models import Sequential"
      ]
    },
    {
      "cell_type": "code",
      "source": [
        "from keras.layers import InputLayer , Dense"
      ],
      "metadata": {
        "id": "pi7NzO7WTS63"
      },
      "id": "pi7NzO7WTS63",
      "execution_count": 1590,
      "outputs": []
    },
    {
      "cell_type": "code",
      "source": [
        "x_train.shape"
      ],
      "metadata": {
        "colab": {
          "base_uri": "https://localhost:8080/"
        },
        "id": "Q2Cwsz8WTdG3",
        "outputId": "9b12ce49-08a3-4fed-dd2f-7cb5e973ab70"
      },
      "id": "Q2Cwsz8WTdG3",
      "execution_count": 1591,
      "outputs": [
        {
          "output_type": "execute_result",
          "data": {
            "text/plain": [
              "(429, 11)"
            ]
          },
          "metadata": {},
          "execution_count": 1591
        }
      ]
    },
    {
      "cell_type": "code",
      "source": [
        "x_train.shape[1]"
      ],
      "metadata": {
        "colab": {
          "base_uri": "https://localhost:8080/"
        },
        "id": "YgMGKkNaTr6e",
        "outputId": "272ae739-dbcf-41c6-c111-0b284e49b1f0"
      },
      "id": "YgMGKkNaTr6e",
      "execution_count": 1592,
      "outputs": [
        {
          "output_type": "execute_result",
          "data": {
            "text/plain": [
              "11"
            ]
          },
          "metadata": {},
          "execution_count": 1592
        }
      ]
    },
    {
      "cell_type": "code",
      "source": [
        "input_neuron=x_train.shape[1]"
      ],
      "metadata": {
        "id": "Kb0VBGq3TuDw"
      },
      "id": "Kb0VBGq3TuDw",
      "execution_count": 1593,
      "outputs": []
    },
    {
      "cell_type": "code",
      "source": [
        "\n",
        "output_neurons=1"
      ],
      "metadata": {
        "id": "SipuXsf4Tzre"
      },
      "id": "SipuXsf4Tzre",
      "execution_count": 1594,
      "outputs": []
    },
    {
      "cell_type": "code",
      "source": [
        "model=Sequential()"
      ],
      "metadata": {
        "id": "HcLMtMI0T3Tf"
      },
      "id": "HcLMtMI0T3Tf",
      "execution_count": 1595,
      "outputs": []
    },
    {
      "cell_type": "code",
      "source": [
        "model.add(InputLayer(input_shape=(input_neuron)))"
      ],
      "metadata": {
        "id": "Q6jAdD5XT7gH"
      },
      "id": "Q6jAdD5XT7gH",
      "execution_count": 1596,
      "outputs": []
    },
    {
      "cell_type": "code",
      "source": [
        "#model.add(Dense(units=200,activation='relu'))"
      ],
      "metadata": {
        "id": "YzBARFuzUB_Q"
      },
      "id": "YzBARFuzUB_Q",
      "execution_count": 1597,
      "outputs": []
    },
    {
      "cell_type": "code",
      "source": [
        "#model.add(Dense(units=200,activation='relu'))"
      ],
      "metadata": {
        "id": "p6tbKCn-XsdH"
      },
      "id": "p6tbKCn-XsdH",
      "execution_count": 1598,
      "outputs": []
    },
    {
      "cell_type": "code",
      "source": [
        "#model.add(Dense(units=100,activation='relu'))"
      ],
      "metadata": {
        "id": "REC_GiGHUkk1"
      },
      "id": "REC_GiGHUkk1",
      "execution_count": 1599,
      "outputs": []
    },
    {
      "cell_type": "code",
      "source": [
        "#model.add(Dense(units=100,activation='relu'))"
      ],
      "metadata": {
        "id": "3wNCyArBXjhY"
      },
      "id": "3wNCyArBXjhY",
      "execution_count": 1600,
      "outputs": []
    },
    {
      "cell_type": "code",
      "source": [
        "model.add(Dense(units=10,activation='relu'))"
      ],
      "metadata": {
        "id": "v8WE-eh-WbVH"
      },
      "id": "v8WE-eh-WbVH",
      "execution_count": 1601,
      "outputs": []
    },
    {
      "cell_type": "code",
      "source": [
        "model.add(Dense(units=10,activation='relu'))"
      ],
      "metadata": {
        "id": "bkYQ17uLWacw"
      },
      "id": "bkYQ17uLWacw",
      "execution_count": 1602,
      "outputs": []
    },
    {
      "cell_type": "code",
      "source": [
        "model.add(Dense(units=5,activation='relu'))"
      ],
      "metadata": {
        "id": "OvAUM2SzaeXQ"
      },
      "id": "OvAUM2SzaeXQ",
      "execution_count": 1603,
      "outputs": []
    },
    {
      "cell_type": "code",
      "source": [
        "model.add(Dense(units=output_neurons,activation='sigmoid'))"
      ],
      "metadata": {
        "id": "J88Mq0gaUmcX"
      },
      "id": "J88Mq0gaUmcX",
      "execution_count": 1604,
      "outputs": []
    },
    {
      "cell_type": "code",
      "source": [
        "model.summary()"
      ],
      "metadata": {
        "colab": {
          "base_uri": "https://localhost:8080/"
        },
        "id": "PLdtcr5-Uv2X",
        "outputId": "07fad983-48e1-4520-84f7-4b8c9e9351e1"
      },
      "id": "PLdtcr5-Uv2X",
      "execution_count": 1605,
      "outputs": [
        {
          "output_type": "stream",
          "name": "stdout",
          "text": [
            "Model: \"sequential_25\"\n",
            "_________________________________________________________________\n",
            " Layer (type)                Output Shape              Param #   \n",
            "=================================================================\n",
            " dense_107 (Dense)           (None, 10)                120       \n",
            "                                                                 \n",
            " dense_108 (Dense)           (None, 10)                110       \n",
            "                                                                 \n",
            " dense_109 (Dense)           (None, 5)                 55        \n",
            "                                                                 \n",
            " dense_110 (Dense)           (None, 1)                 6         \n",
            "                                                                 \n",
            "=================================================================\n",
            "Total params: 291\n",
            "Trainable params: 291\n",
            "Non-trainable params: 0\n",
            "_________________________________________________________________\n"
          ]
        }
      ]
    },
    {
      "cell_type": "markdown",
      "source": [
        "Compile the Model "
      ],
      "metadata": {
        "id": "cweAgsp9VGmP"
      },
      "id": "cweAgsp9VGmP"
    },
    {
      "cell_type": "code",
      "source": [
        "#loss using binary classification because our problem is binary classification\n",
        "#using optimizer ad Adam(Stochastic gradient descent) \n",
        "#Evaluating matrics as Accuracy\n",
        "\n",
        "model.compile(loss='binary_crossentropy',optimizer='Adam',metrics=['accuracy'])"
      ],
      "metadata": {
        "id": "I4DuesbPUxXX"
      },
      "id": "I4DuesbPUxXX",
      "execution_count": 1606,
      "outputs": []
    },
    {
      "cell_type": "code",
      "source": [
        "# from keras.saving.saving_lib import save_weights_only\n",
        "# checkpoint=tf.keras.callbacks.ModelCheckpoint('best_weight.h5',verbose=1,save_best_only=True,save_weights_only=True)\n",
        "# early_stop=tf.keras.callbacks.EarlyStopping(patience=4)"
      ],
      "metadata": {
        "id": "au-GrQ_jh3u4"
      },
      "id": "au-GrQ_jh3u4",
      "execution_count": 1607,
      "outputs": []
    },
    {
      "cell_type": "code",
      "source": [
        "model_history=model.fit(x_train,y_train,validation_data=(x_test,y_test),epochs=500)"
      ],
      "metadata": {
        "colab": {
          "base_uri": "https://localhost:8080/"
        },
        "id": "zTsWccp5V6Ao",
        "outputId": "59926d16-8643-4de0-eeeb-89db6a3a5a6f"
      },
      "id": "zTsWccp5V6Ao",
      "execution_count": 1608,
      "outputs": [
        {
          "output_type": "stream",
          "name": "stdout",
          "text": [
            "Epoch 1/500\n",
            "14/14 [==============================] - 1s 20ms/step - loss: 0.7369 - accuracy: 0.3124 - val_loss: 0.7228 - val_accuracy: 0.3459\n",
            "Epoch 2/500\n",
            "14/14 [==============================] - 0s 6ms/step - loss: 0.7128 - accuracy: 0.3473 - val_loss: 0.7021 - val_accuracy: 0.3784\n",
            "Epoch 3/500\n",
            "14/14 [==============================] - 0s 5ms/step - loss: 0.6965 - accuracy: 0.4615 - val_loss: 0.6865 - val_accuracy: 0.5297\n",
            "Epoch 4/500\n",
            "14/14 [==============================] - 0s 7ms/step - loss: 0.6859 - accuracy: 0.6014 - val_loss: 0.6771 - val_accuracy: 0.6649\n",
            "Epoch 5/500\n",
            "14/14 [==============================] - 0s 8ms/step - loss: 0.6787 - accuracy: 0.7086 - val_loss: 0.6689 - val_accuracy: 0.7568\n",
            "Epoch 6/500\n",
            "14/14 [==============================] - 0s 8ms/step - loss: 0.6725 - accuracy: 0.7646 - val_loss: 0.6611 - val_accuracy: 0.7892\n",
            "Epoch 7/500\n",
            "14/14 [==============================] - 0s 7ms/step - loss: 0.6669 - accuracy: 0.7646 - val_loss: 0.6555 - val_accuracy: 0.8324\n",
            "Epoch 8/500\n",
            "14/14 [==============================] - 0s 8ms/step - loss: 0.6620 - accuracy: 0.7809 - val_loss: 0.6486 - val_accuracy: 0.8378\n",
            "Epoch 9/500\n",
            "14/14 [==============================] - 0s 7ms/step - loss: 0.6570 - accuracy: 0.7855 - val_loss: 0.6428 - val_accuracy: 0.8432\n",
            "Epoch 10/500\n",
            "14/14 [==============================] - 0s 7ms/step - loss: 0.6520 - accuracy: 0.7879 - val_loss: 0.6355 - val_accuracy: 0.8432\n",
            "Epoch 11/500\n",
            "14/14 [==============================] - 0s 7ms/step - loss: 0.6470 - accuracy: 0.7879 - val_loss: 0.6287 - val_accuracy: 0.8432\n",
            "Epoch 12/500\n",
            "14/14 [==============================] - 0s 8ms/step - loss: 0.6417 - accuracy: 0.7902 - val_loss: 0.6220 - val_accuracy: 0.8486\n",
            "Epoch 13/500\n",
            "14/14 [==============================] - 0s 7ms/step - loss: 0.6366 - accuracy: 0.7925 - val_loss: 0.6150 - val_accuracy: 0.8486\n",
            "Epoch 14/500\n",
            "14/14 [==============================] - 0s 7ms/step - loss: 0.6313 - accuracy: 0.7925 - val_loss: 0.6087 - val_accuracy: 0.8486\n",
            "Epoch 15/500\n",
            "14/14 [==============================] - 0s 7ms/step - loss: 0.6263 - accuracy: 0.7972 - val_loss: 0.6019 - val_accuracy: 0.8486\n",
            "Epoch 16/500\n",
            "14/14 [==============================] - 0s 8ms/step - loss: 0.6213 - accuracy: 0.7972 - val_loss: 0.5954 - val_accuracy: 0.8486\n",
            "Epoch 17/500\n",
            "14/14 [==============================] - 0s 8ms/step - loss: 0.6166 - accuracy: 0.7972 - val_loss: 0.5890 - val_accuracy: 0.8486\n",
            "Epoch 18/500\n",
            "14/14 [==============================] - 0s 8ms/step - loss: 0.6120 - accuracy: 0.7949 - val_loss: 0.5827 - val_accuracy: 0.8486\n",
            "Epoch 19/500\n",
            "14/14 [==============================] - 0s 8ms/step - loss: 0.6078 - accuracy: 0.7925 - val_loss: 0.5772 - val_accuracy: 0.8486\n",
            "Epoch 20/500\n",
            "14/14 [==============================] - 0s 8ms/step - loss: 0.6035 - accuracy: 0.7925 - val_loss: 0.5714 - val_accuracy: 0.8486\n",
            "Epoch 21/500\n",
            "14/14 [==============================] - 0s 7ms/step - loss: 0.5996 - accuracy: 0.7949 - val_loss: 0.5667 - val_accuracy: 0.8486\n",
            "Epoch 22/500\n",
            "14/14 [==============================] - 0s 7ms/step - loss: 0.5958 - accuracy: 0.7925 - val_loss: 0.5614 - val_accuracy: 0.8486\n",
            "Epoch 23/500\n",
            "14/14 [==============================] - 0s 7ms/step - loss: 0.5923 - accuracy: 0.7925 - val_loss: 0.5567 - val_accuracy: 0.8486\n",
            "Epoch 24/500\n",
            "14/14 [==============================] - 0s 8ms/step - loss: 0.5890 - accuracy: 0.7925 - val_loss: 0.5528 - val_accuracy: 0.8486\n",
            "Epoch 25/500\n",
            "14/14 [==============================] - 0s 8ms/step - loss: 0.5857 - accuracy: 0.7949 - val_loss: 0.5481 - val_accuracy: 0.8486\n",
            "Epoch 26/500\n",
            "14/14 [==============================] - 0s 8ms/step - loss: 0.5823 - accuracy: 0.7949 - val_loss: 0.5442 - val_accuracy: 0.8486\n",
            "Epoch 27/500\n",
            "14/14 [==============================] - 0s 8ms/step - loss: 0.5793 - accuracy: 0.7925 - val_loss: 0.5389 - val_accuracy: 0.8486\n",
            "Epoch 28/500\n",
            "14/14 [==============================] - 0s 7ms/step - loss: 0.5745 - accuracy: 0.7925 - val_loss: 0.5303 - val_accuracy: 0.8486\n",
            "Epoch 29/500\n",
            "14/14 [==============================] - 0s 10ms/step - loss: 0.5614 - accuracy: 0.7925 - val_loss: 0.5024 - val_accuracy: 0.8486\n",
            "Epoch 30/500\n",
            "14/14 [==============================] - 0s 9ms/step - loss: 0.5358 - accuracy: 0.7925 - val_loss: 0.4674 - val_accuracy: 0.8486\n",
            "Epoch 31/500\n",
            "14/14 [==============================] - 0s 7ms/step - loss: 0.5130 - accuracy: 0.7925 - val_loss: 0.4484 - val_accuracy: 0.8486\n",
            "Epoch 32/500\n",
            "14/14 [==============================] - 0s 6ms/step - loss: 0.5039 - accuracy: 0.7925 - val_loss: 0.4321 - val_accuracy: 0.8486\n",
            "Epoch 33/500\n",
            "14/14 [==============================] - 0s 6ms/step - loss: 0.4969 - accuracy: 0.7925 - val_loss: 0.4236 - val_accuracy: 0.8486\n",
            "Epoch 34/500\n",
            "14/14 [==============================] - 0s 5ms/step - loss: 0.4940 - accuracy: 0.7925 - val_loss: 0.4215 - val_accuracy: 0.8486\n",
            "Epoch 35/500\n",
            "14/14 [==============================] - 0s 6ms/step - loss: 0.4915 - accuracy: 0.7925 - val_loss: 0.4181 - val_accuracy: 0.8486\n",
            "Epoch 36/500\n",
            "14/14 [==============================] - 0s 5ms/step - loss: 0.4891 - accuracy: 0.7925 - val_loss: 0.4172 - val_accuracy: 0.8486\n",
            "Epoch 37/500\n",
            "14/14 [==============================] - 0s 6ms/step - loss: 0.4877 - accuracy: 0.7925 - val_loss: 0.4163 - val_accuracy: 0.8486\n",
            "Epoch 38/500\n",
            "14/14 [==============================] - 0s 6ms/step - loss: 0.4856 - accuracy: 0.7925 - val_loss: 0.4141 - val_accuracy: 0.8486\n",
            "Epoch 39/500\n",
            "14/14 [==============================] - 0s 5ms/step - loss: 0.4843 - accuracy: 0.7925 - val_loss: 0.4154 - val_accuracy: 0.8486\n",
            "Epoch 40/500\n",
            "14/14 [==============================] - 0s 5ms/step - loss: 0.4844 - accuracy: 0.7925 - val_loss: 0.4152 - val_accuracy: 0.8486\n",
            "Epoch 41/500\n",
            "14/14 [==============================] - 0s 5ms/step - loss: 0.4830 - accuracy: 0.7925 - val_loss: 0.4160 - val_accuracy: 0.8486\n",
            "Epoch 42/500\n",
            "14/14 [==============================] - 0s 5ms/step - loss: 0.4821 - accuracy: 0.7925 - val_loss: 0.4155 - val_accuracy: 0.8486\n",
            "Epoch 43/500\n",
            "14/14 [==============================] - 0s 6ms/step - loss: 0.4819 - accuracy: 0.7925 - val_loss: 0.4158 - val_accuracy: 0.8486\n",
            "Epoch 44/500\n",
            "14/14 [==============================] - 0s 5ms/step - loss: 0.4808 - accuracy: 0.7925 - val_loss: 0.4163 - val_accuracy: 0.8486\n",
            "Epoch 45/500\n",
            "14/14 [==============================] - 0s 6ms/step - loss: 0.4807 - accuracy: 0.7925 - val_loss: 0.4155 - val_accuracy: 0.8486\n",
            "Epoch 46/500\n",
            "14/14 [==============================] - 0s 5ms/step - loss: 0.4806 - accuracy: 0.7925 - val_loss: 0.4170 - val_accuracy: 0.8486\n",
            "Epoch 47/500\n",
            "14/14 [==============================] - 0s 5ms/step - loss: 0.4793 - accuracy: 0.7925 - val_loss: 0.4196 - val_accuracy: 0.8486\n",
            "Epoch 48/500\n",
            "14/14 [==============================] - 0s 6ms/step - loss: 0.4790 - accuracy: 0.7925 - val_loss: 0.4202 - val_accuracy: 0.8486\n",
            "Epoch 49/500\n",
            "14/14 [==============================] - 0s 5ms/step - loss: 0.4778 - accuracy: 0.7925 - val_loss: 0.4199 - val_accuracy: 0.8486\n",
            "Epoch 50/500\n",
            "14/14 [==============================] - 0s 6ms/step - loss: 0.4778 - accuracy: 0.7925 - val_loss: 0.4195 - val_accuracy: 0.8486\n",
            "Epoch 51/500\n",
            "14/14 [==============================] - 0s 6ms/step - loss: 0.4772 - accuracy: 0.7925 - val_loss: 0.4186 - val_accuracy: 0.8486\n",
            "Epoch 52/500\n",
            "14/14 [==============================] - 0s 6ms/step - loss: 0.4768 - accuracy: 0.7925 - val_loss: 0.4199 - val_accuracy: 0.8486\n",
            "Epoch 53/500\n",
            "14/14 [==============================] - 0s 5ms/step - loss: 0.4782 - accuracy: 0.7925 - val_loss: 0.4210 - val_accuracy: 0.8486\n",
            "Epoch 54/500\n",
            "14/14 [==============================] - 0s 5ms/step - loss: 0.4762 - accuracy: 0.7925 - val_loss: 0.4234 - val_accuracy: 0.8432\n",
            "Epoch 55/500\n",
            "14/14 [==============================] - 0s 9ms/step - loss: 0.4762 - accuracy: 0.7925 - val_loss: 0.4223 - val_accuracy: 0.8432\n",
            "Epoch 56/500\n",
            "14/14 [==============================] - 0s 5ms/step - loss: 0.4761 - accuracy: 0.7925 - val_loss: 0.4212 - val_accuracy: 0.8486\n",
            "Epoch 57/500\n",
            "14/14 [==============================] - 0s 5ms/step - loss: 0.4750 - accuracy: 0.7925 - val_loss: 0.4235 - val_accuracy: 0.8432\n",
            "Epoch 58/500\n",
            "14/14 [==============================] - 0s 5ms/step - loss: 0.4747 - accuracy: 0.7925 - val_loss: 0.4230 - val_accuracy: 0.8432\n",
            "Epoch 59/500\n",
            "14/14 [==============================] - 0s 5ms/step - loss: 0.4748 - accuracy: 0.7925 - val_loss: 0.4229 - val_accuracy: 0.8432\n",
            "Epoch 60/500\n",
            "14/14 [==============================] - 0s 6ms/step - loss: 0.4741 - accuracy: 0.7925 - val_loss: 0.4228 - val_accuracy: 0.8432\n",
            "Epoch 61/500\n",
            "14/14 [==============================] - 0s 5ms/step - loss: 0.4742 - accuracy: 0.7925 - val_loss: 0.4220 - val_accuracy: 0.8432\n",
            "Epoch 62/500\n",
            "14/14 [==============================] - 0s 6ms/step - loss: 0.4750 - accuracy: 0.7925 - val_loss: 0.4220 - val_accuracy: 0.8432\n",
            "Epoch 63/500\n",
            "14/14 [==============================] - 0s 5ms/step - loss: 0.4738 - accuracy: 0.7925 - val_loss: 0.4238 - val_accuracy: 0.8432\n",
            "Epoch 64/500\n",
            "14/14 [==============================] - 0s 5ms/step - loss: 0.4728 - accuracy: 0.7925 - val_loss: 0.4235 - val_accuracy: 0.8432\n",
            "Epoch 65/500\n",
            "14/14 [==============================] - 0s 5ms/step - loss: 0.4731 - accuracy: 0.7925 - val_loss: 0.4226 - val_accuracy: 0.8432\n",
            "Epoch 66/500\n",
            "14/14 [==============================] - 0s 5ms/step - loss: 0.4729 - accuracy: 0.7972 - val_loss: 0.4231 - val_accuracy: 0.8432\n",
            "Epoch 67/500\n",
            "14/14 [==============================] - 0s 7ms/step - loss: 0.4735 - accuracy: 0.7949 - val_loss: 0.4255 - val_accuracy: 0.8432\n",
            "Epoch 68/500\n",
            "14/14 [==============================] - 0s 5ms/step - loss: 0.4734 - accuracy: 0.7949 - val_loss: 0.4240 - val_accuracy: 0.8432\n",
            "Epoch 69/500\n",
            "14/14 [==============================] - 0s 6ms/step - loss: 0.4728 - accuracy: 0.7925 - val_loss: 0.4242 - val_accuracy: 0.8432\n",
            "Epoch 70/500\n",
            "14/14 [==============================] - 0s 5ms/step - loss: 0.4711 - accuracy: 0.7949 - val_loss: 0.4237 - val_accuracy: 0.8432\n",
            "Epoch 71/500\n",
            "14/14 [==============================] - 0s 6ms/step - loss: 0.4723 - accuracy: 0.7925 - val_loss: 0.4245 - val_accuracy: 0.8432\n",
            "Epoch 72/500\n",
            "14/14 [==============================] - 0s 5ms/step - loss: 0.4707 - accuracy: 0.7949 - val_loss: 0.4248 - val_accuracy: 0.8432\n",
            "Epoch 73/500\n",
            "14/14 [==============================] - 0s 5ms/step - loss: 0.4706 - accuracy: 0.7949 - val_loss: 0.4249 - val_accuracy: 0.8432\n",
            "Epoch 74/500\n",
            "14/14 [==============================] - 0s 6ms/step - loss: 0.4704 - accuracy: 0.7925 - val_loss: 0.4256 - val_accuracy: 0.8432\n",
            "Epoch 75/500\n",
            "14/14 [==============================] - 0s 5ms/step - loss: 0.4700 - accuracy: 0.7949 - val_loss: 0.4257 - val_accuracy: 0.8432\n",
            "Epoch 76/500\n",
            "14/14 [==============================] - 0s 5ms/step - loss: 0.4708 - accuracy: 0.7949 - val_loss: 0.4234 - val_accuracy: 0.8432\n",
            "Epoch 77/500\n",
            "14/14 [==============================] - 0s 5ms/step - loss: 0.4693 - accuracy: 0.7972 - val_loss: 0.4246 - val_accuracy: 0.8432\n",
            "Epoch 78/500\n",
            "14/14 [==============================] - 0s 6ms/step - loss: 0.4689 - accuracy: 0.7972 - val_loss: 0.4247 - val_accuracy: 0.8432\n",
            "Epoch 79/500\n",
            "14/14 [==============================] - 0s 6ms/step - loss: 0.4687 - accuracy: 0.7972 - val_loss: 0.4249 - val_accuracy: 0.8432\n",
            "Epoch 80/500\n",
            "14/14 [==============================] - 0s 6ms/step - loss: 0.4689 - accuracy: 0.7949 - val_loss: 0.4264 - val_accuracy: 0.8432\n",
            "Epoch 81/500\n",
            "14/14 [==============================] - 0s 6ms/step - loss: 0.4686 - accuracy: 0.7925 - val_loss: 0.4244 - val_accuracy: 0.8432\n",
            "Epoch 82/500\n",
            "14/14 [==============================] - 0s 5ms/step - loss: 0.4682 - accuracy: 0.7949 - val_loss: 0.4249 - val_accuracy: 0.8432\n",
            "Epoch 83/500\n",
            "14/14 [==============================] - 0s 5ms/step - loss: 0.4701 - accuracy: 0.8042 - val_loss: 0.4256 - val_accuracy: 0.8378\n",
            "Epoch 84/500\n",
            "14/14 [==============================] - 0s 6ms/step - loss: 0.4691 - accuracy: 0.7995 - val_loss: 0.4246 - val_accuracy: 0.8432\n",
            "Epoch 85/500\n",
            "14/14 [==============================] - 0s 5ms/step - loss: 0.4676 - accuracy: 0.7995 - val_loss: 0.4259 - val_accuracy: 0.8378\n",
            "Epoch 86/500\n",
            "14/14 [==============================] - 0s 6ms/step - loss: 0.4677 - accuracy: 0.8019 - val_loss: 0.4277 - val_accuracy: 0.8378\n",
            "Epoch 87/500\n",
            "14/14 [==============================] - 0s 6ms/step - loss: 0.4669 - accuracy: 0.8019 - val_loss: 0.4256 - val_accuracy: 0.8432\n",
            "Epoch 88/500\n",
            "14/14 [==============================] - 0s 6ms/step - loss: 0.4666 - accuracy: 0.8019 - val_loss: 0.4260 - val_accuracy: 0.8432\n",
            "Epoch 89/500\n",
            "14/14 [==============================] - 0s 5ms/step - loss: 0.4661 - accuracy: 0.7995 - val_loss: 0.4262 - val_accuracy: 0.8432\n",
            "Epoch 90/500\n",
            "14/14 [==============================] - 0s 6ms/step - loss: 0.4661 - accuracy: 0.8019 - val_loss: 0.4251 - val_accuracy: 0.8432\n",
            "Epoch 91/500\n",
            "14/14 [==============================] - 0s 6ms/step - loss: 0.4668 - accuracy: 0.8042 - val_loss: 0.4257 - val_accuracy: 0.8432\n",
            "Epoch 92/500\n",
            "14/14 [==============================] - 0s 5ms/step - loss: 0.4660 - accuracy: 0.8089 - val_loss: 0.4246 - val_accuracy: 0.8432\n",
            "Epoch 93/500\n",
            "14/14 [==============================] - 0s 6ms/step - loss: 0.4654 - accuracy: 0.8042 - val_loss: 0.4254 - val_accuracy: 0.8432\n",
            "Epoch 94/500\n",
            "14/14 [==============================] - 0s 6ms/step - loss: 0.4665 - accuracy: 0.8042 - val_loss: 0.4267 - val_accuracy: 0.8324\n",
            "Epoch 95/500\n",
            "14/14 [==============================] - 0s 5ms/step - loss: 0.4664 - accuracy: 0.8042 - val_loss: 0.4263 - val_accuracy: 0.8432\n",
            "Epoch 96/500\n",
            "14/14 [==============================] - 0s 5ms/step - loss: 0.4651 - accuracy: 0.8019 - val_loss: 0.4251 - val_accuracy: 0.8432\n",
            "Epoch 97/500\n",
            "14/14 [==============================] - 0s 5ms/step - loss: 0.4685 - accuracy: 0.7995 - val_loss: 0.4290 - val_accuracy: 0.8324\n",
            "Epoch 98/500\n",
            "14/14 [==============================] - 0s 5ms/step - loss: 0.4645 - accuracy: 0.8042 - val_loss: 0.4257 - val_accuracy: 0.8432\n",
            "Epoch 99/500\n",
            "14/14 [==============================] - 0s 6ms/step - loss: 0.4653 - accuracy: 0.8019 - val_loss: 0.4260 - val_accuracy: 0.8432\n",
            "Epoch 100/500\n",
            "14/14 [==============================] - 0s 6ms/step - loss: 0.4641 - accuracy: 0.8042 - val_loss: 0.4267 - val_accuracy: 0.8432\n",
            "Epoch 101/500\n",
            "14/14 [==============================] - 0s 5ms/step - loss: 0.4636 - accuracy: 0.8089 - val_loss: 0.4254 - val_accuracy: 0.8432\n",
            "Epoch 102/500\n",
            "14/14 [==============================] - 0s 5ms/step - loss: 0.4639 - accuracy: 0.8065 - val_loss: 0.4259 - val_accuracy: 0.8432\n",
            "Epoch 103/500\n",
            "14/14 [==============================] - 0s 5ms/step - loss: 0.4634 - accuracy: 0.8065 - val_loss: 0.4273 - val_accuracy: 0.8432\n",
            "Epoch 104/500\n",
            "14/14 [==============================] - 0s 5ms/step - loss: 0.4629 - accuracy: 0.8112 - val_loss: 0.4272 - val_accuracy: 0.8432\n",
            "Epoch 105/500\n",
            "14/14 [==============================] - 0s 5ms/step - loss: 0.4630 - accuracy: 0.8065 - val_loss: 0.4271 - val_accuracy: 0.8324\n",
            "Epoch 106/500\n",
            "14/14 [==============================] - 0s 6ms/step - loss: 0.4627 - accuracy: 0.8065 - val_loss: 0.4274 - val_accuracy: 0.8432\n",
            "Epoch 107/500\n",
            "14/14 [==============================] - 0s 5ms/step - loss: 0.4635 - accuracy: 0.8065 - val_loss: 0.4276 - val_accuracy: 0.8432\n",
            "Epoch 108/500\n",
            "14/14 [==============================] - 0s 6ms/step - loss: 0.4621 - accuracy: 0.8089 - val_loss: 0.4272 - val_accuracy: 0.8432\n",
            "Epoch 109/500\n",
            "14/14 [==============================] - 0s 5ms/step - loss: 0.4626 - accuracy: 0.8112 - val_loss: 0.4277 - val_accuracy: 0.8432\n",
            "Epoch 110/500\n",
            "14/14 [==============================] - 0s 5ms/step - loss: 0.4616 - accuracy: 0.8112 - val_loss: 0.4257 - val_accuracy: 0.8432\n",
            "Epoch 111/500\n",
            "14/14 [==============================] - 0s 6ms/step - loss: 0.4616 - accuracy: 0.8065 - val_loss: 0.4266 - val_accuracy: 0.8324\n",
            "Epoch 112/500\n",
            "14/14 [==============================] - 0s 5ms/step - loss: 0.4616 - accuracy: 0.8065 - val_loss: 0.4262 - val_accuracy: 0.8378\n",
            "Epoch 113/500\n",
            "14/14 [==============================] - 0s 6ms/step - loss: 0.4612 - accuracy: 0.8042 - val_loss: 0.4255 - val_accuracy: 0.8432\n",
            "Epoch 114/500\n",
            "14/14 [==============================] - 0s 5ms/step - loss: 0.4615 - accuracy: 0.8065 - val_loss: 0.4272 - val_accuracy: 0.8324\n",
            "Epoch 115/500\n",
            "14/14 [==============================] - 0s 6ms/step - loss: 0.4608 - accuracy: 0.8112 - val_loss: 0.4270 - val_accuracy: 0.8378\n",
            "Epoch 116/500\n",
            "14/14 [==============================] - 0s 5ms/step - loss: 0.4615 - accuracy: 0.8089 - val_loss: 0.4263 - val_accuracy: 0.8324\n",
            "Epoch 117/500\n",
            "14/14 [==============================] - 0s 6ms/step - loss: 0.4602 - accuracy: 0.8042 - val_loss: 0.4267 - val_accuracy: 0.8378\n",
            "Epoch 118/500\n",
            "14/14 [==============================] - 0s 7ms/step - loss: 0.4604 - accuracy: 0.8089 - val_loss: 0.4280 - val_accuracy: 0.8324\n",
            "Epoch 119/500\n",
            "14/14 [==============================] - 0s 5ms/step - loss: 0.4608 - accuracy: 0.8042 - val_loss: 0.4286 - val_accuracy: 0.8324\n",
            "Epoch 120/500\n",
            "14/14 [==============================] - 0s 5ms/step - loss: 0.4616 - accuracy: 0.8089 - val_loss: 0.4274 - val_accuracy: 0.8432\n",
            "Epoch 121/500\n",
            "14/14 [==============================] - 0s 5ms/step - loss: 0.4602 - accuracy: 0.8042 - val_loss: 0.4279 - val_accuracy: 0.8324\n",
            "Epoch 122/500\n",
            "14/14 [==============================] - 0s 5ms/step - loss: 0.4587 - accuracy: 0.8042 - val_loss: 0.4280 - val_accuracy: 0.8378\n",
            "Epoch 123/500\n",
            "14/14 [==============================] - 0s 6ms/step - loss: 0.4596 - accuracy: 0.8065 - val_loss: 0.4276 - val_accuracy: 0.8378\n",
            "Epoch 124/500\n",
            "14/14 [==============================] - 0s 6ms/step - loss: 0.4593 - accuracy: 0.8042 - val_loss: 0.4278 - val_accuracy: 0.8324\n",
            "Epoch 125/500\n",
            "14/14 [==============================] - 0s 7ms/step - loss: 0.4592 - accuracy: 0.8042 - val_loss: 0.4281 - val_accuracy: 0.8324\n",
            "Epoch 126/500\n",
            "14/14 [==============================] - 0s 5ms/step - loss: 0.4606 - accuracy: 0.8065 - val_loss: 0.4278 - val_accuracy: 0.8378\n",
            "Epoch 127/500\n",
            "14/14 [==============================] - 0s 5ms/step - loss: 0.4586 - accuracy: 0.8089 - val_loss: 0.4275 - val_accuracy: 0.8378\n",
            "Epoch 128/500\n",
            "14/14 [==============================] - 0s 6ms/step - loss: 0.4595 - accuracy: 0.8065 - val_loss: 0.4285 - val_accuracy: 0.8324\n",
            "Epoch 129/500\n",
            "14/14 [==============================] - 0s 5ms/step - loss: 0.4593 - accuracy: 0.8089 - val_loss: 0.4268 - val_accuracy: 0.8432\n",
            "Epoch 130/500\n",
            "14/14 [==============================] - 0s 5ms/step - loss: 0.4581 - accuracy: 0.8089 - val_loss: 0.4268 - val_accuracy: 0.8378\n",
            "Epoch 131/500\n",
            "14/14 [==============================] - 0s 5ms/step - loss: 0.4584 - accuracy: 0.8042 - val_loss: 0.4270 - val_accuracy: 0.8378\n",
            "Epoch 132/500\n",
            "14/14 [==============================] - 0s 5ms/step - loss: 0.4572 - accuracy: 0.8042 - val_loss: 0.4275 - val_accuracy: 0.8378\n",
            "Epoch 133/500\n",
            "14/14 [==============================] - 0s 5ms/step - loss: 0.4582 - accuracy: 0.8065 - val_loss: 0.4281 - val_accuracy: 0.8432\n",
            "Epoch 134/500\n",
            "14/14 [==============================] - 0s 5ms/step - loss: 0.4568 - accuracy: 0.8042 - val_loss: 0.4277 - val_accuracy: 0.8378\n",
            "Epoch 135/500\n",
            "14/14 [==============================] - 0s 5ms/step - loss: 0.4576 - accuracy: 0.8042 - val_loss: 0.4284 - val_accuracy: 0.8378\n",
            "Epoch 136/500\n",
            "14/14 [==============================] - 0s 5ms/step - loss: 0.4567 - accuracy: 0.8042 - val_loss: 0.4276 - val_accuracy: 0.8378\n",
            "Epoch 137/500\n",
            "14/14 [==============================] - 0s 6ms/step - loss: 0.4570 - accuracy: 0.8042 - val_loss: 0.4285 - val_accuracy: 0.8378\n",
            "Epoch 138/500\n",
            "14/14 [==============================] - 0s 5ms/step - loss: 0.4563 - accuracy: 0.8042 - val_loss: 0.4274 - val_accuracy: 0.8378\n",
            "Epoch 139/500\n",
            "14/14 [==============================] - 0s 5ms/step - loss: 0.4572 - accuracy: 0.8065 - val_loss: 0.4275 - val_accuracy: 0.8378\n",
            "Epoch 140/500\n",
            "14/14 [==============================] - 0s 6ms/step - loss: 0.4568 - accuracy: 0.8089 - val_loss: 0.4276 - val_accuracy: 0.8378\n",
            "Epoch 141/500\n",
            "14/14 [==============================] - 0s 5ms/step - loss: 0.4557 - accuracy: 0.8112 - val_loss: 0.4266 - val_accuracy: 0.8432\n",
            "Epoch 142/500\n",
            "14/14 [==============================] - 0s 5ms/step - loss: 0.4562 - accuracy: 0.8089 - val_loss: 0.4289 - val_accuracy: 0.8378\n",
            "Epoch 143/500\n",
            "14/14 [==============================] - 0s 5ms/step - loss: 0.4555 - accuracy: 0.8065 - val_loss: 0.4285 - val_accuracy: 0.8432\n",
            "Epoch 144/500\n",
            "14/14 [==============================] - 0s 5ms/step - loss: 0.4565 - accuracy: 0.8065 - val_loss: 0.4265 - val_accuracy: 0.8432\n",
            "Epoch 145/500\n",
            "14/14 [==============================] - 0s 6ms/step - loss: 0.4554 - accuracy: 0.8089 - val_loss: 0.4268 - val_accuracy: 0.8378\n",
            "Epoch 146/500\n",
            "14/14 [==============================] - 0s 5ms/step - loss: 0.4562 - accuracy: 0.8089 - val_loss: 0.4296 - val_accuracy: 0.8378\n",
            "Epoch 147/500\n",
            "14/14 [==============================] - 0s 6ms/step - loss: 0.4566 - accuracy: 0.8089 - val_loss: 0.4286 - val_accuracy: 0.8432\n",
            "Epoch 148/500\n",
            "14/14 [==============================] - 0s 5ms/step - loss: 0.4548 - accuracy: 0.8065 - val_loss: 0.4266 - val_accuracy: 0.8378\n",
            "Epoch 149/500\n",
            "14/14 [==============================] - 0s 6ms/step - loss: 0.4547 - accuracy: 0.8065 - val_loss: 0.4281 - val_accuracy: 0.8324\n",
            "Epoch 150/500\n",
            "14/14 [==============================] - 0s 6ms/step - loss: 0.4544 - accuracy: 0.8065 - val_loss: 0.4269 - val_accuracy: 0.8378\n",
            "Epoch 151/500\n",
            "14/14 [==============================] - 0s 6ms/step - loss: 0.4541 - accuracy: 0.8089 - val_loss: 0.4273 - val_accuracy: 0.8378\n",
            "Epoch 152/500\n",
            "14/14 [==============================] - 0s 5ms/step - loss: 0.4530 - accuracy: 0.8065 - val_loss: 0.4271 - val_accuracy: 0.8432\n",
            "Epoch 153/500\n",
            "14/14 [==============================] - 0s 6ms/step - loss: 0.4534 - accuracy: 0.8135 - val_loss: 0.4264 - val_accuracy: 0.8378\n",
            "Epoch 154/500\n",
            "14/14 [==============================] - 0s 7ms/step - loss: 0.4531 - accuracy: 0.8135 - val_loss: 0.4270 - val_accuracy: 0.8432\n",
            "Epoch 155/500\n",
            "14/14 [==============================] - 0s 7ms/step - loss: 0.4535 - accuracy: 0.8112 - val_loss: 0.4295 - val_accuracy: 0.8378\n",
            "Epoch 156/500\n",
            "14/14 [==============================] - 0s 6ms/step - loss: 0.4528 - accuracy: 0.8089 - val_loss: 0.4284 - val_accuracy: 0.8432\n",
            "Epoch 157/500\n",
            "14/14 [==============================] - 0s 7ms/step - loss: 0.4526 - accuracy: 0.8065 - val_loss: 0.4286 - val_accuracy: 0.8378\n",
            "Epoch 158/500\n",
            "14/14 [==============================] - 0s 8ms/step - loss: 0.4522 - accuracy: 0.8065 - val_loss: 0.4285 - val_accuracy: 0.8432\n",
            "Epoch 159/500\n",
            "14/14 [==============================] - 0s 7ms/step - loss: 0.4528 - accuracy: 0.8065 - val_loss: 0.4282 - val_accuracy: 0.8432\n",
            "Epoch 160/500\n",
            "14/14 [==============================] - 0s 7ms/step - loss: 0.4547 - accuracy: 0.8089 - val_loss: 0.4268 - val_accuracy: 0.8432\n",
            "Epoch 161/500\n",
            "14/14 [==============================] - 0s 8ms/step - loss: 0.4525 - accuracy: 0.8112 - val_loss: 0.4296 - val_accuracy: 0.8378\n",
            "Epoch 162/500\n",
            "14/14 [==============================] - 0s 8ms/step - loss: 0.4512 - accuracy: 0.8089 - val_loss: 0.4285 - val_accuracy: 0.8432\n",
            "Epoch 163/500\n",
            "14/14 [==============================] - 0s 7ms/step - loss: 0.4523 - accuracy: 0.8112 - val_loss: 0.4274 - val_accuracy: 0.8432\n",
            "Epoch 164/500\n",
            "14/14 [==============================] - 0s 7ms/step - loss: 0.4512 - accuracy: 0.8089 - val_loss: 0.4276 - val_accuracy: 0.8432\n",
            "Epoch 165/500\n",
            "14/14 [==============================] - 0s 10ms/step - loss: 0.4506 - accuracy: 0.8089 - val_loss: 0.4277 - val_accuracy: 0.8432\n",
            "Epoch 166/500\n",
            "14/14 [==============================] - 0s 8ms/step - loss: 0.4508 - accuracy: 0.8089 - val_loss: 0.4292 - val_accuracy: 0.8378\n",
            "Epoch 167/500\n",
            "14/14 [==============================] - 0s 6ms/step - loss: 0.4515 - accuracy: 0.8089 - val_loss: 0.4286 - val_accuracy: 0.8378\n",
            "Epoch 168/500\n",
            "14/14 [==============================] - 0s 7ms/step - loss: 0.4501 - accuracy: 0.8065 - val_loss: 0.4290 - val_accuracy: 0.8378\n",
            "Epoch 169/500\n",
            "14/14 [==============================] - 0s 7ms/step - loss: 0.4497 - accuracy: 0.8089 - val_loss: 0.4279 - val_accuracy: 0.8432\n",
            "Epoch 170/500\n",
            "14/14 [==============================] - 0s 9ms/step - loss: 0.4504 - accuracy: 0.8089 - val_loss: 0.4284 - val_accuracy: 0.8432\n",
            "Epoch 171/500\n",
            "14/14 [==============================] - 0s 7ms/step - loss: 0.4501 - accuracy: 0.8135 - val_loss: 0.4293 - val_accuracy: 0.8432\n",
            "Epoch 172/500\n",
            "14/14 [==============================] - 0s 8ms/step - loss: 0.4493 - accuracy: 0.8112 - val_loss: 0.4288 - val_accuracy: 0.8378\n",
            "Epoch 173/500\n",
            "14/14 [==============================] - 0s 7ms/step - loss: 0.4494 - accuracy: 0.8089 - val_loss: 0.4283 - val_accuracy: 0.8432\n",
            "Epoch 174/500\n",
            "14/14 [==============================] - 0s 8ms/step - loss: 0.4489 - accuracy: 0.8112 - val_loss: 0.4286 - val_accuracy: 0.8432\n",
            "Epoch 175/500\n",
            "14/14 [==============================] - 0s 7ms/step - loss: 0.4502 - accuracy: 0.8135 - val_loss: 0.4290 - val_accuracy: 0.8378\n",
            "Epoch 176/500\n",
            "14/14 [==============================] - 0s 10ms/step - loss: 0.4503 - accuracy: 0.8112 - val_loss: 0.4286 - val_accuracy: 0.8432\n",
            "Epoch 177/500\n",
            "14/14 [==============================] - 0s 8ms/step - loss: 0.4481 - accuracy: 0.8042 - val_loss: 0.4281 - val_accuracy: 0.8378\n",
            "Epoch 178/500\n",
            "14/14 [==============================] - 0s 7ms/step - loss: 0.4522 - accuracy: 0.8135 - val_loss: 0.4293 - val_accuracy: 0.8378\n",
            "Epoch 179/500\n",
            "14/14 [==============================] - 0s 11ms/step - loss: 0.4482 - accuracy: 0.8089 - val_loss: 0.4280 - val_accuracy: 0.8432\n",
            "Epoch 180/500\n",
            "14/14 [==============================] - 0s 7ms/step - loss: 0.4474 - accuracy: 0.8042 - val_loss: 0.4281 - val_accuracy: 0.8432\n",
            "Epoch 181/500\n",
            "14/14 [==============================] - 0s 6ms/step - loss: 0.4473 - accuracy: 0.8112 - val_loss: 0.4290 - val_accuracy: 0.8378\n",
            "Epoch 182/500\n",
            "14/14 [==============================] - 0s 5ms/step - loss: 0.4476 - accuracy: 0.8112 - val_loss: 0.4286 - val_accuracy: 0.8432\n",
            "Epoch 183/500\n",
            "14/14 [==============================] - 0s 5ms/step - loss: 0.4471 - accuracy: 0.8089 - val_loss: 0.4288 - val_accuracy: 0.8378\n",
            "Epoch 184/500\n",
            "14/14 [==============================] - 0s 6ms/step - loss: 0.4464 - accuracy: 0.8089 - val_loss: 0.4282 - val_accuracy: 0.8432\n",
            "Epoch 185/500\n",
            "14/14 [==============================] - 0s 6ms/step - loss: 0.4473 - accuracy: 0.8112 - val_loss: 0.4272 - val_accuracy: 0.8432\n",
            "Epoch 186/500\n",
            "14/14 [==============================] - 0s 6ms/step - loss: 0.4474 - accuracy: 0.8112 - val_loss: 0.4279 - val_accuracy: 0.8432\n",
            "Epoch 187/500\n",
            "14/14 [==============================] - 0s 5ms/step - loss: 0.4469 - accuracy: 0.8112 - val_loss: 0.4273 - val_accuracy: 0.8432\n",
            "Epoch 188/500\n",
            "14/14 [==============================] - 0s 6ms/step - loss: 0.4459 - accuracy: 0.8112 - val_loss: 0.4285 - val_accuracy: 0.8324\n",
            "Epoch 189/500\n",
            "14/14 [==============================] - 0s 5ms/step - loss: 0.4460 - accuracy: 0.8065 - val_loss: 0.4283 - val_accuracy: 0.8432\n",
            "Epoch 190/500\n",
            "14/14 [==============================] - 0s 5ms/step - loss: 0.4456 - accuracy: 0.8065 - val_loss: 0.4273 - val_accuracy: 0.8378\n",
            "Epoch 191/500\n",
            "14/14 [==============================] - 0s 6ms/step - loss: 0.4456 - accuracy: 0.8089 - val_loss: 0.4272 - val_accuracy: 0.8378\n",
            "Epoch 192/500\n",
            "14/14 [==============================] - 0s 6ms/step - loss: 0.4494 - accuracy: 0.8065 - val_loss: 0.4296 - val_accuracy: 0.8324\n",
            "Epoch 193/500\n",
            "14/14 [==============================] - 0s 5ms/step - loss: 0.4452 - accuracy: 0.8112 - val_loss: 0.4266 - val_accuracy: 0.8432\n",
            "Epoch 194/500\n",
            "14/14 [==============================] - 0s 5ms/step - loss: 0.4456 - accuracy: 0.8112 - val_loss: 0.4263 - val_accuracy: 0.8378\n",
            "Epoch 195/500\n",
            "14/14 [==============================] - 0s 6ms/step - loss: 0.4442 - accuracy: 0.8065 - val_loss: 0.4268 - val_accuracy: 0.8324\n",
            "Epoch 196/500\n",
            "14/14 [==============================] - 0s 5ms/step - loss: 0.4438 - accuracy: 0.8112 - val_loss: 0.4266 - val_accuracy: 0.8432\n",
            "Epoch 197/500\n",
            "14/14 [==============================] - 0s 6ms/step - loss: 0.4440 - accuracy: 0.8135 - val_loss: 0.4264 - val_accuracy: 0.8324\n",
            "Epoch 198/500\n",
            "14/14 [==============================] - 0s 5ms/step - loss: 0.4448 - accuracy: 0.8089 - val_loss: 0.4271 - val_accuracy: 0.8324\n",
            "Epoch 199/500\n",
            "14/14 [==============================] - 0s 5ms/step - loss: 0.4432 - accuracy: 0.8182 - val_loss: 0.4262 - val_accuracy: 0.8486\n",
            "Epoch 200/500\n",
            "14/14 [==============================] - 0s 5ms/step - loss: 0.4442 - accuracy: 0.8112 - val_loss: 0.4266 - val_accuracy: 0.8324\n",
            "Epoch 201/500\n",
            "14/14 [==============================] - 0s 6ms/step - loss: 0.4438 - accuracy: 0.8089 - val_loss: 0.4261 - val_accuracy: 0.8378\n",
            "Epoch 202/500\n",
            "14/14 [==============================] - 0s 7ms/step - loss: 0.4436 - accuracy: 0.8065 - val_loss: 0.4251 - val_accuracy: 0.8324\n",
            "Epoch 203/500\n",
            "14/14 [==============================] - 0s 6ms/step - loss: 0.4433 - accuracy: 0.8112 - val_loss: 0.4264 - val_accuracy: 0.8324\n",
            "Epoch 204/500\n",
            "14/14 [==============================] - 0s 6ms/step - loss: 0.4432 - accuracy: 0.8135 - val_loss: 0.4269 - val_accuracy: 0.8324\n",
            "Epoch 205/500\n",
            "14/14 [==============================] - 0s 5ms/step - loss: 0.4422 - accuracy: 0.8089 - val_loss: 0.4257 - val_accuracy: 0.8486\n",
            "Epoch 206/500\n",
            "14/14 [==============================] - 0s 6ms/step - loss: 0.4428 - accuracy: 0.8135 - val_loss: 0.4249 - val_accuracy: 0.8378\n",
            "Epoch 207/500\n",
            "14/14 [==============================] - 0s 5ms/step - loss: 0.4419 - accuracy: 0.8089 - val_loss: 0.4261 - val_accuracy: 0.8324\n",
            "Epoch 208/500\n",
            "14/14 [==============================] - 0s 6ms/step - loss: 0.4419 - accuracy: 0.8112 - val_loss: 0.4269 - val_accuracy: 0.8378\n",
            "Epoch 209/500\n",
            "14/14 [==============================] - 0s 5ms/step - loss: 0.4424 - accuracy: 0.8135 - val_loss: 0.4269 - val_accuracy: 0.8324\n",
            "Epoch 210/500\n",
            "14/14 [==============================] - 0s 5ms/step - loss: 0.4428 - accuracy: 0.8182 - val_loss: 0.4245 - val_accuracy: 0.8378\n",
            "Epoch 211/500\n",
            "14/14 [==============================] - 0s 5ms/step - loss: 0.4418 - accuracy: 0.8089 - val_loss: 0.4265 - val_accuracy: 0.8378\n",
            "Epoch 212/500\n",
            "14/14 [==============================] - 0s 6ms/step - loss: 0.4407 - accuracy: 0.8135 - val_loss: 0.4264 - val_accuracy: 0.8378\n",
            "Epoch 213/500\n",
            "14/14 [==============================] - 0s 6ms/step - loss: 0.4412 - accuracy: 0.8112 - val_loss: 0.4261 - val_accuracy: 0.8378\n",
            "Epoch 214/500\n",
            "14/14 [==============================] - 0s 5ms/step - loss: 0.4402 - accuracy: 0.8089 - val_loss: 0.4257 - val_accuracy: 0.8378\n",
            "Epoch 215/500\n",
            "14/14 [==============================] - 0s 7ms/step - loss: 0.4420 - accuracy: 0.8135 - val_loss: 0.4265 - val_accuracy: 0.8324\n",
            "Epoch 216/500\n",
            "14/14 [==============================] - 0s 5ms/step - loss: 0.4395 - accuracy: 0.8135 - val_loss: 0.4257 - val_accuracy: 0.8378\n",
            "Epoch 217/500\n",
            "14/14 [==============================] - 0s 5ms/step - loss: 0.4397 - accuracy: 0.8112 - val_loss: 0.4252 - val_accuracy: 0.8324\n",
            "Epoch 218/500\n",
            "14/14 [==============================] - 0s 5ms/step - loss: 0.4397 - accuracy: 0.8112 - val_loss: 0.4256 - val_accuracy: 0.8324\n",
            "Epoch 219/500\n",
            "14/14 [==============================] - 0s 7ms/step - loss: 0.4393 - accuracy: 0.8159 - val_loss: 0.4253 - val_accuracy: 0.8324\n",
            "Epoch 220/500\n",
            "14/14 [==============================] - 0s 8ms/step - loss: 0.4391 - accuracy: 0.8159 - val_loss: 0.4250 - val_accuracy: 0.8378\n",
            "Epoch 221/500\n",
            "14/14 [==============================] - 0s 6ms/step - loss: 0.4388 - accuracy: 0.8089 - val_loss: 0.4254 - val_accuracy: 0.8378\n",
            "Epoch 222/500\n",
            "14/14 [==============================] - 0s 5ms/step - loss: 0.4391 - accuracy: 0.8112 - val_loss: 0.4248 - val_accuracy: 0.8378\n",
            "Epoch 223/500\n",
            "14/14 [==============================] - 0s 5ms/step - loss: 0.4385 - accuracy: 0.8112 - val_loss: 0.4248 - val_accuracy: 0.8378\n",
            "Epoch 224/500\n",
            "14/14 [==============================] - 0s 6ms/step - loss: 0.4376 - accuracy: 0.8135 - val_loss: 0.4252 - val_accuracy: 0.8324\n",
            "Epoch 225/500\n",
            "14/14 [==============================] - 0s 6ms/step - loss: 0.4390 - accuracy: 0.8135 - val_loss: 0.4248 - val_accuracy: 0.8378\n",
            "Epoch 226/500\n",
            "14/14 [==============================] - 0s 5ms/step - loss: 0.4390 - accuracy: 0.8159 - val_loss: 0.4260 - val_accuracy: 0.8324\n",
            "Epoch 227/500\n",
            "14/14 [==============================] - 0s 7ms/step - loss: 0.4380 - accuracy: 0.8112 - val_loss: 0.4249 - val_accuracy: 0.8378\n",
            "Epoch 228/500\n",
            "14/14 [==============================] - 0s 5ms/step - loss: 0.4378 - accuracy: 0.8112 - val_loss: 0.4247 - val_accuracy: 0.8324\n",
            "Epoch 229/500\n",
            "14/14 [==============================] - 0s 6ms/step - loss: 0.4368 - accuracy: 0.8089 - val_loss: 0.4241 - val_accuracy: 0.8378\n",
            "Epoch 230/500\n",
            "14/14 [==============================] - 0s 7ms/step - loss: 0.4361 - accuracy: 0.8135 - val_loss: 0.4255 - val_accuracy: 0.8324\n",
            "Epoch 231/500\n",
            "14/14 [==============================] - 0s 5ms/step - loss: 0.4367 - accuracy: 0.8135 - val_loss: 0.4262 - val_accuracy: 0.8324\n",
            "Epoch 232/500\n",
            "14/14 [==============================] - 0s 5ms/step - loss: 0.4384 - accuracy: 0.8159 - val_loss: 0.4239 - val_accuracy: 0.8378\n",
            "Epoch 233/500\n",
            "14/14 [==============================] - 0s 5ms/step - loss: 0.4373 - accuracy: 0.8182 - val_loss: 0.4262 - val_accuracy: 0.8324\n",
            "Epoch 234/500\n",
            "14/14 [==============================] - 0s 5ms/step - loss: 0.4354 - accuracy: 0.8135 - val_loss: 0.4247 - val_accuracy: 0.8324\n",
            "Epoch 235/500\n",
            "14/14 [==============================] - 0s 6ms/step - loss: 0.4361 - accuracy: 0.8135 - val_loss: 0.4256 - val_accuracy: 0.8324\n",
            "Epoch 236/500\n",
            "14/14 [==============================] - 0s 6ms/step - loss: 0.4359 - accuracy: 0.8135 - val_loss: 0.4252 - val_accuracy: 0.8324\n",
            "Epoch 237/500\n",
            "14/14 [==============================] - 0s 5ms/step - loss: 0.4356 - accuracy: 0.8135 - val_loss: 0.4252 - val_accuracy: 0.8324\n",
            "Epoch 238/500\n",
            "14/14 [==============================] - 0s 6ms/step - loss: 0.4343 - accuracy: 0.8135 - val_loss: 0.4243 - val_accuracy: 0.8324\n",
            "Epoch 239/500\n",
            "14/14 [==============================] - 0s 8ms/step - loss: 0.4344 - accuracy: 0.8112 - val_loss: 0.4249 - val_accuracy: 0.8324\n",
            "Epoch 240/500\n",
            "14/14 [==============================] - 0s 5ms/step - loss: 0.4350 - accuracy: 0.8182 - val_loss: 0.4260 - val_accuracy: 0.8324\n",
            "Epoch 241/500\n",
            "14/14 [==============================] - 0s 5ms/step - loss: 0.4344 - accuracy: 0.8112 - val_loss: 0.4249 - val_accuracy: 0.8378\n",
            "Epoch 242/500\n",
            "14/14 [==============================] - 0s 5ms/step - loss: 0.4340 - accuracy: 0.8135 - val_loss: 0.4246 - val_accuracy: 0.8324\n",
            "Epoch 243/500\n",
            "14/14 [==============================] - 0s 5ms/step - loss: 0.4329 - accuracy: 0.8135 - val_loss: 0.4260 - val_accuracy: 0.8324\n",
            "Epoch 244/500\n",
            "14/14 [==============================] - 0s 6ms/step - loss: 0.4342 - accuracy: 0.8205 - val_loss: 0.4296 - val_accuracy: 0.8324\n",
            "Epoch 245/500\n",
            "14/14 [==============================] - 0s 5ms/step - loss: 0.4339 - accuracy: 0.8159 - val_loss: 0.4262 - val_accuracy: 0.8324\n",
            "Epoch 246/500\n",
            "14/14 [==============================] - 0s 6ms/step - loss: 0.4335 - accuracy: 0.8135 - val_loss: 0.4254 - val_accuracy: 0.8324\n",
            "Epoch 247/500\n",
            "14/14 [==============================] - 0s 5ms/step - loss: 0.4334 - accuracy: 0.8135 - val_loss: 0.4265 - val_accuracy: 0.8324\n",
            "Epoch 248/500\n",
            "14/14 [==============================] - 0s 6ms/step - loss: 0.4330 - accuracy: 0.8135 - val_loss: 0.4259 - val_accuracy: 0.8324\n",
            "Epoch 249/500\n",
            "14/14 [==============================] - 0s 5ms/step - loss: 0.4317 - accuracy: 0.8135 - val_loss: 0.4252 - val_accuracy: 0.8324\n",
            "Epoch 250/500\n",
            "14/14 [==============================] - 0s 5ms/step - loss: 0.4322 - accuracy: 0.8182 - val_loss: 0.4271 - val_accuracy: 0.8324\n",
            "Epoch 251/500\n",
            "14/14 [==============================] - 0s 6ms/step - loss: 0.4321 - accuracy: 0.8159 - val_loss: 0.4250 - val_accuracy: 0.8324\n",
            "Epoch 252/500\n",
            "14/14 [==============================] - 0s 6ms/step - loss: 0.4319 - accuracy: 0.8135 - val_loss: 0.4251 - val_accuracy: 0.8324\n",
            "Epoch 253/500\n",
            "14/14 [==============================] - 0s 7ms/step - loss: 0.4318 - accuracy: 0.8135 - val_loss: 0.4242 - val_accuracy: 0.8324\n",
            "Epoch 254/500\n",
            "14/14 [==============================] - 0s 5ms/step - loss: 0.4333 - accuracy: 0.8135 - val_loss: 0.4244 - val_accuracy: 0.8324\n",
            "Epoch 255/500\n",
            "14/14 [==============================] - 0s 5ms/step - loss: 0.4311 - accuracy: 0.8182 - val_loss: 0.4250 - val_accuracy: 0.8324\n",
            "Epoch 256/500\n",
            "14/14 [==============================] - 0s 5ms/step - loss: 0.4315 - accuracy: 0.8182 - val_loss: 0.4245 - val_accuracy: 0.8324\n",
            "Epoch 257/500\n",
            "14/14 [==============================] - 0s 5ms/step - loss: 0.4308 - accuracy: 0.8159 - val_loss: 0.4233 - val_accuracy: 0.8324\n",
            "Epoch 258/500\n",
            "14/14 [==============================] - 0s 5ms/step - loss: 0.4308 - accuracy: 0.8159 - val_loss: 0.4260 - val_accuracy: 0.8324\n",
            "Epoch 259/500\n",
            "14/14 [==============================] - 0s 6ms/step - loss: 0.4298 - accuracy: 0.8205 - val_loss: 0.4234 - val_accuracy: 0.8324\n",
            "Epoch 260/500\n",
            "14/14 [==============================] - 0s 6ms/step - loss: 0.4310 - accuracy: 0.8135 - val_loss: 0.4226 - val_accuracy: 0.8324\n",
            "Epoch 261/500\n",
            "14/14 [==============================] - 0s 6ms/step - loss: 0.4301 - accuracy: 0.8159 - val_loss: 0.4239 - val_accuracy: 0.8324\n",
            "Epoch 262/500\n",
            "14/14 [==============================] - 0s 6ms/step - loss: 0.4303 - accuracy: 0.8252 - val_loss: 0.4242 - val_accuracy: 0.8324\n",
            "Epoch 263/500\n",
            "14/14 [==============================] - 0s 6ms/step - loss: 0.4296 - accuracy: 0.8135 - val_loss: 0.4223 - val_accuracy: 0.8432\n",
            "Epoch 264/500\n",
            "14/14 [==============================] - 0s 6ms/step - loss: 0.4287 - accuracy: 0.8182 - val_loss: 0.4234 - val_accuracy: 0.8324\n",
            "Epoch 265/500\n",
            "14/14 [==============================] - 0s 5ms/step - loss: 0.4288 - accuracy: 0.8135 - val_loss: 0.4221 - val_accuracy: 0.8324\n",
            "Epoch 266/500\n",
            "14/14 [==============================] - 0s 5ms/step - loss: 0.4278 - accuracy: 0.8159 - val_loss: 0.4221 - val_accuracy: 0.8324\n",
            "Epoch 267/500\n",
            "14/14 [==============================] - 0s 6ms/step - loss: 0.4287 - accuracy: 0.8159 - val_loss: 0.4225 - val_accuracy: 0.8324\n",
            "Epoch 268/500\n",
            "14/14 [==============================] - 0s 5ms/step - loss: 0.4282 - accuracy: 0.8135 - val_loss: 0.4209 - val_accuracy: 0.8324\n",
            "Epoch 269/500\n",
            "14/14 [==============================] - 0s 5ms/step - loss: 0.4285 - accuracy: 0.8159 - val_loss: 0.4221 - val_accuracy: 0.8324\n",
            "Epoch 270/500\n",
            "14/14 [==============================] - 0s 5ms/step - loss: 0.4268 - accuracy: 0.8135 - val_loss: 0.4213 - val_accuracy: 0.8324\n",
            "Epoch 271/500\n",
            "14/14 [==============================] - 0s 5ms/step - loss: 0.4310 - accuracy: 0.8228 - val_loss: 0.4230 - val_accuracy: 0.8324\n",
            "Epoch 272/500\n",
            "14/14 [==============================] - 0s 6ms/step - loss: 0.4281 - accuracy: 0.8135 - val_loss: 0.4216 - val_accuracy: 0.8324\n",
            "Epoch 273/500\n",
            "14/14 [==============================] - 0s 5ms/step - loss: 0.4279 - accuracy: 0.8205 - val_loss: 0.4239 - val_accuracy: 0.8324\n",
            "Epoch 274/500\n",
            "14/14 [==============================] - 0s 6ms/step - loss: 0.4267 - accuracy: 0.8228 - val_loss: 0.4241 - val_accuracy: 0.8324\n",
            "Epoch 275/500\n",
            "14/14 [==============================] - 0s 6ms/step - loss: 0.4292 - accuracy: 0.8135 - val_loss: 0.4220 - val_accuracy: 0.8324\n",
            "Epoch 276/500\n",
            "14/14 [==============================] - 0s 6ms/step - loss: 0.4272 - accuracy: 0.8159 - val_loss: 0.4214 - val_accuracy: 0.8324\n",
            "Epoch 277/500\n",
            "14/14 [==============================] - 0s 5ms/step - loss: 0.4266 - accuracy: 0.8159 - val_loss: 0.4221 - val_accuracy: 0.8324\n",
            "Epoch 278/500\n",
            "14/14 [==============================] - 0s 6ms/step - loss: 0.4262 - accuracy: 0.8159 - val_loss: 0.4226 - val_accuracy: 0.8270\n",
            "Epoch 279/500\n",
            "14/14 [==============================] - 0s 6ms/step - loss: 0.4256 - accuracy: 0.8135 - val_loss: 0.4240 - val_accuracy: 0.8324\n",
            "Epoch 280/500\n",
            "14/14 [==============================] - 0s 6ms/step - loss: 0.4288 - accuracy: 0.8135 - val_loss: 0.4222 - val_accuracy: 0.8324\n",
            "Epoch 281/500\n",
            "14/14 [==============================] - 0s 6ms/step - loss: 0.4261 - accuracy: 0.8182 - val_loss: 0.4243 - val_accuracy: 0.8324\n",
            "Epoch 282/500\n",
            "14/14 [==============================] - 0s 5ms/step - loss: 0.4279 - accuracy: 0.8159 - val_loss: 0.4217 - val_accuracy: 0.8270\n",
            "Epoch 283/500\n",
            "14/14 [==============================] - 0s 6ms/step - loss: 0.4252 - accuracy: 0.8205 - val_loss: 0.4222 - val_accuracy: 0.8324\n",
            "Epoch 284/500\n",
            "14/14 [==============================] - 0s 5ms/step - loss: 0.4259 - accuracy: 0.8182 - val_loss: 0.4215 - val_accuracy: 0.8270\n",
            "Epoch 285/500\n",
            "14/14 [==============================] - 0s 5ms/step - loss: 0.4247 - accuracy: 0.8159 - val_loss: 0.4212 - val_accuracy: 0.8324\n",
            "Epoch 286/500\n",
            "14/14 [==============================] - 0s 7ms/step - loss: 0.4259 - accuracy: 0.8159 - val_loss: 0.4217 - val_accuracy: 0.8324\n",
            "Epoch 287/500\n",
            "14/14 [==============================] - 0s 6ms/step - loss: 0.4242 - accuracy: 0.8182 - val_loss: 0.4206 - val_accuracy: 0.8270\n",
            "Epoch 288/500\n",
            "14/14 [==============================] - 0s 6ms/step - loss: 0.4245 - accuracy: 0.8135 - val_loss: 0.4217 - val_accuracy: 0.8324\n",
            "Epoch 289/500\n",
            "14/14 [==============================] - 0s 5ms/step - loss: 0.4245 - accuracy: 0.8159 - val_loss: 0.4221 - val_accuracy: 0.8270\n",
            "Epoch 290/500\n",
            "14/14 [==============================] - 0s 5ms/step - loss: 0.4260 - accuracy: 0.8205 - val_loss: 0.4212 - val_accuracy: 0.8324\n",
            "Epoch 291/500\n",
            "14/14 [==============================] - 0s 5ms/step - loss: 0.4235 - accuracy: 0.8182 - val_loss: 0.4208 - val_accuracy: 0.8324\n",
            "Epoch 292/500\n",
            "14/14 [==============================] - 0s 6ms/step - loss: 0.4232 - accuracy: 0.8205 - val_loss: 0.4202 - val_accuracy: 0.8270\n",
            "Epoch 293/500\n",
            "14/14 [==============================] - 0s 5ms/step - loss: 0.4245 - accuracy: 0.8228 - val_loss: 0.4213 - val_accuracy: 0.8324\n",
            "Epoch 294/500\n",
            "14/14 [==============================] - 0s 6ms/step - loss: 0.4234 - accuracy: 0.8159 - val_loss: 0.4205 - val_accuracy: 0.8324\n",
            "Epoch 295/500\n",
            "14/14 [==============================] - 0s 6ms/step - loss: 0.4221 - accuracy: 0.8159 - val_loss: 0.4202 - val_accuracy: 0.8324\n",
            "Epoch 296/500\n",
            "14/14 [==============================] - 0s 5ms/step - loss: 0.4240 - accuracy: 0.8228 - val_loss: 0.4198 - val_accuracy: 0.8324\n",
            "Epoch 297/500\n",
            "14/14 [==============================] - 0s 5ms/step - loss: 0.4218 - accuracy: 0.8205 - val_loss: 0.4197 - val_accuracy: 0.8324\n",
            "Epoch 298/500\n",
            "14/14 [==============================] - 0s 8ms/step - loss: 0.4236 - accuracy: 0.8159 - val_loss: 0.4201 - val_accuracy: 0.8324\n",
            "Epoch 299/500\n",
            "14/14 [==============================] - 0s 8ms/step - loss: 0.4225 - accuracy: 0.8182 - val_loss: 0.4194 - val_accuracy: 0.8324\n",
            "Epoch 300/500\n",
            "14/14 [==============================] - 0s 7ms/step - loss: 0.4216 - accuracy: 0.8182 - val_loss: 0.4194 - val_accuracy: 0.8324\n",
            "Epoch 301/500\n",
            "14/14 [==============================] - 0s 7ms/step - loss: 0.4213 - accuracy: 0.8205 - val_loss: 0.4206 - val_accuracy: 0.8324\n",
            "Epoch 302/500\n",
            "14/14 [==============================] - 0s 8ms/step - loss: 0.4227 - accuracy: 0.8205 - val_loss: 0.4207 - val_accuracy: 0.8324\n",
            "Epoch 303/500\n",
            "14/14 [==============================] - 0s 7ms/step - loss: 0.4213 - accuracy: 0.8159 - val_loss: 0.4205 - val_accuracy: 0.8324\n",
            "Epoch 304/500\n",
            "14/14 [==============================] - 0s 7ms/step - loss: 0.4224 - accuracy: 0.8182 - val_loss: 0.4207 - val_accuracy: 0.8324\n",
            "Epoch 305/500\n",
            "14/14 [==============================] - 0s 7ms/step - loss: 0.4205 - accuracy: 0.8205 - val_loss: 0.4196 - val_accuracy: 0.8324\n",
            "Epoch 306/500\n",
            "14/14 [==============================] - 0s 7ms/step - loss: 0.4207 - accuracy: 0.8205 - val_loss: 0.4193 - val_accuracy: 0.8324\n",
            "Epoch 307/500\n",
            "14/14 [==============================] - 0s 7ms/step - loss: 0.4210 - accuracy: 0.8228 - val_loss: 0.4193 - val_accuracy: 0.8324\n",
            "Epoch 308/500\n",
            "14/14 [==============================] - 0s 8ms/step - loss: 0.4212 - accuracy: 0.8182 - val_loss: 0.4194 - val_accuracy: 0.8324\n",
            "Epoch 309/500\n",
            "14/14 [==============================] - 0s 7ms/step - loss: 0.4202 - accuracy: 0.8182 - val_loss: 0.4194 - val_accuracy: 0.8324\n",
            "Epoch 310/500\n",
            "14/14 [==============================] - 0s 8ms/step - loss: 0.4209 - accuracy: 0.8182 - val_loss: 0.4195 - val_accuracy: 0.8324\n",
            "Epoch 311/500\n",
            "14/14 [==============================] - 0s 7ms/step - loss: 0.4204 - accuracy: 0.8182 - val_loss: 0.4187 - val_accuracy: 0.8378\n",
            "Epoch 312/500\n",
            "14/14 [==============================] - 0s 7ms/step - loss: 0.4194 - accuracy: 0.8205 - val_loss: 0.4181 - val_accuracy: 0.8324\n",
            "Epoch 313/500\n",
            "14/14 [==============================] - 0s 9ms/step - loss: 0.4203 - accuracy: 0.8205 - val_loss: 0.4183 - val_accuracy: 0.8324\n",
            "Epoch 314/500\n",
            "14/14 [==============================] - 0s 8ms/step - loss: 0.4197 - accuracy: 0.8182 - val_loss: 0.4185 - val_accuracy: 0.8324\n",
            "Epoch 315/500\n",
            "14/14 [==============================] - 0s 7ms/step - loss: 0.4195 - accuracy: 0.8182 - val_loss: 0.4198 - val_accuracy: 0.8324\n",
            "Epoch 316/500\n",
            "14/14 [==============================] - 0s 7ms/step - loss: 0.4193 - accuracy: 0.8205 - val_loss: 0.4178 - val_accuracy: 0.8378\n",
            "Epoch 317/500\n",
            "14/14 [==============================] - 0s 8ms/step - loss: 0.4187 - accuracy: 0.8182 - val_loss: 0.4194 - val_accuracy: 0.8324\n",
            "Epoch 318/500\n",
            "14/14 [==============================] - 0s 8ms/step - loss: 0.4180 - accuracy: 0.8205 - val_loss: 0.4194 - val_accuracy: 0.8324\n",
            "Epoch 319/500\n",
            "14/14 [==============================] - 0s 9ms/step - loss: 0.4190 - accuracy: 0.8182 - val_loss: 0.4205 - val_accuracy: 0.8324\n",
            "Epoch 320/500\n",
            "14/14 [==============================] - 0s 8ms/step - loss: 0.4185 - accuracy: 0.8205 - val_loss: 0.4210 - val_accuracy: 0.8324\n",
            "Epoch 321/500\n",
            "14/14 [==============================] - 0s 8ms/step - loss: 0.4184 - accuracy: 0.8205 - val_loss: 0.4194 - val_accuracy: 0.8324\n",
            "Epoch 322/500\n",
            "14/14 [==============================] - 0s 8ms/step - loss: 0.4200 - accuracy: 0.8159 - val_loss: 0.4187 - val_accuracy: 0.8432\n",
            "Epoch 323/500\n",
            "14/14 [==============================] - 0s 8ms/step - loss: 0.4176 - accuracy: 0.8205 - val_loss: 0.4204 - val_accuracy: 0.8324\n",
            "Epoch 324/500\n",
            "14/14 [==============================] - 0s 9ms/step - loss: 0.4197 - accuracy: 0.8252 - val_loss: 0.4184 - val_accuracy: 0.8432\n",
            "Epoch 325/500\n",
            "14/14 [==============================] - 0s 9ms/step - loss: 0.4180 - accuracy: 0.8205 - val_loss: 0.4194 - val_accuracy: 0.8324\n",
            "Epoch 326/500\n",
            "14/14 [==============================] - 0s 9ms/step - loss: 0.4215 - accuracy: 0.8228 - val_loss: 0.4186 - val_accuracy: 0.8378\n",
            "Epoch 327/500\n",
            "14/14 [==============================] - 0s 9ms/step - loss: 0.4181 - accuracy: 0.8205 - val_loss: 0.4202 - val_accuracy: 0.8378\n",
            "Epoch 328/500\n",
            "14/14 [==============================] - 0s 6ms/step - loss: 0.4173 - accuracy: 0.8228 - val_loss: 0.4186 - val_accuracy: 0.8378\n",
            "Epoch 329/500\n",
            "14/14 [==============================] - 0s 5ms/step - loss: 0.4176 - accuracy: 0.8228 - val_loss: 0.4193 - val_accuracy: 0.8324\n",
            "Epoch 330/500\n",
            "14/14 [==============================] - 0s 5ms/step - loss: 0.4168 - accuracy: 0.8182 - val_loss: 0.4185 - val_accuracy: 0.8378\n",
            "Epoch 331/500\n",
            "14/14 [==============================] - 0s 5ms/step - loss: 0.4166 - accuracy: 0.8182 - val_loss: 0.4188 - val_accuracy: 0.8324\n",
            "Epoch 332/500\n",
            "14/14 [==============================] - 0s 6ms/step - loss: 0.4179 - accuracy: 0.8182 - val_loss: 0.4205 - val_accuracy: 0.8324\n",
            "Epoch 333/500\n",
            "14/14 [==============================] - 0s 5ms/step - loss: 0.4188 - accuracy: 0.8205 - val_loss: 0.4190 - val_accuracy: 0.8378\n",
            "Epoch 334/500\n",
            "14/14 [==============================] - 0s 5ms/step - loss: 0.4173 - accuracy: 0.8205 - val_loss: 0.4195 - val_accuracy: 0.8324\n",
            "Epoch 335/500\n",
            "14/14 [==============================] - 0s 6ms/step - loss: 0.4163 - accuracy: 0.8205 - val_loss: 0.4199 - val_accuracy: 0.8378\n",
            "Epoch 336/500\n",
            "14/14 [==============================] - 0s 6ms/step - loss: 0.4171 - accuracy: 0.8228 - val_loss: 0.4202 - val_accuracy: 0.8324\n",
            "Epoch 337/500\n",
            "14/14 [==============================] - 0s 6ms/step - loss: 0.4172 - accuracy: 0.8182 - val_loss: 0.4200 - val_accuracy: 0.8378\n",
            "Epoch 338/500\n",
            "14/14 [==============================] - 0s 5ms/step - loss: 0.4167 - accuracy: 0.8205 - val_loss: 0.4208 - val_accuracy: 0.8324\n",
            "Epoch 339/500\n",
            "14/14 [==============================] - 0s 6ms/step - loss: 0.4170 - accuracy: 0.8159 - val_loss: 0.4199 - val_accuracy: 0.8378\n",
            "Epoch 340/500\n",
            "14/14 [==============================] - 0s 5ms/step - loss: 0.4162 - accuracy: 0.8182 - val_loss: 0.4197 - val_accuracy: 0.8324\n",
            "Epoch 341/500\n",
            "14/14 [==============================] - 0s 6ms/step - loss: 0.4171 - accuracy: 0.8159 - val_loss: 0.4206 - val_accuracy: 0.8324\n",
            "Epoch 342/500\n",
            "14/14 [==============================] - 0s 6ms/step - loss: 0.4157 - accuracy: 0.8182 - val_loss: 0.4207 - val_accuracy: 0.8270\n",
            "Epoch 343/500\n",
            "14/14 [==============================] - 0s 6ms/step - loss: 0.4168 - accuracy: 0.8205 - val_loss: 0.4209 - val_accuracy: 0.8378\n",
            "Epoch 344/500\n",
            "14/14 [==============================] - 0s 5ms/step - loss: 0.4167 - accuracy: 0.8182 - val_loss: 0.4233 - val_accuracy: 0.8378\n",
            "Epoch 345/500\n",
            "14/14 [==============================] - 0s 5ms/step - loss: 0.4148 - accuracy: 0.8275 - val_loss: 0.4212 - val_accuracy: 0.8324\n",
            "Epoch 346/500\n",
            "14/14 [==============================] - 0s 6ms/step - loss: 0.4156 - accuracy: 0.8205 - val_loss: 0.4206 - val_accuracy: 0.8486\n",
            "Epoch 347/500\n",
            "14/14 [==============================] - 0s 5ms/step - loss: 0.4157 - accuracy: 0.8205 - val_loss: 0.4191 - val_accuracy: 0.8432\n",
            "Epoch 348/500\n",
            "14/14 [==============================] - 0s 5ms/step - loss: 0.4176 - accuracy: 0.8182 - val_loss: 0.4216 - val_accuracy: 0.8378\n",
            "Epoch 349/500\n",
            "14/14 [==============================] - 0s 6ms/step - loss: 0.4153 - accuracy: 0.8228 - val_loss: 0.4202 - val_accuracy: 0.8378\n",
            "Epoch 350/500\n",
            "14/14 [==============================] - 0s 5ms/step - loss: 0.4148 - accuracy: 0.8252 - val_loss: 0.4208 - val_accuracy: 0.8432\n",
            "Epoch 351/500\n",
            "14/14 [==============================] - 0s 5ms/step - loss: 0.4147 - accuracy: 0.8275 - val_loss: 0.4203 - val_accuracy: 0.8432\n",
            "Epoch 352/500\n",
            "14/14 [==============================] - 0s 5ms/step - loss: 0.4142 - accuracy: 0.8275 - val_loss: 0.4192 - val_accuracy: 0.8378\n",
            "Epoch 353/500\n",
            "14/14 [==============================] - 0s 5ms/step - loss: 0.4149 - accuracy: 0.8228 - val_loss: 0.4210 - val_accuracy: 0.8378\n",
            "Epoch 354/500\n",
            "14/14 [==============================] - 0s 6ms/step - loss: 0.4151 - accuracy: 0.8205 - val_loss: 0.4193 - val_accuracy: 0.8432\n",
            "Epoch 355/500\n",
            "14/14 [==============================] - 0s 6ms/step - loss: 0.4159 - accuracy: 0.8205 - val_loss: 0.4191 - val_accuracy: 0.8486\n",
            "Epoch 356/500\n",
            "14/14 [==============================] - 0s 7ms/step - loss: 0.4134 - accuracy: 0.8275 - val_loss: 0.4196 - val_accuracy: 0.8486\n",
            "Epoch 357/500\n",
            "14/14 [==============================] - 0s 6ms/step - loss: 0.4158 - accuracy: 0.8205 - val_loss: 0.4207 - val_accuracy: 0.8432\n",
            "Epoch 358/500\n",
            "14/14 [==============================] - 0s 5ms/step - loss: 0.4162 - accuracy: 0.8228 - val_loss: 0.4198 - val_accuracy: 0.8378\n",
            "Epoch 359/500\n",
            "14/14 [==============================] - 0s 5ms/step - loss: 0.4172 - accuracy: 0.8205 - val_loss: 0.4222 - val_accuracy: 0.8378\n",
            "Epoch 360/500\n",
            "14/14 [==============================] - 0s 7ms/step - loss: 0.4134 - accuracy: 0.8205 - val_loss: 0.4204 - val_accuracy: 0.8432\n",
            "Epoch 361/500\n",
            "14/14 [==============================] - 0s 6ms/step - loss: 0.4146 - accuracy: 0.8205 - val_loss: 0.4211 - val_accuracy: 0.8378\n",
            "Epoch 362/500\n",
            "14/14 [==============================] - 0s 8ms/step - loss: 0.4146 - accuracy: 0.8252 - val_loss: 0.4179 - val_accuracy: 0.8432\n",
            "Epoch 363/500\n",
            "14/14 [==============================] - 0s 5ms/step - loss: 0.4120 - accuracy: 0.8252 - val_loss: 0.4192 - val_accuracy: 0.8378\n",
            "Epoch 364/500\n",
            "14/14 [==============================] - 0s 6ms/step - loss: 0.4137 - accuracy: 0.8159 - val_loss: 0.4203 - val_accuracy: 0.8378\n",
            "Epoch 365/500\n",
            "14/14 [==============================] - 0s 6ms/step - loss: 0.4124 - accuracy: 0.8205 - val_loss: 0.4183 - val_accuracy: 0.8486\n",
            "Epoch 366/500\n",
            "14/14 [==============================] - 0s 6ms/step - loss: 0.4137 - accuracy: 0.8252 - val_loss: 0.4192 - val_accuracy: 0.8432\n",
            "Epoch 367/500\n",
            "14/14 [==============================] - 0s 5ms/step - loss: 0.4136 - accuracy: 0.8205 - val_loss: 0.4187 - val_accuracy: 0.8432\n",
            "Epoch 368/500\n",
            "14/14 [==============================] - 0s 6ms/step - loss: 0.4124 - accuracy: 0.8275 - val_loss: 0.4195 - val_accuracy: 0.8486\n",
            "Epoch 369/500\n",
            "14/14 [==============================] - 0s 5ms/step - loss: 0.4120 - accuracy: 0.8228 - val_loss: 0.4185 - val_accuracy: 0.8486\n",
            "Epoch 370/500\n",
            "14/14 [==============================] - 0s 6ms/step - loss: 0.4107 - accuracy: 0.8228 - val_loss: 0.4188 - val_accuracy: 0.8486\n",
            "Epoch 371/500\n",
            "14/14 [==============================] - 0s 6ms/step - loss: 0.4113 - accuracy: 0.8252 - val_loss: 0.4189 - val_accuracy: 0.8486\n",
            "Epoch 372/500\n",
            "14/14 [==============================] - 0s 5ms/step - loss: 0.4121 - accuracy: 0.8228 - val_loss: 0.4180 - val_accuracy: 0.8432\n",
            "Epoch 373/500\n",
            "14/14 [==============================] - 0s 6ms/step - loss: 0.4125 - accuracy: 0.8205 - val_loss: 0.4198 - val_accuracy: 0.8541\n",
            "Epoch 374/500\n",
            "14/14 [==============================] - 0s 5ms/step - loss: 0.4103 - accuracy: 0.8252 - val_loss: 0.4179 - val_accuracy: 0.8486\n",
            "Epoch 375/500\n",
            "14/14 [==============================] - 0s 5ms/step - loss: 0.4106 - accuracy: 0.8228 - val_loss: 0.4199 - val_accuracy: 0.8486\n",
            "Epoch 376/500\n",
            "14/14 [==============================] - 0s 7ms/step - loss: 0.4106 - accuracy: 0.8228 - val_loss: 0.4189 - val_accuracy: 0.8541\n",
            "Epoch 377/500\n",
            "14/14 [==============================] - 0s 5ms/step - loss: 0.4106 - accuracy: 0.8298 - val_loss: 0.4187 - val_accuracy: 0.8486\n",
            "Epoch 378/500\n",
            "14/14 [==============================] - 0s 6ms/step - loss: 0.4100 - accuracy: 0.8275 - val_loss: 0.4178 - val_accuracy: 0.8486\n",
            "Epoch 379/500\n",
            "14/14 [==============================] - 0s 6ms/step - loss: 0.4123 - accuracy: 0.8205 - val_loss: 0.4181 - val_accuracy: 0.8486\n",
            "Epoch 380/500\n",
            "14/14 [==============================] - 0s 6ms/step - loss: 0.4103 - accuracy: 0.8298 - val_loss: 0.4190 - val_accuracy: 0.8541\n",
            "Epoch 381/500\n",
            "14/14 [==============================] - 0s 5ms/step - loss: 0.4093 - accuracy: 0.8228 - val_loss: 0.4201 - val_accuracy: 0.8486\n",
            "Epoch 382/500\n",
            "14/14 [==============================] - 0s 7ms/step - loss: 0.4104 - accuracy: 0.8228 - val_loss: 0.4185 - val_accuracy: 0.8541\n",
            "Epoch 383/500\n",
            "14/14 [==============================] - 0s 7ms/step - loss: 0.4105 - accuracy: 0.8252 - val_loss: 0.4193 - val_accuracy: 0.8541\n",
            "Epoch 384/500\n",
            "14/14 [==============================] - 0s 6ms/step - loss: 0.4100 - accuracy: 0.8228 - val_loss: 0.4196 - val_accuracy: 0.8541\n",
            "Epoch 385/500\n",
            "14/14 [==============================] - 0s 6ms/step - loss: 0.4099 - accuracy: 0.8298 - val_loss: 0.4191 - val_accuracy: 0.8486\n",
            "Epoch 386/500\n",
            "14/14 [==============================] - 0s 5ms/step - loss: 0.4097 - accuracy: 0.8182 - val_loss: 0.4190 - val_accuracy: 0.8541\n",
            "Epoch 387/500\n",
            "14/14 [==============================] - 0s 6ms/step - loss: 0.4129 - accuracy: 0.8275 - val_loss: 0.4177 - val_accuracy: 0.8486\n",
            "Epoch 388/500\n",
            "14/14 [==============================] - 0s 6ms/step - loss: 0.4070 - accuracy: 0.8275 - val_loss: 0.4198 - val_accuracy: 0.8432\n",
            "Epoch 389/500\n",
            "14/14 [==============================] - 0s 7ms/step - loss: 0.4093 - accuracy: 0.8182 - val_loss: 0.4181 - val_accuracy: 0.8541\n",
            "Epoch 390/500\n",
            "14/14 [==============================] - 0s 6ms/step - loss: 0.4091 - accuracy: 0.8252 - val_loss: 0.4189 - val_accuracy: 0.8595\n",
            "Epoch 391/500\n",
            "14/14 [==============================] - 0s 6ms/step - loss: 0.4094 - accuracy: 0.8228 - val_loss: 0.4166 - val_accuracy: 0.8541\n",
            "Epoch 392/500\n",
            "14/14 [==============================] - 0s 5ms/step - loss: 0.4107 - accuracy: 0.8205 - val_loss: 0.4166 - val_accuracy: 0.8541\n",
            "Epoch 393/500\n",
            "14/14 [==============================] - 0s 6ms/step - loss: 0.4092 - accuracy: 0.8205 - val_loss: 0.4185 - val_accuracy: 0.8595\n",
            "Epoch 394/500\n",
            "14/14 [==============================] - 0s 5ms/step - loss: 0.4083 - accuracy: 0.8205 - val_loss: 0.4193 - val_accuracy: 0.8486\n",
            "Epoch 395/500\n",
            "14/14 [==============================] - 0s 5ms/step - loss: 0.4085 - accuracy: 0.8205 - val_loss: 0.4185 - val_accuracy: 0.8541\n",
            "Epoch 396/500\n",
            "14/14 [==============================] - 0s 6ms/step - loss: 0.4090 - accuracy: 0.8228 - val_loss: 0.4167 - val_accuracy: 0.8595\n",
            "Epoch 397/500\n",
            "14/14 [==============================] - 0s 6ms/step - loss: 0.4075 - accuracy: 0.8275 - val_loss: 0.4177 - val_accuracy: 0.8541\n",
            "Epoch 398/500\n",
            "14/14 [==============================] - 0s 7ms/step - loss: 0.4082 - accuracy: 0.8205 - val_loss: 0.4171 - val_accuracy: 0.8541\n",
            "Epoch 399/500\n",
            "14/14 [==============================] - 0s 6ms/step - loss: 0.4070 - accuracy: 0.8228 - val_loss: 0.4173 - val_accuracy: 0.8541\n",
            "Epoch 400/500\n",
            "14/14 [==============================] - 0s 6ms/step - loss: 0.4083 - accuracy: 0.8228 - val_loss: 0.4174 - val_accuracy: 0.8541\n",
            "Epoch 401/500\n",
            "14/14 [==============================] - 0s 6ms/step - loss: 0.4068 - accuracy: 0.8252 - val_loss: 0.4166 - val_accuracy: 0.8541\n",
            "Epoch 402/500\n",
            "14/14 [==============================] - 0s 6ms/step - loss: 0.4083 - accuracy: 0.8228 - val_loss: 0.4166 - val_accuracy: 0.8595\n",
            "Epoch 403/500\n",
            "14/14 [==============================] - 0s 5ms/step - loss: 0.4110 - accuracy: 0.8182 - val_loss: 0.4175 - val_accuracy: 0.8432\n",
            "Epoch 404/500\n",
            "14/14 [==============================] - 0s 5ms/step - loss: 0.4104 - accuracy: 0.8205 - val_loss: 0.4179 - val_accuracy: 0.8541\n",
            "Epoch 405/500\n",
            "14/14 [==============================] - 0s 5ms/step - loss: 0.4061 - accuracy: 0.8252 - val_loss: 0.4180 - val_accuracy: 0.8486\n",
            "Epoch 406/500\n",
            "14/14 [==============================] - 0s 6ms/step - loss: 0.4087 - accuracy: 0.8205 - val_loss: 0.4162 - val_accuracy: 0.8486\n",
            "Epoch 407/500\n",
            "14/14 [==============================] - 0s 6ms/step - loss: 0.4099 - accuracy: 0.8228 - val_loss: 0.4168 - val_accuracy: 0.8541\n",
            "Epoch 408/500\n",
            "14/14 [==============================] - 0s 6ms/step - loss: 0.4058 - accuracy: 0.8252 - val_loss: 0.4165 - val_accuracy: 0.8541\n",
            "Epoch 409/500\n",
            "14/14 [==============================] - 0s 5ms/step - loss: 0.4102 - accuracy: 0.8228 - val_loss: 0.4194 - val_accuracy: 0.8541\n",
            "Epoch 410/500\n",
            "14/14 [==============================] - 0s 6ms/step - loss: 0.4076 - accuracy: 0.8252 - val_loss: 0.4189 - val_accuracy: 0.8486\n",
            "Epoch 411/500\n",
            "14/14 [==============================] - 0s 6ms/step - loss: 0.4072 - accuracy: 0.8228 - val_loss: 0.4181 - val_accuracy: 0.8595\n",
            "Epoch 412/500\n",
            "14/14 [==============================] - 0s 6ms/step - loss: 0.4049 - accuracy: 0.8252 - val_loss: 0.4183 - val_accuracy: 0.8595\n",
            "Epoch 413/500\n",
            "14/14 [==============================] - 0s 5ms/step - loss: 0.4070 - accuracy: 0.8228 - val_loss: 0.4177 - val_accuracy: 0.8541\n",
            "Epoch 414/500\n",
            "14/14 [==============================] - 0s 6ms/step - loss: 0.4084 - accuracy: 0.8182 - val_loss: 0.4183 - val_accuracy: 0.8595\n",
            "Epoch 415/500\n",
            "14/14 [==============================] - 0s 5ms/step - loss: 0.4068 - accuracy: 0.8205 - val_loss: 0.4185 - val_accuracy: 0.8541\n",
            "Epoch 416/500\n",
            "14/14 [==============================] - 0s 5ms/step - loss: 0.4052 - accuracy: 0.8205 - val_loss: 0.4173 - val_accuracy: 0.8541\n",
            "Epoch 417/500\n",
            "14/14 [==============================] - 0s 7ms/step - loss: 0.4071 - accuracy: 0.8205 - val_loss: 0.4174 - val_accuracy: 0.8541\n",
            "Epoch 418/500\n",
            "14/14 [==============================] - 0s 5ms/step - loss: 0.4062 - accuracy: 0.8252 - val_loss: 0.4180 - val_accuracy: 0.8432\n",
            "Epoch 419/500\n",
            "14/14 [==============================] - 0s 6ms/step - loss: 0.4063 - accuracy: 0.8252 - val_loss: 0.4196 - val_accuracy: 0.8541\n",
            "Epoch 420/500\n",
            "14/14 [==============================] - 0s 7ms/step - loss: 0.4058 - accuracy: 0.8228 - val_loss: 0.4172 - val_accuracy: 0.8486\n",
            "Epoch 421/500\n",
            "14/14 [==============================] - 0s 6ms/step - loss: 0.4051 - accuracy: 0.8252 - val_loss: 0.4188 - val_accuracy: 0.8541\n",
            "Epoch 422/500\n",
            "14/14 [==============================] - 0s 6ms/step - loss: 0.4049 - accuracy: 0.8205 - val_loss: 0.4174 - val_accuracy: 0.8541\n",
            "Epoch 423/500\n",
            "14/14 [==============================] - 0s 6ms/step - loss: 0.4060 - accuracy: 0.8252 - val_loss: 0.4185 - val_accuracy: 0.8486\n",
            "Epoch 424/500\n",
            "14/14 [==============================] - 0s 6ms/step - loss: 0.4049 - accuracy: 0.8182 - val_loss: 0.4185 - val_accuracy: 0.8541\n",
            "Epoch 425/500\n",
            "14/14 [==============================] - 0s 5ms/step - loss: 0.4043 - accuracy: 0.8228 - val_loss: 0.4176 - val_accuracy: 0.8541\n",
            "Epoch 426/500\n",
            "14/14 [==============================] - 0s 6ms/step - loss: 0.4044 - accuracy: 0.8205 - val_loss: 0.4175 - val_accuracy: 0.8541\n",
            "Epoch 427/500\n",
            "14/14 [==============================] - 0s 6ms/step - loss: 0.4040 - accuracy: 0.8228 - val_loss: 0.4166 - val_accuracy: 0.8541\n",
            "Epoch 428/500\n",
            "14/14 [==============================] - 0s 5ms/step - loss: 0.4043 - accuracy: 0.8228 - val_loss: 0.4176 - val_accuracy: 0.8486\n",
            "Epoch 429/500\n",
            "14/14 [==============================] - 0s 6ms/step - loss: 0.4045 - accuracy: 0.8205 - val_loss: 0.4175 - val_accuracy: 0.8541\n",
            "Epoch 430/500\n",
            "14/14 [==============================] - 0s 7ms/step - loss: 0.4045 - accuracy: 0.8228 - val_loss: 0.4181 - val_accuracy: 0.8541\n",
            "Epoch 431/500\n",
            "14/14 [==============================] - 0s 7ms/step - loss: 0.4025 - accuracy: 0.8182 - val_loss: 0.4186 - val_accuracy: 0.8541\n",
            "Epoch 432/500\n",
            "14/14 [==============================] - 0s 5ms/step - loss: 0.4052 - accuracy: 0.8205 - val_loss: 0.4193 - val_accuracy: 0.8541\n",
            "Epoch 433/500\n",
            "14/14 [==============================] - 0s 5ms/step - loss: 0.4038 - accuracy: 0.8205 - val_loss: 0.4180 - val_accuracy: 0.8541\n",
            "Epoch 434/500\n",
            "14/14 [==============================] - 0s 6ms/step - loss: 0.4033 - accuracy: 0.8275 - val_loss: 0.4176 - val_accuracy: 0.8486\n",
            "Epoch 435/500\n",
            "14/14 [==============================] - 0s 5ms/step - loss: 0.4025 - accuracy: 0.8205 - val_loss: 0.4199 - val_accuracy: 0.8541\n",
            "Epoch 436/500\n",
            "14/14 [==============================] - 0s 5ms/step - loss: 0.4029 - accuracy: 0.8252 - val_loss: 0.4175 - val_accuracy: 0.8541\n",
            "Epoch 437/500\n",
            "14/14 [==============================] - 0s 6ms/step - loss: 0.4026 - accuracy: 0.8252 - val_loss: 0.4178 - val_accuracy: 0.8541\n",
            "Epoch 438/500\n",
            "14/14 [==============================] - 0s 5ms/step - loss: 0.4034 - accuracy: 0.8205 - val_loss: 0.4197 - val_accuracy: 0.8541\n",
            "Epoch 439/500\n",
            "14/14 [==============================] - 0s 6ms/step - loss: 0.4059 - accuracy: 0.8228 - val_loss: 0.4185 - val_accuracy: 0.8486\n",
            "Epoch 440/500\n",
            "14/14 [==============================] - 0s 6ms/step - loss: 0.4049 - accuracy: 0.8205 - val_loss: 0.4209 - val_accuracy: 0.8541\n",
            "Epoch 441/500\n",
            "14/14 [==============================] - 0s 7ms/step - loss: 0.4024 - accuracy: 0.8252 - val_loss: 0.4191 - val_accuracy: 0.8432\n",
            "Epoch 442/500\n",
            "14/14 [==============================] - 0s 9ms/step - loss: 0.4044 - accuracy: 0.8205 - val_loss: 0.4199 - val_accuracy: 0.8541\n",
            "Epoch 443/500\n",
            "14/14 [==============================] - 0s 8ms/step - loss: 0.4025 - accuracy: 0.8205 - val_loss: 0.4193 - val_accuracy: 0.8432\n",
            "Epoch 444/500\n",
            "14/14 [==============================] - 0s 8ms/step - loss: 0.4038 - accuracy: 0.8228 - val_loss: 0.4195 - val_accuracy: 0.8541\n",
            "Epoch 445/500\n",
            "14/14 [==============================] - 0s 8ms/step - loss: 0.4022 - accuracy: 0.8228 - val_loss: 0.4183 - val_accuracy: 0.8541\n",
            "Epoch 446/500\n",
            "14/14 [==============================] - 0s 8ms/step - loss: 0.4029 - accuracy: 0.8228 - val_loss: 0.4200 - val_accuracy: 0.8541\n",
            "Epoch 447/500\n",
            "14/14 [==============================] - 0s 7ms/step - loss: 0.4045 - accuracy: 0.8228 - val_loss: 0.4201 - val_accuracy: 0.8432\n",
            "Epoch 448/500\n",
            "14/14 [==============================] - 0s 9ms/step - loss: 0.4012 - accuracy: 0.8252 - val_loss: 0.4180 - val_accuracy: 0.8541\n",
            "Epoch 449/500\n",
            "14/14 [==============================] - 0s 8ms/step - loss: 0.4030 - accuracy: 0.8228 - val_loss: 0.4203 - val_accuracy: 0.8541\n",
            "Epoch 450/500\n",
            "14/14 [==============================] - 0s 8ms/step - loss: 0.4007 - accuracy: 0.8252 - val_loss: 0.4201 - val_accuracy: 0.8486\n",
            "Epoch 451/500\n",
            "14/14 [==============================] - 0s 8ms/step - loss: 0.4022 - accuracy: 0.8228 - val_loss: 0.4214 - val_accuracy: 0.8486\n",
            "Epoch 452/500\n",
            "14/14 [==============================] - 0s 7ms/step - loss: 0.4021 - accuracy: 0.8228 - val_loss: 0.4187 - val_accuracy: 0.8486\n",
            "Epoch 453/500\n",
            "14/14 [==============================] - 0s 12ms/step - loss: 0.4015 - accuracy: 0.8205 - val_loss: 0.4198 - val_accuracy: 0.8541\n",
            "Epoch 454/500\n",
            "14/14 [==============================] - 0s 8ms/step - loss: 0.4029 - accuracy: 0.8205 - val_loss: 0.4198 - val_accuracy: 0.8541\n",
            "Epoch 455/500\n",
            "14/14 [==============================] - 0s 8ms/step - loss: 0.4025 - accuracy: 0.8112 - val_loss: 0.4213 - val_accuracy: 0.8324\n",
            "Epoch 456/500\n",
            "14/14 [==============================] - 0s 7ms/step - loss: 0.4001 - accuracy: 0.8228 - val_loss: 0.4217 - val_accuracy: 0.8541\n",
            "Epoch 457/500\n",
            "14/14 [==============================] - 0s 7ms/step - loss: 0.4024 - accuracy: 0.8205 - val_loss: 0.4194 - val_accuracy: 0.8541\n",
            "Epoch 458/500\n",
            "14/14 [==============================] - 0s 10ms/step - loss: 0.4077 - accuracy: 0.8159 - val_loss: 0.4205 - val_accuracy: 0.8486\n",
            "Epoch 459/500\n",
            "14/14 [==============================] - 0s 9ms/step - loss: 0.4084 - accuracy: 0.8275 - val_loss: 0.4241 - val_accuracy: 0.8541\n",
            "Epoch 460/500\n",
            "14/14 [==============================] - 0s 9ms/step - loss: 0.4014 - accuracy: 0.8089 - val_loss: 0.4235 - val_accuracy: 0.8270\n",
            "Epoch 461/500\n",
            "14/14 [==============================] - 0s 7ms/step - loss: 0.4001 - accuracy: 0.8159 - val_loss: 0.4228 - val_accuracy: 0.8541\n",
            "Epoch 462/500\n",
            "14/14 [==============================] - 0s 11ms/step - loss: 0.4022 - accuracy: 0.8205 - val_loss: 0.4219 - val_accuracy: 0.8541\n",
            "Epoch 463/500\n",
            "14/14 [==============================] - 0s 9ms/step - loss: 0.3989 - accuracy: 0.8275 - val_loss: 0.4216 - val_accuracy: 0.8486\n",
            "Epoch 464/500\n",
            "14/14 [==============================] - 0s 8ms/step - loss: 0.3985 - accuracy: 0.8252 - val_loss: 0.4225 - val_accuracy: 0.8486\n",
            "Epoch 465/500\n",
            "14/14 [==============================] - 0s 8ms/step - loss: 0.4000 - accuracy: 0.8252 - val_loss: 0.4226 - val_accuracy: 0.8541\n",
            "Epoch 466/500\n",
            "14/14 [==============================] - 0s 7ms/step - loss: 0.3993 - accuracy: 0.8182 - val_loss: 0.4207 - val_accuracy: 0.8486\n",
            "Epoch 467/500\n",
            "14/14 [==============================] - 0s 7ms/step - loss: 0.4002 - accuracy: 0.8205 - val_loss: 0.4222 - val_accuracy: 0.8541\n",
            "Epoch 468/500\n",
            "14/14 [==============================] - 0s 9ms/step - loss: 0.4008 - accuracy: 0.8252 - val_loss: 0.4220 - val_accuracy: 0.8486\n",
            "Epoch 469/500\n",
            "14/14 [==============================] - 0s 10ms/step - loss: 0.4022 - accuracy: 0.8182 - val_loss: 0.4220 - val_accuracy: 0.8541\n",
            "Epoch 470/500\n",
            "14/14 [==============================] - 0s 8ms/step - loss: 0.4012 - accuracy: 0.8182 - val_loss: 0.4225 - val_accuracy: 0.8432\n",
            "Epoch 471/500\n",
            "14/14 [==============================] - 0s 7ms/step - loss: 0.3988 - accuracy: 0.8275 - val_loss: 0.4229 - val_accuracy: 0.8541\n",
            "Epoch 472/500\n",
            "14/14 [==============================] - 0s 5ms/step - loss: 0.3982 - accuracy: 0.8205 - val_loss: 0.4215 - val_accuracy: 0.8486\n",
            "Epoch 473/500\n",
            "14/14 [==============================] - 0s 6ms/step - loss: 0.3983 - accuracy: 0.8275 - val_loss: 0.4208 - val_accuracy: 0.8486\n",
            "Epoch 474/500\n",
            "14/14 [==============================] - 0s 6ms/step - loss: 0.4002 - accuracy: 0.8228 - val_loss: 0.4218 - val_accuracy: 0.8541\n",
            "Epoch 475/500\n",
            "14/14 [==============================] - 0s 6ms/step - loss: 0.3974 - accuracy: 0.8228 - val_loss: 0.4209 - val_accuracy: 0.8378\n",
            "Epoch 476/500\n",
            "14/14 [==============================] - 0s 6ms/step - loss: 0.4006 - accuracy: 0.8205 - val_loss: 0.4232 - val_accuracy: 0.8486\n",
            "Epoch 477/500\n",
            "14/14 [==============================] - 0s 6ms/step - loss: 0.4022 - accuracy: 0.8182 - val_loss: 0.4238 - val_accuracy: 0.8541\n",
            "Epoch 478/500\n",
            "14/14 [==============================] - 0s 5ms/step - loss: 0.3976 - accuracy: 0.8275 - val_loss: 0.4212 - val_accuracy: 0.8486\n",
            "Epoch 479/500\n",
            "14/14 [==============================] - 0s 6ms/step - loss: 0.3973 - accuracy: 0.8275 - val_loss: 0.4219 - val_accuracy: 0.8541\n",
            "Epoch 480/500\n",
            "14/14 [==============================] - 0s 6ms/step - loss: 0.3996 - accuracy: 0.8205 - val_loss: 0.4236 - val_accuracy: 0.8541\n",
            "Epoch 481/500\n",
            "14/14 [==============================] - 0s 5ms/step - loss: 0.3972 - accuracy: 0.8298 - val_loss: 0.4220 - val_accuracy: 0.8486\n",
            "Epoch 482/500\n",
            "14/14 [==============================] - 0s 6ms/step - loss: 0.3979 - accuracy: 0.8252 - val_loss: 0.4224 - val_accuracy: 0.8486\n",
            "Epoch 483/500\n",
            "14/14 [==============================] - 0s 5ms/step - loss: 0.3973 - accuracy: 0.8298 - val_loss: 0.4230 - val_accuracy: 0.8486\n",
            "Epoch 484/500\n",
            "14/14 [==============================] - 0s 5ms/step - loss: 0.3976 - accuracy: 0.8275 - val_loss: 0.4211 - val_accuracy: 0.8541\n",
            "Epoch 485/500\n",
            "14/14 [==============================] - 0s 6ms/step - loss: 0.3964 - accuracy: 0.8228 - val_loss: 0.4238 - val_accuracy: 0.8486\n",
            "Epoch 486/500\n",
            "14/14 [==============================] - 0s 6ms/step - loss: 0.3973 - accuracy: 0.8228 - val_loss: 0.4227 - val_accuracy: 0.8486\n",
            "Epoch 487/500\n",
            "14/14 [==============================] - 0s 6ms/step - loss: 0.3981 - accuracy: 0.8298 - val_loss: 0.4235 - val_accuracy: 0.8541\n",
            "Epoch 488/500\n",
            "14/14 [==============================] - 0s 5ms/step - loss: 0.3967 - accuracy: 0.8205 - val_loss: 0.4234 - val_accuracy: 0.8486\n",
            "Epoch 489/500\n",
            "14/14 [==============================] - 0s 6ms/step - loss: 0.3970 - accuracy: 0.8275 - val_loss: 0.4238 - val_accuracy: 0.8541\n",
            "Epoch 490/500\n",
            "14/14 [==============================] - 0s 6ms/step - loss: 0.3976 - accuracy: 0.8182 - val_loss: 0.4224 - val_accuracy: 0.8486\n",
            "Epoch 491/500\n",
            "14/14 [==============================] - 0s 7ms/step - loss: 0.3963 - accuracy: 0.8182 - val_loss: 0.4233 - val_accuracy: 0.8378\n",
            "Epoch 492/500\n",
            "14/14 [==============================] - 0s 6ms/step - loss: 0.3970 - accuracy: 0.8252 - val_loss: 0.4257 - val_accuracy: 0.8486\n",
            "Epoch 493/500\n",
            "14/14 [==============================] - 0s 5ms/step - loss: 0.3969 - accuracy: 0.8228 - val_loss: 0.4238 - val_accuracy: 0.8541\n",
            "Epoch 494/500\n",
            "14/14 [==============================] - 0s 5ms/step - loss: 0.3956 - accuracy: 0.8205 - val_loss: 0.4238 - val_accuracy: 0.8378\n",
            "Epoch 495/500\n",
            "14/14 [==============================] - 0s 6ms/step - loss: 0.3962 - accuracy: 0.8228 - val_loss: 0.4241 - val_accuracy: 0.8486\n",
            "Epoch 496/500\n",
            "14/14 [==============================] - 0s 5ms/step - loss: 0.3957 - accuracy: 0.8205 - val_loss: 0.4242 - val_accuracy: 0.8541\n",
            "Epoch 497/500\n",
            "14/14 [==============================] - 0s 6ms/step - loss: 0.3950 - accuracy: 0.8205 - val_loss: 0.4221 - val_accuracy: 0.8432\n",
            "Epoch 498/500\n",
            "14/14 [==============================] - 0s 7ms/step - loss: 0.3993 - accuracy: 0.8159 - val_loss: 0.4249 - val_accuracy: 0.8486\n",
            "Epoch 499/500\n",
            "14/14 [==============================] - 0s 5ms/step - loss: 0.3952 - accuracy: 0.8228 - val_loss: 0.4259 - val_accuracy: 0.8541\n",
            "Epoch 500/500\n",
            "14/14 [==============================] - 0s 7ms/step - loss: 0.3973 - accuracy: 0.8228 - val_loss: 0.4237 - val_accuracy: 0.8541\n"
          ]
        }
      ]
    },
    {
      "cell_type": "code",
      "source": [],
      "metadata": {
        "id": "DCrjFWqHX-7n"
      },
      "id": "DCrjFWqHX-7n",
      "execution_count": 1608,
      "outputs": []
    },
    {
      "cell_type": "code",
      "source": [
        "prediction=model.predict(x_test)"
      ],
      "metadata": {
        "colab": {
          "base_uri": "https://localhost:8080/"
        },
        "id": "DhvPA-PnX-zv",
        "outputId": "44b084e6-8d84-49a7-98cd-841a8713fc38"
      },
      "id": "DhvPA-PnX-zv",
      "execution_count": 1609,
      "outputs": [
        {
          "output_type": "stream",
          "name": "stdout",
          "text": [
            "6/6 [==============================] - 0s 2ms/step\n"
          ]
        }
      ]
    },
    {
      "cell_type": "code",
      "source": [
        "#prediction.value_counts()"
      ],
      "metadata": {
        "id": "cskMPtZHYT-w"
      },
      "id": "cskMPtZHYT-w",
      "execution_count": 1610,
      "outputs": []
    },
    {
      "cell_type": "code",
      "source": [
        "from sklearn.metrics import top_k_accuracy_score,accuracy_score"
      ],
      "metadata": {
        "id": "bkgbE4OeWGC_"
      },
      "id": "bkgbE4OeWGC_",
      "execution_count": 1611,
      "outputs": []
    },
    {
      "cell_type": "code",
      "source": [
        "#top_k_accuracy_score(y_test,prediction)"
      ],
      "metadata": {
        "colab": {
          "base_uri": "https://localhost:8080/"
        },
        "id": "NUbrwWE_X4lg",
        "outputId": "d5c1e940-e71c-4881-c876-702182dfe74e"
      },
      "id": "NUbrwWE_X4lg",
      "execution_count": 1612,
      "outputs": [
        {
          "output_type": "stream",
          "name": "stderr",
          "text": [
            "/usr/local/lib/python3.9/dist-packages/sklearn/metrics/_ranking.py:1802: UndefinedMetricWarning: 'k' (2) greater than or equal to 'n_classes' (2) will result in a perfect score and is therefore meaningless.\n",
            "  warnings.warn(\n"
          ]
        },
        {
          "output_type": "execute_result",
          "data": {
            "text/plain": [
              "1.0"
            ]
          },
          "metadata": {},
          "execution_count": 1612
        }
      ]
    },
    {
      "cell_type": "code",
      "source": [
        "#accuracy_score(y_test,prediction)"
      ],
      "metadata": {
        "id": "6XFOS4UGX6GH"
      },
      "id": "6XFOS4UGX6GH",
      "execution_count": 1613,
      "outputs": []
    },
    {
      "cell_type": "markdown",
      "source": [
        "Visualization the Model Performnace"
      ],
      "metadata": {
        "id": "Q-X8d7lLYuWg"
      },
      "id": "Q-X8d7lLYuWg"
    },
    {
      "cell_type": "code",
      "source": [
        "import matplotlib.pyplot as plt"
      ],
      "metadata": {
        "id": "_b_07CnZYMMX"
      },
      "id": "_b_07CnZYMMX",
      "execution_count": 1614,
      "outputs": []
    },
    {
      "cell_type": "code",
      "source": [
        "plt.plot(model_history.history['loss'])\n",
        "plt.plot(model_history.history['val_loss'])\n",
        "plt.title('Model Loss')\n",
        "plt.ylabel('loss')\n",
        "plt.xlabel('Epochs')\n",
        "plt.legend(['train','validation'],loc='upper right')\n",
        "plt.show()"
      ],
      "metadata": {
        "colab": {
          "base_uri": "https://localhost:8080/",
          "height": 472
        },
        "id": "dyu4NhpnY2IQ",
        "outputId": "b63c8645-c933-4f07-fba4-749421f11c69"
      },
      "id": "dyu4NhpnY2IQ",
      "execution_count": 1615,
      "outputs": [
        {
          "output_type": "display_data",
          "data": {
            "text/plain": [
              "<Figure size 640x480 with 1 Axes>"
            ],
            "image/png": "[encoded data removed]"
          },
          "metadata": {}
        }
      ]
    },
    {
      "cell_type": "code",
      "source": [
        "plt.plot(model_history.history['accuracy'])\n",
        "plt.plot(model_history.history['val_accuracy'])\n",
        "plt.title('Model accuracy')\n",
        "plt.ylabel('accuracy')\n",
        "plt.xlabel('Epochs')\n",
        "plt.legend(['train','validation'],loc='upper left')\n",
        "plt.show()"
      ],
      "metadata": {
        "colab": {
          "base_uri": "https://localhost:8080/",
          "height": 472
        },
        "id": "WSNitccIZg8v",
        "outputId": "931ed8b2-7946-413d-dbd8-ab2e7ce4c882"
      },
      "id": "WSNitccIZg8v",
      "execution_count": 1616,
      "outputs": [
        {
          "output_type": "display_data",
          "data": {
            "text/plain": [
              "<Figure size 640x480 with 1 Axes>"
            ],
            "image/png": "[encoded data removed]"
          },
          "metadata": {}
        }
      ]
    },
    {
      "cell_type": "code",
      "source": [],
      "metadata": {
        "id": "igF7TFt7aAFf"
      },
      "id": "igF7TFt7aAFf",
      "execution_count": 1617,
      "outputs": []
    },
    {
      "cell_type": "code",
      "source": [],
      "metadata": {
        "id": "4eqGPvT1hTOZ"
      },
      "id": "4eqGPvT1hTOZ",
      "execution_count": 1617,
      "outputs": []
    },
    {
      "cell_type": "code",
      "source": [],
      "metadata": {
        "id": "irG588KElEQ1"
      },
      "id": "irG588KElEQ1",
      "execution_count": 1617,
      "outputs": []
    },
    {
      "cell_type": "code",
      "source": [],
      "metadata": {
        "id": "nhMBf0qVlEOY"
      },
      "id": "nhMBf0qVlEOY",
      "execution_count": 1617,
      "outputs": []
    },
    {
      "cell_type": "code",
      "source": [
        "# Now load Model for saving best weights "
      ],
      "metadata": {
        "id": "bLdI_DHglELn"
      },
      "id": "bLdI_DHglELn",
      "execution_count": 1640,
      "outputs": []
    },
    {
      "cell_type": "code",
      "source": [
        "model=Sequential()"
      ],
      "metadata": {
        "id": "ux20NpnllEJF"
      },
      "id": "ux20NpnllEJF",
      "execution_count": 1618,
      "outputs": []
    },
    {
      "cell_type": "code",
      "source": [
        "model.add(InputLayer(input_shape=(input_neuron)))"
      ],
      "metadata": {
        "id": "KcqZiQ0zlEGa"
      },
      "id": "KcqZiQ0zlEGa",
      "execution_count": 1619,
      "outputs": []
    },
    {
      "cell_type": "code",
      "source": [
        "model.add(Dense(units=10,activation='relu'))"
      ],
      "metadata": {
        "id": "0vJB2Vi1lED4"
      },
      "id": "0vJB2Vi1lED4",
      "execution_count": 1620,
      "outputs": []
    },
    {
      "cell_type": "code",
      "source": [
        "model.add(Dense(units=10,activation='relu'))"
      ],
      "metadata": {
        "id": "Ld9P7u1nlEBA"
      },
      "id": "Ld9P7u1nlEBA",
      "execution_count": 1621,
      "outputs": []
    },
    {
      "cell_type": "code",
      "source": [
        "model.add(Dense(units=5,activation='relu'))"
      ],
      "metadata": {
        "id": "yVtM_FTnlD-Y"
      },
      "id": "yVtM_FTnlD-Y",
      "execution_count": 1622,
      "outputs": []
    },
    {
      "cell_type": "code",
      "source": [
        "model.add(Dense(units=output_neurons,activation='sigmoid'))"
      ],
      "metadata": {
        "id": "i-IE3655lD7o"
      },
      "id": "i-IE3655lD7o",
      "execution_count": 1623,
      "outputs": []
    },
    {
      "cell_type": "code",
      "source": [
        "model.summary()"
      ],
      "metadata": {
        "colab": {
          "base_uri": "https://localhost:8080/"
        },
        "id": "vZj1YtK-lD44",
        "outputId": "e87cd9c0-f7bd-4581-e896-532ba694dab8"
      },
      "id": "vZj1YtK-lD44",
      "execution_count": 1624,
      "outputs": [
        {
          "output_type": "stream",
          "name": "stdout",
          "text": [
            "Model: \"sequential_26\"\n",
            "_________________________________________________________________\n",
            " Layer (type)                Output Shape              Param #   \n",
            "=================================================================\n",
            " dense_111 (Dense)           (None, 10)                120       \n",
            "                                                                 \n",
            " dense_112 (Dense)           (None, 10)                110       \n",
            "                                                                 \n",
            " dense_113 (Dense)           (None, 5)                 55        \n",
            "                                                                 \n",
            " dense_114 (Dense)           (None, 1)                 6         \n",
            "                                                                 \n",
            "=================================================================\n",
            "Total params: 291\n",
            "Trainable params: 291\n",
            "Non-trainable params: 0\n",
            "_________________________________________________________________\n"
          ]
        }
      ]
    },
    {
      "cell_type": "code",
      "source": [
        "#loss using binary classification because our problem is binary classification\n",
        "#using optimizer ad Adam(Stochastic gradient descent) \n",
        "#Evaluating matrics as Accuracy\n",
        "\n",
        "model.compile(loss='binary_crossentropy',optimizer='Adam',metrics=['accuracy',tf.keras.metrics.Precision(name='precision'),tf.keras.metrics.Recall(name='recall')])"
      ],
      "metadata": {
        "id": "JJkLSQe1lD2Q"
      },
      "id": "JJkLSQe1lD2Q",
      "execution_count": 1625,
      "outputs": []
    },
    {
      "cell_type": "code",
      "source": [
        "from keras.saving.saving_lib import save_weights_only\n",
        "checkpoint=tf.keras.callbacks.ModelCheckpoint('best_weight.h5',verbose=1,save_best_only=True,save_weights_only=True)\n",
        "early_stop=tf.keras.callbacks.EarlyStopping(patience=4)"
      ],
      "metadata": {
        "id": "Lppr3EkalDzo"
      },
      "id": "Lppr3EkalDzo",
      "execution_count": 1626,
      "outputs": []
    },
    {
      "cell_type": "code",
      "source": [
        "model_history=model.fit(x_train,y_train,validation_data=(x_test,y_test),epochs=500,callbacks=[checkpoint,early_stop])"
      ],
      "metadata": {
        "colab": {
          "base_uri": "https://localhost:8080/"
        },
        "id": "QpNHWO4nlDxI",
        "outputId": "af69b327-6c0f-46a3-ed1f-20b14bece7d2"
      },
      "id": "QpNHWO4nlDxI",
      "execution_count": 1627,
      "outputs": [
        {
          "output_type": "stream",
          "name": "stdout",
          "text": [
            "Epoch 1/500\n",
            " 1/14 [=>............................] - ETA: 15s - loss: 0.7028 - accuracy: 0.6562 - precision: 0.8333 - recall: 0.5263\n",
            "Epoch 1: val_loss improved from inf to 0.69092, saving model to best_weight.h5\n",
            "14/14 [==============================] - 2s 29ms/step - loss: 0.7038 - accuracy: 0.5105 - precision: 0.7073 - recall: 0.4915 - val_loss: 0.6909 - val_accuracy: 0.5892 - val_precision: 0.7073 - val_recall: 0.6850\n",
            "Epoch 2/500\n",
            " 1/14 [=>............................] - ETA: 0s - loss: 0.6847 - accuracy: 0.6250 - precision: 0.8571 - recall: 0.6667\n",
            "Epoch 2: val_loss improved from 0.69092 to 0.67536, saving model to best_weight.h5\n",
            "14/14 [==============================] - 0s 7ms/step - loss: 0.6826 - accuracy: 0.6597 - precision: 0.7224 - recall: 0.8203 - val_loss: 0.6754 - val_accuracy: 0.6595 - val_precision: 0.7025 - val_recall: 0.8740\n",
            "Epoch 3/500\n",
            " 1/14 [=>............................] - ETA: 0s - loss: 0.6739 - accuracy: 0.6250 - precision: 0.6957 - recall: 0.7619\n",
            "Epoch 3: val_loss improved from 0.67536 to 0.65646, saving model to best_weight.h5\n",
            "14/14 [==============================] - 0s 7ms/step - loss: 0.6632 - accuracy: 0.6737 - precision: 0.7045 - recall: 0.9051 - val_loss: 0.6565 - val_accuracy: 0.6973 - val_precision: 0.7006 - val_recall: 0.9764\n",
            "Epoch 4/500\n",
            " 1/14 [=>............................] - ETA: 0s - loss: 0.6334 - accuracy: 0.8125 - precision: 0.7931 - recall: 1.0000\n",
            "Epoch 4: val_loss improved from 0.65646 to 0.63814, saving model to best_weight.h5\n",
            "14/14 [==============================] - 0s 7ms/step - loss: 0.6430 - accuracy: 0.6970 - precision: 0.6978 - recall: 0.9864 - val_loss: 0.6381 - val_accuracy: 0.6865 - val_precision: 0.6865 - val_recall: 1.0000\n",
            "Epoch 5/500\n",
            " 1/14 [=>............................] - ETA: 0s - loss: 0.6034 - accuracy: 0.7500 - precision: 0.7500 - recall: 1.0000\n",
            "Epoch 5: val_loss improved from 0.63814 to 0.62359, saving model to best_weight.h5\n",
            "14/14 [==============================] - 0s 8ms/step - loss: 0.6253 - accuracy: 0.6876 - precision: 0.6876 - recall: 1.0000 - val_loss: 0.6236 - val_accuracy: 0.6865 - val_precision: 0.6865 - val_recall: 1.0000\n",
            "Epoch 6/500\n",
            " 1/14 [=>............................] - ETA: 0s - loss: 0.5743 - accuracy: 0.7812 - precision: 0.7812 - recall: 1.0000\n",
            "Epoch 6: val_loss improved from 0.62359 to 0.61156, saving model to best_weight.h5\n",
            "14/14 [==============================] - 0s 7ms/step - loss: 0.6107 - accuracy: 0.6876 - precision: 0.6876 - recall: 1.0000 - val_loss: 0.6116 - val_accuracy: 0.6865 - val_precision: 0.6865 - val_recall: 1.0000\n",
            "Epoch 7/500\n",
            " 1/14 [=>............................] - ETA: 0s - loss: 0.6517 - accuracy: 0.5938 - precision: 0.5938 - recall: 1.0000\n",
            "Epoch 7: val_loss improved from 0.61156 to 0.60206, saving model to best_weight.h5\n",
            "14/14 [==============================] - 0s 7ms/step - loss: 0.5992 - accuracy: 0.6876 - precision: 0.6876 - recall: 1.0000 - val_loss: 0.6021 - val_accuracy: 0.6865 - val_precision: 0.6865 - val_recall: 1.0000\n",
            "Epoch 8/500\n",
            " 1/14 [=>............................] - ETA: 0s - loss: 0.6156 - accuracy: 0.5938 - precision: 0.5938 - recall: 1.0000\n",
            "Epoch 8: val_loss improved from 0.60206 to 0.59396, saving model to best_weight.h5\n",
            "14/14 [==============================] - 0s 7ms/step - loss: 0.5906 - accuracy: 0.6900 - precision: 0.6893 - recall: 1.0000 - val_loss: 0.5940 - val_accuracy: 0.6865 - val_precision: 0.6865 - val_recall: 1.0000\n",
            "Epoch 9/500\n",
            " 1/14 [=>............................] - ETA: 0s - loss: 0.6560 - accuracy: 0.6250 - precision: 0.6250 - recall: 1.0000\n",
            "Epoch 9: val_loss improved from 0.59396 to 0.58772, saving model to best_weight.h5\n",
            "14/14 [==============================] - 0s 7ms/step - loss: 0.5836 - accuracy: 0.6923 - precision: 0.6909 - recall: 1.0000 - val_loss: 0.5877 - val_accuracy: 0.6973 - val_precision: 0.6940 - val_recall: 1.0000\n",
            "Epoch 10/500\n",
            " 1/14 [=>............................] - ETA: 0s - loss: 0.4928 - accuracy: 0.8125 - precision: 0.8125 - recall: 1.0000\n",
            "Epoch 10: val_loss improved from 0.58772 to 0.58089, saving model to best_weight.h5\n",
            "14/14 [==============================] - 0s 7ms/step - loss: 0.5787 - accuracy: 0.6946 - precision: 0.6925 - recall: 1.0000 - val_loss: 0.5809 - val_accuracy: 0.7027 - val_precision: 0.6978 - val_recall: 1.0000\n",
            "Epoch 11/500\n",
            " 1/14 [=>............................] - ETA: 0s - loss: 0.6520 - accuracy: 0.5938 - precision: 0.5938 - recall: 1.0000\n",
            "Epoch 11: val_loss improved from 0.58089 to 0.57465, saving model to best_weight.h5\n",
            "14/14 [==============================] - 0s 8ms/step - loss: 0.5731 - accuracy: 0.7086 - precision: 0.7024 - recall: 1.0000 - val_loss: 0.5746 - val_accuracy: 0.7027 - val_precision: 0.6978 - val_recall: 1.0000\n",
            "Epoch 12/500\n",
            " 1/14 [=>............................] - ETA: 0s - loss: 0.5839 - accuracy: 0.6875 - precision: 0.6875 - recall: 1.0000\n",
            "Epoch 12: val_loss improved from 0.57465 to 0.56784, saving model to best_weight.h5\n",
            "14/14 [==============================] - 0s 7ms/step - loss: 0.5675 - accuracy: 0.7133 - precision: 0.7057 - recall: 1.0000 - val_loss: 0.5678 - val_accuracy: 0.7243 - val_precision: 0.7135 - val_recall: 1.0000\n",
            "Epoch 13/500\n",
            " 1/14 [=>............................] - ETA: 0s - loss: 0.6438 - accuracy: 0.6250 - precision: 0.6333 - recall: 0.9500\n",
            "Epoch 13: val_loss improved from 0.56784 to 0.56122, saving model to best_weight.h5\n",
            "14/14 [==============================] - 0s 7ms/step - loss: 0.5617 - accuracy: 0.7179 - precision: 0.7101 - recall: 0.9966 - val_loss: 0.5612 - val_accuracy: 0.7243 - val_precision: 0.7135 - val_recall: 1.0000\n",
            "Epoch 14/500\n",
            " 1/14 [=>............................] - ETA: 0s - loss: 0.6062 - accuracy: 0.6562 - precision: 0.6452 - recall: 1.0000\n",
            "Epoch 14: val_loss improved from 0.56122 to 0.55394, saving model to best_weight.h5\n",
            "14/14 [==============================] - 0s 7ms/step - loss: 0.5560 - accuracy: 0.7203 - precision: 0.7119 - recall: 0.9966 - val_loss: 0.5539 - val_accuracy: 0.7297 - val_precision: 0.7175 - val_recall: 1.0000\n",
            "Epoch 15/500\n",
            " 1/14 [=>............................] - ETA: 0s - loss: 0.4326 - accuracy: 0.8750 - precision: 0.8710 - recall: 1.0000\n",
            "Epoch 15: val_loss improved from 0.55394 to 0.54637, saving model to best_weight.h5\n",
            "14/14 [==============================] - 0s 8ms/step - loss: 0.5503 - accuracy: 0.7296 - precision: 0.7188 - recall: 0.9966 - val_loss: 0.5464 - val_accuracy: 0.7297 - val_precision: 0.7200 - val_recall: 0.9921\n",
            "Epoch 16/500\n",
            " 1/14 [=>............................] - ETA: 0s - loss: 0.5510 - accuracy: 0.6875 - precision: 0.6667 - recall: 1.0000\n",
            "Epoch 16: val_loss improved from 0.54637 to 0.53763, saving model to best_weight.h5\n",
            "14/14 [==============================] - 0s 7ms/step - loss: 0.5436 - accuracy: 0.7413 - precision: 0.7289 - recall: 0.9932 - val_loss: 0.5376 - val_accuracy: 0.7351 - val_precision: 0.7241 - val_recall: 0.9921\n",
            "Epoch 17/500\n",
            " 1/14 [=>............................] - ETA: 0s - loss: 0.4741 - accuracy: 0.7188 - precision: 0.7333 - recall: 0.9565\n",
            "Epoch 17: val_loss improved from 0.53763 to 0.52858, saving model to best_weight.h5\n",
            "14/14 [==============================] - 0s 7ms/step - loss: 0.5387 - accuracy: 0.7529 - precision: 0.7405 - recall: 0.9864 - val_loss: 0.5286 - val_accuracy: 0.7568 - val_precision: 0.7412 - val_recall: 0.9921\n",
            "Epoch 18/500\n",
            " 1/14 [=>............................] - ETA: 0s - loss: 0.5477 - accuracy: 0.6875 - precision: 0.6774 - recall: 1.0000\n",
            "Epoch 18: val_loss improved from 0.52858 to 0.52070, saving model to best_weight.h5\n",
            "14/14 [==============================] - 0s 6ms/step - loss: 0.5315 - accuracy: 0.7599 - precision: 0.7449 - recall: 0.9898 - val_loss: 0.5207 - val_accuracy: 0.7568 - val_precision: 0.7412 - val_recall: 0.9921\n",
            "Epoch 19/500\n",
            " 1/14 [=>............................] - ETA: 0s - loss: 0.5039 - accuracy: 0.7500 - precision: 0.7586 - recall: 0.9565\n",
            "Epoch 19: val_loss improved from 0.52070 to 0.51106, saving model to best_weight.h5\n",
            "14/14 [==============================] - 0s 6ms/step - loss: 0.5260 - accuracy: 0.7692 - precision: 0.7526 - recall: 0.9898 - val_loss: 0.5111 - val_accuracy: 0.7622 - val_precision: 0.7485 - val_recall: 0.9843\n",
            "Epoch 20/500\n",
            " 1/14 [=>............................] - ETA: 0s - loss: 0.4746 - accuracy: 0.8125 - precision: 0.7857 - recall: 1.0000\n",
            "Epoch 20: val_loss improved from 0.51106 to 0.50165, saving model to best_weight.h5\n",
            "14/14 [==============================] - 0s 6ms/step - loss: 0.5205 - accuracy: 0.7762 - precision: 0.7584 - recall: 0.9898 - val_loss: 0.5016 - val_accuracy: 0.7784 - val_precision: 0.7622 - val_recall: 0.9843\n",
            "Epoch 21/500\n",
            " 1/14 [=>............................] - ETA: 0s - loss: 0.4976 - accuracy: 0.8438 - precision: 0.8276 - recall: 1.0000\n",
            "Epoch 21: val_loss improved from 0.50165 to 0.49341, saving model to best_weight.h5\n",
            "14/14 [==============================] - 0s 7ms/step - loss: 0.5156 - accuracy: 0.7809 - precision: 0.7624 - recall: 0.9898 - val_loss: 0.4934 - val_accuracy: 0.7946 - val_precision: 0.7764 - val_recall: 0.9843\n",
            "Epoch 22/500\n",
            " 1/14 [=>............................] - ETA: 0s - loss: 0.3077 - accuracy: 0.9688 - precision: 0.9655 - recall: 1.0000\n",
            "Epoch 22: val_loss improved from 0.49341 to 0.48537, saving model to best_weight.h5\n",
            "14/14 [==============================] - 0s 7ms/step - loss: 0.5113 - accuracy: 0.7809 - precision: 0.7638 - recall: 0.9864 - val_loss: 0.4854 - val_accuracy: 0.8054 - val_precision: 0.7862 - val_recall: 0.9843\n",
            "Epoch 23/500\n",
            " 1/14 [=>............................] - ETA: 0s - loss: 0.3871 - accuracy: 0.8438 - precision: 0.8571 - recall: 0.9600\n",
            "Epoch 23: val_loss improved from 0.48537 to 0.47980, saving model to best_weight.h5\n",
            "14/14 [==============================] - 0s 6ms/step - loss: 0.5066 - accuracy: 0.7832 - precision: 0.7672 - recall: 0.9831 - val_loss: 0.4798 - val_accuracy: 0.8108 - val_precision: 0.7911 - val_recall: 0.9843\n",
            "Epoch 24/500\n",
            " 1/14 [=>............................] - ETA: 0s - loss: 0.4880 - accuracy: 0.8125 - precision: 0.8065 - recall: 1.0000\n",
            "Epoch 24: val_loss improved from 0.47980 to 0.47316, saving model to best_weight.h5\n",
            "14/14 [==============================] - 0s 7ms/step - loss: 0.5040 - accuracy: 0.7879 - precision: 0.7698 - recall: 0.9864 - val_loss: 0.4732 - val_accuracy: 0.8270 - val_precision: 0.8065 - val_recall: 0.9843\n",
            "Epoch 25/500\n",
            " 1/14 [=>............................] - ETA: 0s - loss: 0.6463 - accuracy: 0.7188 - precision: 0.6897 - recall: 1.0000\n",
            "Epoch 25: val_loss improved from 0.47316 to 0.46763, saving model to best_weight.h5\n",
            "14/14 [==============================] - 0s 8ms/step - loss: 0.4993 - accuracy: 0.7902 - precision: 0.7748 - recall: 0.9797 - val_loss: 0.4676 - val_accuracy: 0.8432 - val_precision: 0.8224 - val_recall: 0.9843\n",
            "Epoch 26/500\n",
            " 1/14 [=>............................] - ETA: 0s - loss: 0.5106 - accuracy: 0.7812 - precision: 0.7500 - recall: 1.0000\n",
            "Epoch 26: val_loss improved from 0.46763 to 0.46214, saving model to best_weight.h5\n",
            "14/14 [==============================] - 0s 7ms/step - loss: 0.4970 - accuracy: 0.7925 - precision: 0.7769 - recall: 0.9797 - val_loss: 0.4621 - val_accuracy: 0.8486 - val_precision: 0.8278 - val_recall: 0.9843\n",
            "Epoch 27/500\n",
            " 1/14 [=>............................] - ETA: 0s - loss: 0.5631 - accuracy: 0.7188 - precision: 0.7333 - recall: 0.9565\n",
            "Epoch 27: val_loss improved from 0.46214 to 0.45831, saving model to best_weight.h5\n",
            "14/14 [==============================] - 0s 7ms/step - loss: 0.4950 - accuracy: 0.7879 - precision: 0.7727 - recall: 0.9797 - val_loss: 0.4583 - val_accuracy: 0.8486 - val_precision: 0.8278 - val_recall: 0.9843\n",
            "Epoch 28/500\n",
            " 1/14 [=>............................] - ETA: 0s - loss: 0.5670 - accuracy: 0.7500 - precision: 0.7037 - recall: 1.0000\n",
            "Epoch 28: val_loss improved from 0.45831 to 0.45467, saving model to best_weight.h5\n",
            "14/14 [==============================] - 0s 7ms/step - loss: 0.4919 - accuracy: 0.7949 - precision: 0.7775 - recall: 0.9831 - val_loss: 0.4547 - val_accuracy: 0.8486 - val_precision: 0.8278 - val_recall: 0.9843\n",
            "Epoch 29/500\n",
            " 1/14 [=>............................] - ETA: 0s - loss: 0.4321 - accuracy: 0.8438 - precision: 0.8214 - recall: 1.0000\n",
            "Epoch 29: val_loss improved from 0.45467 to 0.45082, saving model to best_weight.h5\n",
            "14/14 [==============================] - 0s 7ms/step - loss: 0.4897 - accuracy: 0.7949 - precision: 0.7775 - recall: 0.9831 - val_loss: 0.4508 - val_accuracy: 0.8486 - val_precision: 0.8278 - val_recall: 0.9843\n",
            "Epoch 30/500\n",
            " 1/14 [=>............................] - ETA: 0s - loss: 0.3500 - accuracy: 0.9375 - precision: 0.9333 - recall: 1.0000\n",
            "Epoch 30: val_loss improved from 0.45082 to 0.44894, saving model to best_weight.h5\n",
            "14/14 [==============================] - 0s 7ms/step - loss: 0.4875 - accuracy: 0.7949 - precision: 0.7790 - recall: 0.9797 - val_loss: 0.4489 - val_accuracy: 0.8486 - val_precision: 0.8278 - val_recall: 0.9843\n",
            "Epoch 31/500\n",
            " 1/14 [=>............................] - ETA: 0s - loss: 0.4252 - accuracy: 0.8438 - precision: 0.8333 - recall: 1.0000\n",
            "Epoch 31: val_loss improved from 0.44894 to 0.44663, saving model to best_weight.h5\n",
            "14/14 [==============================] - 0s 7ms/step - loss: 0.4863 - accuracy: 0.7949 - precision: 0.7790 - recall: 0.9797 - val_loss: 0.4466 - val_accuracy: 0.8486 - val_precision: 0.8278 - val_recall: 0.9843\n",
            "Epoch 32/500\n",
            " 1/14 [=>............................] - ETA: 0s - loss: 0.3864 - accuracy: 0.8750 - precision: 0.8462 - recall: 1.0000\n",
            "Epoch 32: val_loss improved from 0.44663 to 0.44434, saving model to best_weight.h5\n",
            "14/14 [==============================] - 0s 8ms/step - loss: 0.4857 - accuracy: 0.7949 - precision: 0.7790 - recall: 0.9797 - val_loss: 0.4443 - val_accuracy: 0.8486 - val_precision: 0.8278 - val_recall: 0.9843\n",
            "Epoch 33/500\n",
            " 1/14 [=>............................] - ETA: 0s - loss: 0.3311 - accuracy: 0.8750 - precision: 0.8929 - recall: 0.9615\n",
            "Epoch 33: val_loss improved from 0.44434 to 0.44283, saving model to best_weight.h5\n",
            "14/14 [==============================] - 0s 7ms/step - loss: 0.4839 - accuracy: 0.7949 - precision: 0.7790 - recall: 0.9797 - val_loss: 0.4428 - val_accuracy: 0.8486 - val_precision: 0.8278 - val_recall: 0.9843\n",
            "Epoch 34/500\n",
            " 1/14 [=>............................] - ETA: 0s - loss: 0.4997 - accuracy: 0.7812 - precision: 0.7931 - recall: 0.9583\n",
            "Epoch 34: val_loss improved from 0.44283 to 0.44054, saving model to best_weight.h5\n",
            "14/14 [==============================] - 0s 7ms/step - loss: 0.4825 - accuracy: 0.7972 - precision: 0.7796 - recall: 0.9831 - val_loss: 0.4405 - val_accuracy: 0.8486 - val_precision: 0.8278 - val_recall: 0.9843\n",
            "Epoch 35/500\n",
            " 1/14 [=>............................] - ETA: 0s - loss: 0.5616 - accuracy: 0.7188 - precision: 0.6897 - recall: 1.0000\n",
            "Epoch 35: val_loss improved from 0.44054 to 0.43872, saving model to best_weight.h5\n",
            "14/14 [==============================] - 0s 8ms/step - loss: 0.4844 - accuracy: 0.7949 - precision: 0.7790 - recall: 0.9797 - val_loss: 0.4387 - val_accuracy: 0.8486 - val_precision: 0.8278 - val_recall: 0.9843\n",
            "Epoch 36/500\n",
            " 1/14 [=>............................] - ETA: 0s - loss: 0.4814 - accuracy: 0.8125 - precision: 0.8077 - recall: 0.9545\n",
            "Epoch 36: val_loss improved from 0.43872 to 0.43740, saving model to best_weight.h5\n",
            "14/14 [==============================] - 0s 7ms/step - loss: 0.4823 - accuracy: 0.7972 - precision: 0.7796 - recall: 0.9831 - val_loss: 0.4374 - val_accuracy: 0.8486 - val_precision: 0.8278 - val_recall: 0.9843\n",
            "Epoch 37/500\n",
            " 1/14 [=>............................] - ETA: 0s - loss: 0.2777 - accuracy: 0.9375 - precision: 0.9231 - recall: 1.0000\n",
            "Epoch 37: val_loss improved from 0.43740 to 0.43480, saving model to best_weight.h5\n",
            "14/14 [==============================] - 0s 8ms/step - loss: 0.4812 - accuracy: 0.7949 - precision: 0.7775 - recall: 0.9831 - val_loss: 0.4348 - val_accuracy: 0.8486 - val_precision: 0.8278 - val_recall: 0.9843\n",
            "Epoch 38/500\n",
            " 1/14 [=>............................] - ETA: 0s - loss: 0.4995 - accuracy: 0.8125 - precision: 0.7931 - recall: 1.0000\n",
            "Epoch 38: val_loss improved from 0.43480 to 0.43381, saving model to best_weight.h5\n",
            "14/14 [==============================] - 0s 7ms/step - loss: 0.4793 - accuracy: 0.7972 - precision: 0.7796 - recall: 0.9831 - val_loss: 0.4338 - val_accuracy: 0.8486 - val_precision: 0.8278 - val_recall: 0.9843\n",
            "Epoch 39/500\n",
            " 1/14 [=>............................] - ETA: 0s - loss: 0.3649 - accuracy: 0.8438 - precision: 0.8077 - recall: 1.0000\n",
            "Epoch 39: val_loss improved from 0.43381 to 0.43381, saving model to best_weight.h5\n",
            "14/14 [==============================] - 0s 8ms/step - loss: 0.4802 - accuracy: 0.7925 - precision: 0.7799 - recall: 0.9729 - val_loss: 0.4338 - val_accuracy: 0.8486 - val_precision: 0.8278 - val_recall: 0.9843\n",
            "Epoch 40/500\n",
            " 1/14 [=>............................] - ETA: 0s - loss: 0.5212 - accuracy: 0.7500 - precision: 0.7407 - recall: 0.9524\n",
            "Epoch 40: val_loss improved from 0.43381 to 0.43203, saving model to best_weight.h5\n",
            "14/14 [==============================] - 0s 8ms/step - loss: 0.4775 - accuracy: 0.7972 - precision: 0.7796 - recall: 0.9831 - val_loss: 0.4320 - val_accuracy: 0.8486 - val_precision: 0.8278 - val_recall: 0.9843\n",
            "Epoch 41/500\n",
            "12/14 [========================>.....] - ETA: 0s - loss: 0.4785 - accuracy: 0.7943 - precision: 0.7771 - recall: 0.9810\n",
            "Epoch 41: val_loss improved from 0.43203 to 0.43147, saving model to best_weight.h5\n",
            "14/14 [==============================] - 0s 12ms/step - loss: 0.4768 - accuracy: 0.7972 - precision: 0.7796 - recall: 0.9831 - val_loss: 0.4315 - val_accuracy: 0.8486 - val_precision: 0.8278 - val_recall: 0.9843\n",
            "Epoch 42/500\n",
            " 1/14 [=>............................] - ETA: 0s - loss: 0.4544 - accuracy: 0.8125 - precision: 0.8065 - recall: 1.0000\n",
            "Epoch 42: val_loss improved from 0.43147 to 0.43045, saving model to best_weight.h5\n",
            "14/14 [==============================] - 0s 10ms/step - loss: 0.4770 - accuracy: 0.7972 - precision: 0.7796 - recall: 0.9831 - val_loss: 0.4305 - val_accuracy: 0.8486 - val_precision: 0.8278 - val_recall: 0.9843\n",
            "Epoch 43/500\n",
            "13/14 [==========================>...] - ETA: 0s - loss: 0.4780 - accuracy: 0.7957 - precision: 0.7769 - recall: 0.9860\n",
            "Epoch 43: val_loss improved from 0.43045 to 0.42931, saving model to best_weight.h5\n",
            "14/14 [==============================] - 0s 11ms/step - loss: 0.4760 - accuracy: 0.7972 - precision: 0.7796 - recall: 0.9831 - val_loss: 0.4293 - val_accuracy: 0.8486 - val_precision: 0.8278 - val_recall: 0.9843\n",
            "Epoch 44/500\n",
            "13/14 [==========================>...] - ETA: 0s - loss: 0.4795 - accuracy: 0.7933 - precision: 0.7750 - recall: 0.9824\n",
            "Epoch 44: val_loss did not improve from 0.42931\n",
            "14/14 [==============================] - 0s 9ms/step - loss: 0.4754 - accuracy: 0.7972 - precision: 0.7796 - recall: 0.9831 - val_loss: 0.4295 - val_accuracy: 0.8486 - val_precision: 0.8278 - val_recall: 0.9843\n",
            "Epoch 45/500\n",
            " 1/14 [=>............................] - ETA: 0s - loss: 0.4896 - accuracy: 0.7812 - precision: 0.7600 - recall: 0.9500\n",
            "Epoch 45: val_loss improved from 0.42931 to 0.42913, saving model to best_weight.h5\n",
            "14/14 [==============================] - 0s 9ms/step - loss: 0.4758 - accuracy: 0.7949 - precision: 0.7790 - recall: 0.9797 - val_loss: 0.4291 - val_accuracy: 0.8486 - val_precision: 0.8278 - val_recall: 0.9843\n",
            "Epoch 46/500\n",
            " 1/14 [=>............................] - ETA: 0s - loss: 0.4648 - accuracy: 0.7812 - precision: 0.7308 - recall: 1.0000\n",
            "Epoch 46: val_loss improved from 0.42913 to 0.42860, saving model to best_weight.h5\n",
            "14/14 [==============================] - 0s 10ms/step - loss: 0.4742 - accuracy: 0.7972 - precision: 0.7796 - recall: 0.9831 - val_loss: 0.4286 - val_accuracy: 0.8486 - val_precision: 0.8278 - val_recall: 0.9843\n",
            "Epoch 47/500\n",
            " 1/14 [=>............................] - ETA: 0s - loss: 0.3205 - accuracy: 0.9062 - precision: 0.8929 - recall: 1.0000\n",
            "Epoch 47: val_loss improved from 0.42860 to 0.42781, saving model to best_weight.h5\n",
            "14/14 [==============================] - 0s 10ms/step - loss: 0.4740 - accuracy: 0.7972 - precision: 0.7796 - recall: 0.9831 - val_loss: 0.4278 - val_accuracy: 0.8486 - val_precision: 0.8278 - val_recall: 0.9843\n",
            "Epoch 48/500\n",
            "14/14 [==============================] - ETA: 0s - loss: 0.4747 - accuracy: 0.7972 - precision: 0.7796 - recall: 0.9831\n",
            "Epoch 48: val_loss did not improve from 0.42781\n",
            "14/14 [==============================] - 0s 9ms/step - loss: 0.4747 - accuracy: 0.7972 - precision: 0.7796 - recall: 0.9831 - val_loss: 0.4282 - val_accuracy: 0.8486 - val_precision: 0.8278 - val_recall: 0.9843\n",
            "Epoch 49/500\n",
            "14/14 [==============================] - ETA: 0s - loss: 0.4729 - accuracy: 0.7949 - precision: 0.7790 - recall: 0.9797\n",
            "Epoch 49: val_loss did not improve from 0.42781\n",
            "14/14 [==============================] - 0s 9ms/step - loss: 0.4729 - accuracy: 0.7949 - precision: 0.7790 - recall: 0.9797 - val_loss: 0.4284 - val_accuracy: 0.8486 - val_precision: 0.8278 - val_recall: 0.9843\n",
            "Epoch 50/500\n",
            " 1/14 [=>............................] - ETA: 0s - loss: 0.4902 - accuracy: 0.7188 - precision: 0.6897 - recall: 1.0000\n",
            "Epoch 50: val_loss improved from 0.42781 to 0.42743, saving model to best_weight.h5\n",
            "14/14 [==============================] - 0s 10ms/step - loss: 0.4723 - accuracy: 0.7972 - precision: 0.7796 - recall: 0.9831 - val_loss: 0.4274 - val_accuracy: 0.8486 - val_precision: 0.8278 - val_recall: 0.9843\n",
            "Epoch 51/500\n",
            " 1/14 [=>............................] - ETA: 0s - loss: 0.3495 - accuracy: 0.8750 - precision: 0.8571 - recall: 1.0000\n",
            "Epoch 51: val_loss improved from 0.42743 to 0.42642, saving model to best_weight.h5\n",
            "14/14 [==============================] - 0s 10ms/step - loss: 0.4727 - accuracy: 0.7972 - precision: 0.7796 - recall: 0.9831 - val_loss: 0.4264 - val_accuracy: 0.8486 - val_precision: 0.8278 - val_recall: 0.9843\n",
            "Epoch 52/500\n",
            " 1/14 [=>............................] - ETA: 0s - loss: 0.3827 - accuracy: 0.9062 - precision: 0.8846 - recall: 1.0000\n",
            "Epoch 52: val_loss did not improve from 0.42642\n",
            "14/14 [==============================] - 0s 8ms/step - loss: 0.4715 - accuracy: 0.7972 - precision: 0.7796 - recall: 0.9831 - val_loss: 0.4271 - val_accuracy: 0.8486 - val_precision: 0.8278 - val_recall: 0.9843\n",
            "Epoch 53/500\n",
            " 1/14 [=>............................] - ETA: 0s - loss: 0.5724 - accuracy: 0.7812 - precision: 0.8000 - recall: 0.9600\n",
            "Epoch 53: val_loss did not improve from 0.42642\n",
            "14/14 [==============================] - 0s 8ms/step - loss: 0.4717 - accuracy: 0.7972 - precision: 0.7811 - recall: 0.9797 - val_loss: 0.4288 - val_accuracy: 0.8486 - val_precision: 0.8278 - val_recall: 0.9843\n",
            "Epoch 54/500\n",
            " 1/14 [=>............................] - ETA: 0s - loss: 0.3792 - accuracy: 0.8750 - precision: 0.8519 - recall: 1.0000\n",
            "Epoch 54: val_loss did not improve from 0.42642\n",
            "14/14 [==============================] - 0s 8ms/step - loss: 0.4711 - accuracy: 0.7972 - precision: 0.7796 - recall: 0.9831 - val_loss: 0.4273 - val_accuracy: 0.8486 - val_precision: 0.8278 - val_recall: 0.9843\n",
            "Epoch 55/500\n",
            " 1/14 [=>............................] - ETA: 0s - loss: 0.4537 - accuracy: 0.8125 - precision: 0.7857 - recall: 1.0000\n",
            "Epoch 55: val_loss improved from 0.42642 to 0.42614, saving model to best_weight.h5\n",
            "14/14 [==============================] - 0s 11ms/step - loss: 0.4709 - accuracy: 0.7972 - precision: 0.7796 - recall: 0.9831 - val_loss: 0.4261 - val_accuracy: 0.8486 - val_precision: 0.8278 - val_recall: 0.9843\n",
            "Epoch 56/500\n",
            " 1/14 [=>............................] - ETA: 0s - loss: 0.4195 - accuracy: 0.8125 - precision: 0.7917 - recall: 0.9500\n",
            "Epoch 56: val_loss did not improve from 0.42614\n",
            "14/14 [==============================] - 0s 8ms/step - loss: 0.4703 - accuracy: 0.7972 - precision: 0.7796 - recall: 0.9831 - val_loss: 0.4268 - val_accuracy: 0.8486 - val_precision: 0.8278 - val_recall: 0.9843\n",
            "Epoch 57/500\n",
            " 1/14 [=>............................] - ETA: 0s - loss: 0.5584 - accuracy: 0.7500 - precision: 0.6923 - recall: 1.0000\n",
            "Epoch 57: val_loss did not improve from 0.42614\n",
            "14/14 [==============================] - 0s 9ms/step - loss: 0.4701 - accuracy: 0.7972 - precision: 0.7796 - recall: 0.9831 - val_loss: 0.4272 - val_accuracy: 0.8486 - val_precision: 0.8278 - val_recall: 0.9843\n",
            "Epoch 58/500\n",
            "13/14 [==========================>...] - ETA: 0s - loss: 0.4782 - accuracy: 0.7885 - precision: 0.7765 - recall: 0.9720\n",
            "Epoch 58: val_loss did not improve from 0.42614\n",
            "14/14 [==============================] - 0s 10ms/step - loss: 0.4720 - accuracy: 0.7925 - precision: 0.7799 - recall: 0.9729 - val_loss: 0.4283 - val_accuracy: 0.8486 - val_precision: 0.8278 - val_recall: 0.9843\n",
            "Epoch 59/500\n",
            "12/14 [========================>.....] - ETA: 0s - loss: 0.4831 - accuracy: 0.7865 - precision: 0.7708 - recall: 0.9811\n",
            "Epoch 59: val_loss did not improve from 0.42614\n",
            "14/14 [==============================] - 0s 10ms/step - loss: 0.4692 - accuracy: 0.7972 - precision: 0.7796 - recall: 0.9831 - val_loss: 0.4262 - val_accuracy: 0.8486 - val_precision: 0.8278 - val_recall: 0.9843\n"
          ]
        }
      ]
    },
    {
      "cell_type": "code",
      "source": [
        "plt.plot(model_history.history['loss'])\n",
        "plt.plot(model_history.history['val_loss'])\n",
        "plt.title('Model Loss')\n",
        "plt.ylabel('loss')\n",
        "plt.xlabel('Epochs')\n",
        "plt.legend(['train','validation'],loc='upper right')\n",
        "plt.show()"
      ],
      "metadata": {
        "colab": {
          "base_uri": "https://localhost:8080/",
          "height": 472
        },
        "id": "NYFXCuA_lDuK",
        "outputId": "9e6bd249-85d3-49b5-ea57-319251f52212"
      },
      "id": "NYFXCuA_lDuK",
      "execution_count": 1628,
      "outputs": [
        {
          "output_type": "display_data",
          "data": {
            "text/plain": [
              "<Figure size 640x480 with 1 Axes>"
            ],
            "image/png": "[encoded data removed]"
          },
          "metadata": {}
        }
      ]
    },
    {
      "cell_type": "code",
      "source": [
        "plt.plot(model_history.history['accuracy'])\n",
        "plt.plot(model_history.history['val_accuracy'])\n",
        "plt.title('Model accuracy')\n",
        "plt.ylabel('accuracy')\n",
        "plt.xlabel('Epochs')\n",
        "plt.legend(['train','validation'],loc='upper left')\n",
        "plt.show()"
      ],
      "metadata": {
        "colab": {
          "base_uri": "https://localhost:8080/",
          "height": 472
        },
        "id": "_5sUktVjlDnt",
        "outputId": "93e02995-47b8-4c82-a2e5-d689d8293ab4"
      },
      "id": "_5sUktVjlDnt",
      "execution_count": 1629,
      "outputs": [
        {
          "output_type": "display_data",
          "data": {
            "text/plain": [
              "<Figure size 640x480 with 1 Axes>"
            ],
            "image/png": "[encoded data removed]"
          },
          "metadata": {}
        }
      ]
    },
    {
      "cell_type": "code",
      "source": [
        "fig, ax = plt.subplots(1, 4, figsize=(20, 3))\n",
        "ax = ax.ravel()\n",
        "\n",
        "for i, met in enumerate(['precision', 'recall', 'accuracy', 'loss']):\n",
        "    ax[i].plot(model_history.history[met])\n",
        "    ax[i].plot(model_history.history['val_' + met])\n",
        "    ax[i].set_title('Model {}'.format(met))\n",
        "    ax[i].set_xlabel('epochs')\n",
        "    ax[i].set_ylabel(met)\n",
        "    ax[i].legend(['train', 'val'])"
      ],
      "metadata": {
        "colab": {
          "base_uri": "https://localhost:8080/",
          "height": 296
        },
        "id": "ZIv3k2hspTEh",
        "outputId": "d7dca38b-afff-440a-bd92-979d372d816f"
      },
      "id": "ZIv3k2hspTEh",
      "execution_count": 1641,
      "outputs": [
        {
          "output_type": "display_data",
          "data": {
            "text/plain": [
              "<Figure size 2000x300 with 4 Axes>"
            ],
            "image/png": "[encoded data removed]"
          },
          "metadata": {}
        }
      ]
    },
    {
      "cell_type": "code",
      "source": [
        "#load best weights\n",
        "model.load_weights('best_weight.h5')"
      ],
      "metadata": {
        "id": "s6arI69rlDlY"
      },
      "id": "s6arI69rlDlY",
      "execution_count": 1631,
      "outputs": []
    },
    {
      "cell_type": "code",
      "source": [
        "#save whole model(weight + architechure)\n",
        "model.save('model.h5')"
      ],
      "metadata": {
        "id": "JciWpfK3lDi9"
      },
      "id": "JciWpfK3lDi9",
      "execution_count": 1632,
      "outputs": []
    },
    {
      "cell_type": "code",
      "source": [
        "loaded_model=tf.keras.models.load_model('model.h5')"
      ],
      "metadata": {
        "id": "4HGsz81XlDgA"
      },
      "id": "4HGsz81XlDgA",
      "execution_count": 1633,
      "outputs": []
    },
    {
      "cell_type": "code",
      "source": [
        "loaded_model"
      ],
      "metadata": {
        "colab": {
          "base_uri": "https://localhost:8080/"
        },
        "id": "kJxZNGBMlDdJ",
        "outputId": "8813a533-eea1-47a0-9680-d37f1836e131"
      },
      "id": "kJxZNGBMlDdJ",
      "execution_count": 1634,
      "outputs": [
        {
          "output_type": "execute_result",
          "data": {
            "text/plain": [
              "<keras.engine.sequential.Sequential at 0x7f1fc921e730>"
            ]
          },
          "metadata": {},
          "execution_count": 1634
        }
      ]
    },
    {
      "cell_type": "code",
      "source": [
        "loss , acc , prec, rec = loaded_model.evaluate(x_test,y_test)"
      ],
      "metadata": {
        "colab": {
          "base_uri": "https://localhost:8080/"
        },
        "id": "sN6UYp5en6os",
        "outputId": "134da83e-25ca-414f-a66e-fa068e65ae60"
      },
      "id": "sN6UYp5en6os",
      "execution_count": 1637,
      "outputs": [
        {
          "output_type": "stream",
          "name": "stdout",
          "text": [
            "6/6 [==============================] - 1s 7ms/step - loss: 0.4261 - accuracy: 0.8486 - precision: 0.8278 - recall: 0.9843\n"
          ]
        }
      ]
    },
    {
      "cell_type": "code",
      "source": [
        "print(\"Loss:\",loss)\n",
        "print(\"Testing Accuracy:\",acc)\n",
        "print(\"Testing Precision:\",prec)\n",
        "print(\"Testing Recall:\",rec)"
      ],
      "metadata": {
        "colab": {
          "base_uri": "https://localhost:8080/"
        },
        "id": "firEE8F0oUmo",
        "outputId": "43b0f45c-e016-429f-9aa5-0c18562b9764"
      },
      "id": "firEE8F0oUmo",
      "execution_count": 1639,
      "outputs": [
        {
          "output_type": "stream",
          "name": "stdout",
          "text": [
            "Loss: 0.4261353313922882\n",
            "Testing Accuracy: 0.8486486673355103\n",
            "Testing Precision: 0.8278145790100098\n",
            "Testing Recall: 0.9842519760131836\n"
          ]
        }
      ]
    },
    {
      "cell_type": "code",
      "source": [],
      "metadata": {
        "id": "l_L51MAwokRY"
      },
      "id": "l_L51MAwokRY",
      "execution_count": null,
      "outputs": []
    }
  ],
  "metadata": {
    "kernelspec": {
      "display_name": "Python 3 (ipykernel)",
      "language": "python",
      "name": "python3"
    },
    "language_info": {
      "codemirror_mode": {
        "name": "ipython",
        "version": 3
      },
      "file_extension": ".py",
      "mimetype": "text/x-python",
      "name": "python",
      "nbconvert_exporter": "python",
      "pygments_lexer": "ipython3",
      "version": "3.8.8"
    },
    "colab": {
      "provenance": [],
      "include_colab_link": true
    }
  },
  "nbformat": 4,
  "nbformat_minor": 5
}